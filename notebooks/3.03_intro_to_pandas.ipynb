{
 "cells": [
  {
   "cell_type": "markdown",
   "id": "ff53e4d4",
   "metadata": {},
   "source": [
    "# Intro to `pandas` "
   ]
  },
  {
   "cell_type": "markdown",
   "id": "2e09b5c9",
   "metadata": {},
   "source": [
    "There are a very large number of open-source libraries we can import. \n",
    "\n",
    "The Python data analysis package `pandas` is a favorite: https://pandas.pydata.org/\n",
    "\n",
    "Pandas is based on using **Dataframes**. They allow us to store data as panels in  rows and columns. You may have encountered this data structure in R or Matlab. If not, you can think of the approach as similar to how you use a spreadsheet (except with far greater flexibility and power in Python).\n",
    "\n",
    "In this tutorial, we will focus on manipulation of dataframes using pandas. "
   ]
  },
  {
   "cell_type": "markdown",
   "id": "c1b07664",
   "metadata": {},
   "source": [
    "<div class=\"alert alert-block alert-info\">\n",
    "    \n",
    "<b>Note:</b> There are several sub-libraries of pandas such as geopandas for geospatial data that you can always harness their power while performing highly specialised tasks. In the next tutorial we will cover geopandas.\n",
    "</div>"
   ]
  },
  {
   "cell_type": "markdown",
   "id": "acbeab85",
   "metadata": {},
   "source": [
    "To begin working with dataframes, we first install and import pandas (as we did for packages in previous sessions). "
   ]
  },
  {
   "cell_type": "markdown",
   "id": "eeb842fd",
   "metadata": {},
   "source": [
    "<div class=\"alert alert-block alert-warning\">\n",
    "\n",
    "<b>!! Note !!</b> Pandas is not part of most python distribution packages hence it should be installed where it is not available before starting the tutorial. You may need to exit and reinstall. \n",
    "\n",
    "</div>"
   ]
  },
  {
   "cell_type": "code",
   "execution_count": 1,
   "id": "88466074",
   "metadata": {},
   "outputs": [],
   "source": [
    "# Example\n",
    "# import sys\n",
    "# !conda install --yes --prefix {sys.prefix} pandas\n",
    "import pandas as pd"
   ]
  },
  {
   "cell_type": "markdown",
   "id": "a97a9176",
   "metadata": {},
   "source": [
    "## Creating a `pandas` dataframe"
   ]
  },
  {
   "cell_type": "markdown",
   "id": "63d4a4ce",
   "metadata": {},
   "source": [
    "Here we are focusing on ways of creating dataframes. However, in most day-to-day programming, you are likely to work with data in other formats which you can convert to dataframe by a single line of code. "
   ]
  },
  {
   "cell_type": "markdown",
   "id": "0870ce31",
   "metadata": {},
   "source": [
    "Nevertheless, dataframes can be created by converting lists to dictionaries and then to a dataframe. "
   ]
  },
  {
   "cell_type": "markdown",
   "id": "927b8cfb",
   "metadata": {},
   "source": [
    "First, let's create a list with our information."
   ]
  },
  {
   "cell_type": "code",
   "execution_count": 22,
   "id": "75c3e8b9",
   "metadata": {},
   "outputs": [],
   "source": [
    "# Example\n",
    "country = ['US','UK','France','Germany','Rwanda']\n",
    "iso3 = ['USA','GBR','FRA','DEU','RWA']\n",
    "regional_level = [2,2,2,2,1]\n",
    "income_group = ['HIC','HIC','HIC','HIC','LIC']\n",
    "continent = ['North America','Europe','Europe','Europe','Africa']"
   ]
  },
  {
   "cell_type": "markdown",
   "id": "88d18153",
   "metadata": {},
   "source": [
    "Next, we need to combine the lists into a dictionary:"
   ]
  },
  {
   "cell_type": "code",
   "execution_count": 23,
   "id": "9551913f",
   "metadata": {},
   "outputs": [
    {
     "data": {
      "text/plain": [
       "{'country': ['US', 'UK', 'France', 'Germany', 'Rwanda'],\n",
       " 'iso3': ['USA', 'GBR', 'FRA', 'DEU', 'RWA'],\n",
       " 'regional_level': [2, 2, 2, 2, 1],\n",
       " 'income_group': ['HIC', 'HIC', 'HIC', 'HIC', 'LIC'],\n",
       " 'continent': ['North America', 'Europe', 'Europe', 'Europe', 'Africa']}"
      ]
     },
     "execution_count": 23,
     "metadata": {},
     "output_type": "execute_result"
    }
   ],
   "source": [
    "# Example\n",
    "country_data = {\n",
    "    'country': country,\n",
    "    'iso3': iso3,\n",
    "    'regional_level': regional_level,\n",
    "    'income_group': income_group,\n",
    "    'continent': continent\n",
    "}\n",
    "country_data"
   ]
  },
  {
   "cell_type": "markdown",
   "id": "d7be90f8",
   "metadata": {},
   "source": [
    "Finally, we convert the dictionary into dataframe using the `pandas` library function `.DataFrame()`."
   ]
  },
  {
   "cell_type": "code",
   "execution_count": 24,
   "id": "4d3ad879",
   "metadata": {},
   "outputs": [
    {
     "data": {
      "text/html": [
       "<div>\n",
       "<style scoped>\n",
       "    .dataframe tbody tr th:only-of-type {\n",
       "        vertical-align: middle;\n",
       "    }\n",
       "\n",
       "    .dataframe tbody tr th {\n",
       "        vertical-align: top;\n",
       "    }\n",
       "\n",
       "    .dataframe thead th {\n",
       "        text-align: right;\n",
       "    }\n",
       "</style>\n",
       "<table border=\"1\" class=\"dataframe\">\n",
       "  <thead>\n",
       "    <tr style=\"text-align: right;\">\n",
       "      <th></th>\n",
       "      <th>country</th>\n",
       "      <th>iso3</th>\n",
       "      <th>regional_level</th>\n",
       "      <th>income_group</th>\n",
       "      <th>continent</th>\n",
       "    </tr>\n",
       "  </thead>\n",
       "  <tbody>\n",
       "    <tr>\n",
       "      <th>0</th>\n",
       "      <td>US</td>\n",
       "      <td>USA</td>\n",
       "      <td>2</td>\n",
       "      <td>HIC</td>\n",
       "      <td>North America</td>\n",
       "    </tr>\n",
       "    <tr>\n",
       "      <th>1</th>\n",
       "      <td>UK</td>\n",
       "      <td>GBR</td>\n",
       "      <td>2</td>\n",
       "      <td>HIC</td>\n",
       "      <td>Europe</td>\n",
       "    </tr>\n",
       "    <tr>\n",
       "      <th>2</th>\n",
       "      <td>France</td>\n",
       "      <td>FRA</td>\n",
       "      <td>2</td>\n",
       "      <td>HIC</td>\n",
       "      <td>Europe</td>\n",
       "    </tr>\n",
       "    <tr>\n",
       "      <th>3</th>\n",
       "      <td>Germany</td>\n",
       "      <td>DEU</td>\n",
       "      <td>2</td>\n",
       "      <td>HIC</td>\n",
       "      <td>Europe</td>\n",
       "    </tr>\n",
       "    <tr>\n",
       "      <th>4</th>\n",
       "      <td>Rwanda</td>\n",
       "      <td>RWA</td>\n",
       "      <td>1</td>\n",
       "      <td>LIC</td>\n",
       "      <td>Africa</td>\n",
       "    </tr>\n",
       "  </tbody>\n",
       "</table>\n",
       "</div>"
      ],
      "text/plain": [
       "   country iso3  regional_level income_group      continent\n",
       "0       US  USA               2          HIC  North America\n",
       "1       UK  GBR               2          HIC         Europe\n",
       "2   France  FRA               2          HIC         Europe\n",
       "3  Germany  DEU               2          HIC         Europe\n",
       "4   Rwanda  RWA               1          LIC         Africa"
      ]
     },
     "execution_count": 24,
     "metadata": {},
     "output_type": "execute_result"
    }
   ],
   "source": [
    "# Example\n",
    "df = pd.DataFrame(country_data)\n",
    "df"
   ]
  },
  {
   "cell_type": "markdown",
   "id": "1867c592",
   "metadata": {},
   "source": [
    "The prepared dataframe can be converted to other formats such as excel spreadsheet or CSV files, Example;"
   ]
  },
  {
   "cell_type": "code",
   "execution_count": 25,
   "id": "f94e8590",
   "metadata": {},
   "outputs": [],
   "source": [
    "# Example\n",
    "df.to_csv('country_information.csv')"
   ]
  },
  {
   "cell_type": "markdown",
   "id": "4b8de87c",
   "metadata": {},
   "source": [
    "## Exercise\n",
    "\n",
    "Have a go at manually creating a `pandas` dataframe called 'point_data' using the following:\n",
    "\n",
    "    - A column called 'id' containing four numbers from 0-3.\n",
    "    - A column called 'longitude' containing 0.02, 0.05, 0.06 and 0.08.\n",
    "    - A column called 'latitude' containing 1.54, 1.65, 1.48 and 1.59.\n",
    "    - A column called 'filename' containing 'layer1.tiff', 'layer2.tiff', 'layer3.tiff' and 'layer4.tiff'.\n",
    "    \n",
    "Write this dataframe to a .csv file called 'point_data.csv'. \n",
    "        "
   ]
  },
  {
   "cell_type": "code",
   "execution_count": null,
   "id": "20123e76",
   "metadata": {},
   "outputs": [],
   "source": [
    "#Enter your attempt below:\n"
   ]
  },
  {
   "cell_type": "markdown",
   "id": "9dacb58a",
   "metadata": {},
   "source": [
    "## Accessing data"
   ]
  },
  {
   "cell_type": "markdown",
   "id": "0ce64b82",
   "metadata": {},
   "source": [
    "`pandas` provides a lot of functionality. For example, you can view the first few rows of data using the 'head' function:"
   ]
  },
  {
   "cell_type": "code",
   "execution_count": 7,
   "id": "b2f9b768",
   "metadata": {},
   "outputs": [
    {
     "data": {
      "text/html": [
       "<div>\n",
       "<style scoped>\n",
       "    .dataframe tbody tr th:only-of-type {\n",
       "        vertical-align: middle;\n",
       "    }\n",
       "\n",
       "    .dataframe tbody tr th {\n",
       "        vertical-align: top;\n",
       "    }\n",
       "\n",
       "    .dataframe thead th {\n",
       "        text-align: right;\n",
       "    }\n",
       "</style>\n",
       "<table border=\"1\" class=\"dataframe\">\n",
       "  <thead>\n",
       "    <tr style=\"text-align: right;\">\n",
       "      <th></th>\n",
       "      <th>name</th>\n",
       "      <th>iso3</th>\n",
       "      <th>regional_level</th>\n",
       "      <th>income_group</th>\n",
       "      <th>continent</th>\n",
       "    </tr>\n",
       "  </thead>\n",
       "  <tbody>\n",
       "    <tr>\n",
       "      <th>0</th>\n",
       "      <td>US</td>\n",
       "      <td>USA</td>\n",
       "      <td>2</td>\n",
       "      <td>HIC</td>\n",
       "      <td>North America</td>\n",
       "    </tr>\n",
       "    <tr>\n",
       "      <th>1</th>\n",
       "      <td>UK</td>\n",
       "      <td>GBR</td>\n",
       "      <td>2</td>\n",
       "      <td>HIC</td>\n",
       "      <td>Europe</td>\n",
       "    </tr>\n",
       "  </tbody>\n",
       "</table>\n",
       "</div>"
      ],
      "text/plain": [
       "  name iso3  regional_level income_group      continent\n",
       "0   US  USA               2          HIC  North America\n",
       "1   UK  GBR               2          HIC         Europe"
      ]
     },
     "execution_count": 7,
     "metadata": {},
     "output_type": "execute_result"
    }
   ],
   "source": [
    "# Example\n",
    "df.head(n=2)"
   ]
  },
  {
   "cell_type": "markdown",
   "id": "0404dfcb",
   "metadata": {},
   "source": [
    "You can view the last few rows of your data using the 'tail' function."
   ]
  },
  {
   "cell_type": "code",
   "execution_count": 8,
   "id": "ddd84dc1",
   "metadata": {},
   "outputs": [
    {
     "data": {
      "text/html": [
       "<div>\n",
       "<style scoped>\n",
       "    .dataframe tbody tr th:only-of-type {\n",
       "        vertical-align: middle;\n",
       "    }\n",
       "\n",
       "    .dataframe tbody tr th {\n",
       "        vertical-align: top;\n",
       "    }\n",
       "\n",
       "    .dataframe thead th {\n",
       "        text-align: right;\n",
       "    }\n",
       "</style>\n",
       "<table border=\"1\" class=\"dataframe\">\n",
       "  <thead>\n",
       "    <tr style=\"text-align: right;\">\n",
       "      <th></th>\n",
       "      <th>name</th>\n",
       "      <th>iso3</th>\n",
       "      <th>regional_level</th>\n",
       "      <th>income_group</th>\n",
       "      <th>continent</th>\n",
       "    </tr>\n",
       "  </thead>\n",
       "  <tbody>\n",
       "    <tr>\n",
       "      <th>3</th>\n",
       "      <td>Germany</td>\n",
       "      <td>DEU</td>\n",
       "      <td>2</td>\n",
       "      <td>HIC</td>\n",
       "      <td>Europe</td>\n",
       "    </tr>\n",
       "    <tr>\n",
       "      <th>4</th>\n",
       "      <td>Rwanda</td>\n",
       "      <td>RWA</td>\n",
       "      <td>1</td>\n",
       "      <td>LIC</td>\n",
       "      <td>Africa</td>\n",
       "    </tr>\n",
       "  </tbody>\n",
       "</table>\n",
       "</div>"
      ],
      "text/plain": [
       "      name iso3  regional_level income_group continent\n",
       "3  Germany  DEU               2          HIC    Europe\n",
       "4   Rwanda  RWA               1          LIC    Africa"
      ]
     },
     "execution_count": 8,
     "metadata": {},
     "output_type": "execute_result"
    }
   ],
   "source": [
    "# Example\n",
    "df.tail(n=2)"
   ]
  },
  {
   "cell_type": "markdown",
   "id": "d683ecbb",
   "metadata": {},
   "source": [
    "You can know how many rows and columns are in your data using the shape function."
   ]
  },
  {
   "cell_type": "code",
   "execution_count": 9,
   "id": "c376dcb1",
   "metadata": {},
   "outputs": [
    {
     "data": {
      "text/plain": [
       "(5, 5)"
      ]
     },
     "execution_count": 9,
     "metadata": {},
     "output_type": "execute_result"
    }
   ],
   "source": [
    "# Example\n",
    "df.shape"
   ]
  },
  {
   "cell_type": "markdown",
   "id": "af4ba54e",
   "metadata": {},
   "source": [
    "You can know the name of columns by using the column function."
   ]
  },
  {
   "cell_type": "code",
   "execution_count": 10,
   "id": "8a3d3310",
   "metadata": {},
   "outputs": [
    {
     "data": {
      "text/plain": [
       "Index(['name', 'iso3', 'regional_level', 'income_group', 'continent'], dtype='object')"
      ]
     },
     "execution_count": 10,
     "metadata": {},
     "output_type": "execute_result"
    }
   ],
   "source": [
    "# Example\n",
    "df.columns"
   ]
  },
  {
   "cell_type": "markdown",
   "id": "ad6dde9e",
   "metadata": {},
   "source": [
    "You can access a single columns using the following syntax."
   ]
  },
  {
   "cell_type": "code",
   "execution_count": 11,
   "id": "3b07e701",
   "metadata": {},
   "outputs": [
    {
     "data": {
      "text/plain": [
       "0    USA\n",
       "1    GBR\n",
       "2    FRA\n",
       "3    DEU\n",
       "4    RWA\n",
       "Name: iso3, dtype: object"
      ]
     },
     "execution_count": 11,
     "metadata": {},
     "output_type": "execute_result"
    }
   ],
   "source": [
    "# Example\n",
    "df['iso3']"
   ]
  },
  {
   "cell_type": "markdown",
   "id": "b248cbdd",
   "metadata": {},
   "source": [
    "You can access multiple columns using the following line of code."
   ]
  },
  {
   "cell_type": "code",
   "execution_count": 12,
   "id": "44ec66fa",
   "metadata": {},
   "outputs": [
    {
     "data": {
      "text/html": [
       "<div>\n",
       "<style scoped>\n",
       "    .dataframe tbody tr th:only-of-type {\n",
       "        vertical-align: middle;\n",
       "    }\n",
       "\n",
       "    .dataframe tbody tr th {\n",
       "        vertical-align: top;\n",
       "    }\n",
       "\n",
       "    .dataframe thead th {\n",
       "        text-align: right;\n",
       "    }\n",
       "</style>\n",
       "<table border=\"1\" class=\"dataframe\">\n",
       "  <thead>\n",
       "    <tr style=\"text-align: right;\">\n",
       "      <th></th>\n",
       "      <th>name</th>\n",
       "      <th>iso3</th>\n",
       "    </tr>\n",
       "  </thead>\n",
       "  <tbody>\n",
       "    <tr>\n",
       "      <th>0</th>\n",
       "      <td>US</td>\n",
       "      <td>USA</td>\n",
       "    </tr>\n",
       "    <tr>\n",
       "      <th>1</th>\n",
       "      <td>UK</td>\n",
       "      <td>GBR</td>\n",
       "    </tr>\n",
       "    <tr>\n",
       "      <th>2</th>\n",
       "      <td>France</td>\n",
       "      <td>FRA</td>\n",
       "    </tr>\n",
       "    <tr>\n",
       "      <th>3</th>\n",
       "      <td>Germany</td>\n",
       "      <td>DEU</td>\n",
       "    </tr>\n",
       "    <tr>\n",
       "      <th>4</th>\n",
       "      <td>Rwanda</td>\n",
       "      <td>RWA</td>\n",
       "    </tr>\n",
       "  </tbody>\n",
       "</table>\n",
       "</div>"
      ],
      "text/plain": [
       "      name iso3\n",
       "0       US  USA\n",
       "1       UK  GBR\n",
       "2   France  FRA\n",
       "3  Germany  DEU\n",
       "4   Rwanda  RWA"
      ]
     },
     "execution_count": 12,
     "metadata": {},
     "output_type": "execute_result"
    }
   ],
   "source": [
    "# Example\n",
    "df[['name','iso3']]"
   ]
  },
  {
   "cell_type": "markdown",
   "id": "728f661a",
   "metadata": {},
   "source": [
    "You can access individual rows by specifying the row index, e.g;"
   ]
  },
  {
   "cell_type": "code",
   "execution_count": 13,
   "id": "032b0086",
   "metadata": {},
   "outputs": [
    {
     "data": {
      "text/plain": [
       "name              Germany\n",
       "iso3                  DEU\n",
       "regional_level          2\n",
       "income_group          HIC\n",
       "continent          Europe\n",
       "Name: 3, dtype: object"
      ]
     },
     "execution_count": 13,
     "metadata": {},
     "output_type": "execute_result"
    }
   ],
   "source": [
    "# Example\n",
    "df.loc[3]"
   ]
  },
  {
   "cell_type": "markdown",
   "id": "75f03274",
   "metadata": {},
   "source": [
    "You can access datapoints between a given range by;"
   ]
  },
  {
   "cell_type": "code",
   "execution_count": 15,
   "id": "5b2b7a02",
   "metadata": {},
   "outputs": [
    {
     "data": {
      "text/html": [
       "<div>\n",
       "<style scoped>\n",
       "    .dataframe tbody tr th:only-of-type {\n",
       "        vertical-align: middle;\n",
       "    }\n",
       "\n",
       "    .dataframe tbody tr th {\n",
       "        vertical-align: top;\n",
       "    }\n",
       "\n",
       "    .dataframe thead th {\n",
       "        text-align: right;\n",
       "    }\n",
       "</style>\n",
       "<table border=\"1\" class=\"dataframe\">\n",
       "  <thead>\n",
       "    <tr style=\"text-align: right;\">\n",
       "      <th></th>\n",
       "      <th>name</th>\n",
       "      <th>iso3</th>\n",
       "      <th>regional_level</th>\n",
       "      <th>income_group</th>\n",
       "      <th>continent</th>\n",
       "    </tr>\n",
       "  </thead>\n",
       "  <tbody>\n",
       "    <tr>\n",
       "      <th>2</th>\n",
       "      <td>France</td>\n",
       "      <td>FRA</td>\n",
       "      <td>2</td>\n",
       "      <td>HIC</td>\n",
       "      <td>Europe</td>\n",
       "    </tr>\n",
       "    <tr>\n",
       "      <th>3</th>\n",
       "      <td>Germany</td>\n",
       "      <td>DEU</td>\n",
       "      <td>2</td>\n",
       "      <td>HIC</td>\n",
       "      <td>Europe</td>\n",
       "    </tr>\n",
       "    <tr>\n",
       "      <th>4</th>\n",
       "      <td>Rwanda</td>\n",
       "      <td>RWA</td>\n",
       "      <td>1</td>\n",
       "      <td>LIC</td>\n",
       "      <td>Africa</td>\n",
       "    </tr>\n",
       "  </tbody>\n",
       "</table>\n",
       "</div>"
      ],
      "text/plain": [
       "      name iso3  regional_level income_group continent\n",
       "2   France  FRA               2          HIC    Europe\n",
       "3  Germany  DEU               2          HIC    Europe\n",
       "4   Rwanda  RWA               1          LIC    Africa"
      ]
     },
     "execution_count": 15,
     "metadata": {},
     "output_type": "execute_result"
    }
   ],
   "source": [
    "# Example\n",
    "df.loc[2:4]"
   ]
  },
  {
   "cell_type": "markdown",
   "id": "85491c14",
   "metadata": {},
   "source": [
    "You can access data of specific attributes by subsetting. Eg regional levels over 1."
   ]
  },
  {
   "cell_type": "code",
   "execution_count": 16,
   "id": "e84856df",
   "metadata": {},
   "outputs": [
    {
     "data": {
      "text/html": [
       "<div>\n",
       "<style scoped>\n",
       "    .dataframe tbody tr th:only-of-type {\n",
       "        vertical-align: middle;\n",
       "    }\n",
       "\n",
       "    .dataframe tbody tr th {\n",
       "        vertical-align: top;\n",
       "    }\n",
       "\n",
       "    .dataframe thead th {\n",
       "        text-align: right;\n",
       "    }\n",
       "</style>\n",
       "<table border=\"1\" class=\"dataframe\">\n",
       "  <thead>\n",
       "    <tr style=\"text-align: right;\">\n",
       "      <th></th>\n",
       "      <th>name</th>\n",
       "      <th>iso3</th>\n",
       "      <th>regional_level</th>\n",
       "      <th>income_group</th>\n",
       "      <th>continent</th>\n",
       "    </tr>\n",
       "  </thead>\n",
       "  <tbody>\n",
       "    <tr>\n",
       "      <th>0</th>\n",
       "      <td>US</td>\n",
       "      <td>USA</td>\n",
       "      <td>2</td>\n",
       "      <td>HIC</td>\n",
       "      <td>North America</td>\n",
       "    </tr>\n",
       "    <tr>\n",
       "      <th>1</th>\n",
       "      <td>UK</td>\n",
       "      <td>GBR</td>\n",
       "      <td>2</td>\n",
       "      <td>HIC</td>\n",
       "      <td>Europe</td>\n",
       "    </tr>\n",
       "    <tr>\n",
       "      <th>2</th>\n",
       "      <td>France</td>\n",
       "      <td>FRA</td>\n",
       "      <td>2</td>\n",
       "      <td>HIC</td>\n",
       "      <td>Europe</td>\n",
       "    </tr>\n",
       "    <tr>\n",
       "      <th>3</th>\n",
       "      <td>Germany</td>\n",
       "      <td>DEU</td>\n",
       "      <td>2</td>\n",
       "      <td>HIC</td>\n",
       "      <td>Europe</td>\n",
       "    </tr>\n",
       "  </tbody>\n",
       "</table>\n",
       "</div>"
      ],
      "text/plain": [
       "      name iso3  regional_level income_group      continent\n",
       "0       US  USA               2          HIC  North America\n",
       "1       UK  GBR               2          HIC         Europe\n",
       "2   France  FRA               2          HIC         Europe\n",
       "3  Germany  DEU               2          HIC         Europe"
      ]
     },
     "execution_count": 16,
     "metadata": {},
     "output_type": "execute_result"
    }
   ],
   "source": [
    "# Example\n",
    "df[df['regional_level'] > 1]"
   ]
  },
  {
   "cell_type": "markdown",
   "id": "b556e38b",
   "metadata": {},
   "source": [
    "We can also to multiple subsets at the same time. For example, those over regional level 1 in Europe;"
   ]
  },
  {
   "cell_type": "code",
   "execution_count": 20,
   "id": "371cc8b7",
   "metadata": {},
   "outputs": [
    {
     "name": "stderr",
     "output_type": "stream",
     "text": [
      "C:\\Users\\edwar\\AppData\\Local\\Temp\\ipykernel_6940\\2383801531.py:2: UserWarning: Boolean Series key will be reindexed to match DataFrame index.\n",
      "  df[df['regional_level'] > 1][df['continent'] == 'Europe']\n"
     ]
    },
    {
     "data": {
      "text/html": [
       "<div>\n",
       "<style scoped>\n",
       "    .dataframe tbody tr th:only-of-type {\n",
       "        vertical-align: middle;\n",
       "    }\n",
       "\n",
       "    .dataframe tbody tr th {\n",
       "        vertical-align: top;\n",
       "    }\n",
       "\n",
       "    .dataframe thead th {\n",
       "        text-align: right;\n",
       "    }\n",
       "</style>\n",
       "<table border=\"1\" class=\"dataframe\">\n",
       "  <thead>\n",
       "    <tr style=\"text-align: right;\">\n",
       "      <th></th>\n",
       "      <th>name</th>\n",
       "      <th>iso3</th>\n",
       "      <th>regional_level</th>\n",
       "      <th>income_group</th>\n",
       "      <th>continent</th>\n",
       "    </tr>\n",
       "  </thead>\n",
       "  <tbody>\n",
       "    <tr>\n",
       "      <th>1</th>\n",
       "      <td>UK</td>\n",
       "      <td>GBR</td>\n",
       "      <td>2</td>\n",
       "      <td>HIC</td>\n",
       "      <td>Europe</td>\n",
       "    </tr>\n",
       "    <tr>\n",
       "      <th>2</th>\n",
       "      <td>France</td>\n",
       "      <td>FRA</td>\n",
       "      <td>2</td>\n",
       "      <td>HIC</td>\n",
       "      <td>Europe</td>\n",
       "    </tr>\n",
       "    <tr>\n",
       "      <th>3</th>\n",
       "      <td>Germany</td>\n",
       "      <td>DEU</td>\n",
       "      <td>2</td>\n",
       "      <td>HIC</td>\n",
       "      <td>Europe</td>\n",
       "    </tr>\n",
       "  </tbody>\n",
       "</table>\n",
       "</div>"
      ],
      "text/plain": [
       "      name iso3  regional_level income_group continent\n",
       "1       UK  GBR               2          HIC    Europe\n",
       "2   France  FRA               2          HIC    Europe\n",
       "3  Germany  DEU               2          HIC    Europe"
      ]
     },
     "execution_count": 20,
     "metadata": {},
     "output_type": "execute_result"
    }
   ],
   "source": [
    "# Example\n",
    "df[df['regional_level'] > 1][df['continent'] == 'Europe']"
   ]
  },
  {
   "cell_type": "markdown",
   "id": "08b83212",
   "metadata": {},
   "source": [
    "You can create add a new column to the existing dataframe as follows;"
   ]
  },
  {
   "cell_type": "code",
   "execution_count": 21,
   "id": "d0d307ea",
   "metadata": {},
   "outputs": [
    {
     "data": {
      "text/html": [
       "<div>\n",
       "<style scoped>\n",
       "    .dataframe tbody tr th:only-of-type {\n",
       "        vertical-align: middle;\n",
       "    }\n",
       "\n",
       "    .dataframe tbody tr th {\n",
       "        vertical-align: top;\n",
       "    }\n",
       "\n",
       "    .dataframe thead th {\n",
       "        text-align: right;\n",
       "    }\n",
       "</style>\n",
       "<table border=\"1\" class=\"dataframe\">\n",
       "  <thead>\n",
       "    <tr style=\"text-align: right;\">\n",
       "      <th></th>\n",
       "      <th>name</th>\n",
       "      <th>iso3</th>\n",
       "      <th>regional_level</th>\n",
       "      <th>income_group</th>\n",
       "      <th>continent</th>\n",
       "      <th>my_new_column</th>\n",
       "    </tr>\n",
       "  </thead>\n",
       "  <tbody>\n",
       "    <tr>\n",
       "      <th>0</th>\n",
       "      <td>US</td>\n",
       "      <td>USA</td>\n",
       "      <td>2</td>\n",
       "      <td>HIC</td>\n",
       "      <td>North America</td>\n",
       "      <td></td>\n",
       "    </tr>\n",
       "    <tr>\n",
       "      <th>1</th>\n",
       "      <td>UK</td>\n",
       "      <td>GBR</td>\n",
       "      <td>2</td>\n",
       "      <td>HIC</td>\n",
       "      <td>Europe</td>\n",
       "      <td></td>\n",
       "    </tr>\n",
       "    <tr>\n",
       "      <th>2</th>\n",
       "      <td>France</td>\n",
       "      <td>FRA</td>\n",
       "      <td>2</td>\n",
       "      <td>HIC</td>\n",
       "      <td>Europe</td>\n",
       "      <td></td>\n",
       "    </tr>\n",
       "    <tr>\n",
       "      <th>3</th>\n",
       "      <td>Germany</td>\n",
       "      <td>DEU</td>\n",
       "      <td>2</td>\n",
       "      <td>HIC</td>\n",
       "      <td>Europe</td>\n",
       "      <td></td>\n",
       "    </tr>\n",
       "    <tr>\n",
       "      <th>4</th>\n",
       "      <td>Rwanda</td>\n",
       "      <td>RWA</td>\n",
       "      <td>1</td>\n",
       "      <td>LIC</td>\n",
       "      <td>Africa</td>\n",
       "      <td></td>\n",
       "    </tr>\n",
       "  </tbody>\n",
       "</table>\n",
       "</div>"
      ],
      "text/plain": [
       "      name iso3  regional_level income_group      continent my_new_column\n",
       "0       US  USA               2          HIC  North America              \n",
       "1       UK  GBR               2          HIC         Europe              \n",
       "2   France  FRA               2          HIC         Europe              \n",
       "3  Germany  DEU               2          HIC         Europe              \n",
       "4   Rwanda  RWA               1          LIC         Africa              "
      ]
     },
     "execution_count": 21,
     "metadata": {},
     "output_type": "execute_result"
    }
   ],
   "source": [
    "# Example\n",
    "df['my_new_column'] = ''\n",
    "df"
   ]
  },
  {
   "cell_type": "markdown",
   "id": "ddac5c2b",
   "metadata": {},
   "source": [
    "## Exercise\n",
    "\n",
    "Now let's use the dataframe you created in the first exercise to practise extracting information.\n",
    "\n",
    "First, print the shape of 'point_data':"
   ]
  },
  {
   "cell_type": "code",
   "execution_count": null,
   "id": "9fcbf486",
   "metadata": {},
   "outputs": [],
   "source": [
    "#Enter your attempt below:\n"
   ]
  },
  {
   "cell_type": "markdown",
   "id": "1357edab",
   "metadata": {},
   "source": [
    "Now print the top 3 rows of 'point_data' to inspect the contents:"
   ]
  },
  {
   "cell_type": "code",
   "execution_count": null,
   "id": "75b555f2",
   "metadata": {},
   "outputs": [],
   "source": [
    "#Enter your attempt below:\n"
   ]
  },
  {
   "cell_type": "markdown",
   "id": "7f296486",
   "metadata": {},
   "source": [
    "Subset the 'filename' column, convert to a list, and inspect the contents:"
   ]
  },
  {
   "cell_type": "code",
   "execution_count": null,
   "id": "7c1b9852",
   "metadata": {},
   "outputs": [],
   "source": [
    "#Enter your attempt below:\n"
   ]
  },
  {
   "cell_type": "markdown",
   "id": "8a9dadda",
   "metadata": {},
   "source": [
    "Subset only the `longitude` and `latitude` columns, and then use a new function called `.to_dict('records')` to convert the dataframe of coordinates to a list of dicts:"
   ]
  },
  {
   "cell_type": "code",
   "execution_count": null,
   "id": "bcd9a229",
   "metadata": {},
   "outputs": [],
   "source": [
    "#Enter your attempt below:\n"
   ]
  },
  {
   "cell_type": "markdown",
   "id": "aac94a22",
   "metadata": {},
   "source": [
    "Next subset those rows which have a 'latitude' between 1.5 and 1.6:"
   ]
  },
  {
   "cell_type": "code",
   "execution_count": null,
   "id": "0cab2d71",
   "metadata": {},
   "outputs": [],
   "source": [
    "#Enter your attempt below:\n"
   ]
  },
  {
   "cell_type": "markdown",
   "id": "1d419d34",
   "metadata": {},
   "source": [
    "Finally, subset those rows which have a 'longitude' between 0.05 and 0.1:"
   ]
  },
  {
   "cell_type": "code",
   "execution_count": null,
   "id": "d86de326",
   "metadata": {},
   "outputs": [],
   "source": [
    "#Enter your attempt below:\n"
   ]
  }
 ],
 "metadata": {
  "kernelspec": {
   "display_name": "Python 3",
   "language": "python",
   "name": "python3"
  },
  "language_info": {
   "codemirror_mode": {
    "name": "ipython",
    "version": 3
   },
   "file_extension": ".py",
   "mimetype": "text/x-python",
   "name": "python",
   "nbconvert_exporter": "python",
   "pygments_lexer": "ipython3",
   "version": "3.9.12"
  }
 },
 "nbformat": 4,
 "nbformat_minor": 5
}
