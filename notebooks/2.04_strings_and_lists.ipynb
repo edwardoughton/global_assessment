{
 "cells": [
  {
   "cell_type": "markdown",
   "id": "e40f065e",
   "metadata": {},
   "source": [
    "# Strings and Lists\n",
    "\n",
    "In Python (and other computer languages), we have a range of different types of data structures.\n",
    "\n",
    "In this session we are going to cover the very basics."
   ]
  },
  {
   "cell_type": "markdown",
   "id": "8438f482",
   "metadata": {},
   "source": [
    "## Strings"
   ]
  },
  {
   "cell_type": "markdown",
   "id": "70cf7769",
   "metadata": {},
   "source": [
    "Strings consist of characters and symbols, often representing natural human language (as opposed to a computer language).\n",
    "\n",
    "Strings are handy for text manipulation, file modification, labelling of plots, requesting inputs from user, arguments in functions etc.\n",
    "\n",
    "They are created by enclosing a sequence of characters using pair of single of double quotes. It does not matter whether single or double but it should be consistent. \n",
    "\n",
    "Strings can be assigned variable names."
   ]
  },
  {
   "cell_type": "code",
   "execution_count": 1,
   "id": "a09c5c85",
   "metadata": {},
   "outputs": [
    {
     "data": {
      "text/plain": [
       "'this is my string'"
      ]
     },
     "execution_count": 1,
     "metadata": {},
     "output_type": "execute_result"
    }
   ],
   "source": [
    "# Example\n",
    "my_string = 'this is my string'\n",
    "my_string"
   ]
  },
  {
   "cell_type": "markdown",
   "id": "a435a8c0",
   "metadata": {},
   "source": [
    "Strings can be concatenated using the \"+\" operator:"
   ]
  },
  {
   "cell_type": "code",
   "execution_count": 2,
   "id": "9243cbb2",
   "metadata": {},
   "outputs": [
    {
     "data": {
      "text/plain": [
       "'Ed has a dog called George. George is a black labrador.'"
      ]
     },
     "execution_count": 2,
     "metadata": {},
     "output_type": "execute_result"
    }
   ],
   "source": [
    "# Example\n",
    "a = 'Ed has a dog called George.'\n",
    "b = 'George is a black labrador.'\n",
    "c = a + \" \" + b\n",
    "c"
   ]
  },
  {
   "cell_type": "markdown",
   "id": "3d89a007",
   "metadata": {},
   "source": [
    "Strings can also be made of numbers. This might catch you out from time to time (!). You need to pay attention to the quotation marks, which denote a string."
   ]
  },
  {
   "cell_type": "code",
   "execution_count": 3,
   "id": "97da18b2",
   "metadata": {},
   "outputs": [],
   "source": [
    "# Example\n",
    "d = '345'\n",
    "e = 345"
   ]
  },
  {
   "cell_type": "markdown",
   "id": "e217382d",
   "metadata": {},
   "source": [
    "The variable `d` is a string while `e` is an integer. What do you think will happen if we add them?"
   ]
  },
  {
   "cell_type": "markdown",
   "id": "a77010e0",
   "metadata": {},
   "source": [
    "(Remember `d` is a string, so you won't get 690. Instead, you will get the string repeated twice, so '345345')"
   ]
  },
  {
   "cell_type": "code",
   "execution_count": 4,
   "id": "8c371c1e",
   "metadata": {},
   "outputs": [
    {
     "data": {
      "text/plain": [
       "'345345'"
      ]
     },
     "execution_count": 4,
     "metadata": {},
     "output_type": "execute_result"
    }
   ],
   "source": [
    "# Example\n",
    "d + d\n",
    "\n",
    "# Answer: '345345'"
   ]
  },
  {
   "cell_type": "markdown",
   "id": "61743d89",
   "metadata": {},
   "source": [
    "You can also insert a value into a string using the `format()` function. You just need to add a curly parantheses `{}` to the point where you want to add the additional characters. \n",
    "\n",
    "You will see this often in this course, especially as it is very handy when printing the values used in loops."
   ]
  },
  {
   "cell_type": "code",
   "execution_count": 7,
   "id": "64da43b5",
   "metadata": {},
   "outputs": [
    {
     "data": {
      "text/plain": [
       "'We can insert a value into our string like so: 2'"
      ]
     },
     "execution_count": 7,
     "metadata": {},
     "output_type": "execute_result"
    }
   ],
   "source": [
    "# Example\n",
    "my_number = 2\n",
    "my_variable = \"We can insert a value into our string like so: {}\".format(my_number)\n",
    "my_variable"
   ]
  },
  {
   "cell_type": "markdown",
   "id": "72b24038",
   "metadata": {},
   "source": [
    "## Exercise\n",
    "\n",
    "Allocate your first name as a string to the variable `my_first_name`:"
   ]
  },
  {
   "cell_type": "code",
   "execution_count": null,
   "id": "faa34131",
   "metadata": {},
   "outputs": [],
   "source": [
    "# Enter your attempt here\n"
   ]
  },
  {
   "cell_type": "markdown",
   "id": "bd459525",
   "metadata": {},
   "source": [
    "Now allocate your second name as a string to the variable `my_second_name`:"
   ]
  },
  {
   "cell_type": "code",
   "execution_count": null,
   "id": "ac17dd9e",
   "metadata": {},
   "outputs": [],
   "source": [
    "# Enter your attempt here\n"
   ]
  },
  {
   "cell_type": "markdown",
   "id": "fa0f1803",
   "metadata": {},
   "source": [
    "Try to concatenate your names, but add a space in the middle (thus, if you get \"JackSparrow\", this would be incorrect)."
   ]
  },
  {
   "cell_type": "code",
   "execution_count": null,
   "id": "4debcc9b",
   "metadata": {},
   "outputs": [],
   "source": [
    "# Enter your attempt here\n"
   ]
  },
  {
   "cell_type": "markdown",
   "id": "9f8eb6d1",
   "metadata": {},
   "source": [
    "Create a variable named `course_number` and allocate it the value 16. Then try add this course number into the `course_code` variable \"GGS\" using the `format()` function. You should end up with a variable called `course_code` with the string `GGS16` allocated to it. "
   ]
  },
  {
   "cell_type": "code",
   "execution_count": null,
   "id": "1114c9f2",
   "metadata": {},
   "outputs": [],
   "source": [
    "# Enter your attempt here\n"
   ]
  },
  {
   "cell_type": "markdown",
   "id": "011b4e34",
   "metadata": {},
   "source": [
    "## Lists"
   ]
  },
  {
   "cell_type": "markdown",
   "id": "a6393f94",
   "metadata": {},
   "source": [
    "Lists consist of one or more elements and can contain any data type such as numbers, strings, floats, bools or both. \n",
    "\n",
    "Lists are defined by a pair of square brackets with individual elements separated by commas."
   ]
  },
  {
   "cell_type": "code",
   "execution_count": 8,
   "id": "effb7a04",
   "metadata": {},
   "outputs": [
    {
     "data": {
      "text/plain": [
       "[2017, 2018, 2019, 2020, 2021]"
      ]
     },
     "execution_count": 8,
     "metadata": {},
     "output_type": "execute_result"
    }
   ],
   "source": [
    "# Example\n",
    "a = [2017,2018,2019,2020,2021]\n",
    "a"
   ]
  },
  {
   "cell_type": "code",
   "execution_count": 9,
   "id": "51573cd7",
   "metadata": {},
   "outputs": [
    {
     "data": {
      "text/plain": [
       "[2.0, 'GMU', 14, 'GGS', 2021]"
      ]
     },
     "execution_count": 9,
     "metadata": {},
     "output_type": "execute_result"
    }
   ],
   "source": [
    "# Example\n",
    "b = [2.0,\"GMU\",14,\"GGS\",2021]\n",
    "b"
   ]
  },
  {
   "cell_type": "markdown",
   "id": "68c1b360",
   "metadata": {},
   "source": [
    "Individual elements within a list can be accessed using a variable name with square brackets as follows;"
   ]
  },
  {
   "cell_type": "code",
   "execution_count": 10,
   "id": "bf40a35e",
   "metadata": {},
   "outputs": [
    {
     "data": {
      "text/plain": [
       "2.0"
      ]
     },
     "execution_count": 10,
     "metadata": {},
     "output_type": "execute_result"
    }
   ],
   "source": [
    "# Example\n",
    "b[0]"
   ]
  },
  {
   "cell_type": "code",
   "execution_count": 11,
   "id": "0288fa55",
   "metadata": {},
   "outputs": [
    {
     "data": {
      "text/plain": [
       "'GMU'"
      ]
     },
     "execution_count": 11,
     "metadata": {},
     "output_type": "execute_result"
    }
   ],
   "source": [
    "# Example\n",
    "b[1]"
   ]
  },
  {
   "cell_type": "code",
   "execution_count": 12,
   "id": "0db6828d",
   "metadata": {},
   "outputs": [
    {
     "data": {
      "text/plain": [
       "'GGS'"
      ]
     },
     "execution_count": 12,
     "metadata": {},
     "output_type": "execute_result"
    }
   ],
   "source": [
    "# Example\n",
    "b[3]"
   ]
  },
  {
   "cell_type": "markdown",
   "id": "b743a4c3",
   "metadata": {},
   "source": [
    "Proper programming languages, such as python and C, index lists starting from 0 (!). This is known as \"zero indexing\". \n",
    "\n",
    "Zero indexing will definitely catch a few people out during this class, but learning it will help you think like a computer programmer : ]\n",
    "\n",
    "The last element in list `b` is `b[4]` because the list has 5 elements and it can be accessed as `b[-1]` also.\n",
    "\n",
    "The lists can be accessed in reverse but starting with -1:"
   ]
  },
  {
   "cell_type": "code",
   "execution_count": 13,
   "id": "b1953220",
   "metadata": {},
   "outputs": [
    {
     "data": {
      "text/plain": [
       "2021"
      ]
     },
     "execution_count": 13,
     "metadata": {},
     "output_type": "execute_result"
    }
   ],
   "source": [
    "# Example\n",
    "b[-1]"
   ]
  },
  {
   "cell_type": "markdown",
   "id": "1fff6286",
   "metadata": {},
   "source": [
    "Which is the same as manually indexing the last value (but you may not always know how long the list is!!)."
   ]
  },
  {
   "cell_type": "code",
   "execution_count": 14,
   "id": "eb825277",
   "metadata": {},
   "outputs": [
    {
     "data": {
      "text/plain": [
       "2021"
      ]
     },
     "execution_count": 14,
     "metadata": {},
     "output_type": "execute_result"
    }
   ],
   "source": [
    "# Example\n",
    "b[4]"
   ]
  },
  {
   "cell_type": "markdown",
   "id": "aca7ac5c",
   "metadata": {},
   "source": [
    "The individual elements within the list can be changed."
   ]
  },
  {
   "cell_type": "code",
   "execution_count": 16,
   "id": "a9c71283",
   "metadata": {},
   "outputs": [
    {
     "data": {
      "text/plain": [
       "[2.0, 'GMU', 14, 'GGS', 2021]"
      ]
     },
     "execution_count": 16,
     "metadata": {},
     "output_type": "execute_result"
    }
   ],
   "source": [
    "b"
   ]
  },
  {
   "cell_type": "code",
   "execution_count": 18,
   "id": "140f466d",
   "metadata": {},
   "outputs": [
    {
     "data": {
      "text/plain": [
       "[4.0, 'GMU', 14, 'GGS', 2021]"
      ]
     },
     "execution_count": 18,
     "metadata": {},
     "output_type": "execute_result"
    }
   ],
   "source": [
    "# Example: We can manipulate the underlying value\n",
    "b[0] = b[0] + 1\n",
    "b"
   ]
  },
  {
   "cell_type": "code",
   "execution_count": 19,
   "id": "febdf6a3",
   "metadata": {},
   "outputs": [
    {
     "data": {
      "text/plain": [
       "[4.0, 'GMU', 'Semester', 'GGS', 2021]"
      ]
     },
     "execution_count": 19,
     "metadata": {},
     "output_type": "execute_result"
    }
   ],
   "source": [
    "# Example: Or we can completely write over it\n",
    "b[2] = 'Semester'\n",
    "b"
   ]
  },
  {
   "cell_type": "markdown",
   "id": "1c9ae2c3",
   "metadata": {},
   "source": [
    "In the above example, 1 has been added to the previous value of `b[0]` and the number 14 was replaced with string \"Semester\".\n",
    "\n",
    "Individual elements within a list can also be manipulated."
   ]
  },
  {
   "cell_type": "code",
   "execution_count": 20,
   "id": "f3e730e8",
   "metadata": {},
   "outputs": [
    {
     "data": {
      "text/plain": [
       "[4.0, 'GMU', 'Semester', 'GGS -', 2021]"
      ]
     },
     "execution_count": 20,
     "metadata": {},
     "output_type": "execute_result"
    }
   ],
   "source": [
    "# Example\n",
    "b[3] = b[3] + \" -\"\n",
    "b"
   ]
  },
  {
   "cell_type": "markdown",
   "id": "0567622e",
   "metadata": {},
   "source": [
    "We can also reverse the order of the list:"
   ]
  },
  {
   "cell_type": "code",
   "execution_count": 21,
   "id": "f418a9e4",
   "metadata": {},
   "outputs": [
    {
     "data": {
      "text/plain": [
       "[2021, 'GGS -', 'Semester', 'GMU', 4.0]"
      ]
     },
     "execution_count": 21,
     "metadata": {},
     "output_type": "execute_result"
    }
   ],
   "source": [
    "# Example\n",
    "b = b[::-1]\n",
    "b"
   ]
  },
  {
   "cell_type": "markdown",
   "id": "2bcbb8c2",
   "metadata": {},
   "source": [
    "A key feature of lists is that they can be added together. This is a really important thing to remember. "
   ]
  },
  {
   "cell_type": "code",
   "execution_count": 22,
   "id": "00af54e7",
   "metadata": {},
   "outputs": [
    {
     "data": {
      "text/plain": [
       "[2017, 2018, 2019, 2020, 2021]"
      ]
     },
     "execution_count": 22,
     "metadata": {},
     "output_type": "execute_result"
    }
   ],
   "source": [
    "# Example\n",
    "a #our current list"
   ]
  },
  {
   "cell_type": "code",
   "execution_count": 23,
   "id": "da57ab71",
   "metadata": {},
   "outputs": [
    {
     "data": {
      "text/plain": [
       "[2017, 2018, 2019, 2020, 2021, 2017, 2018, 2019, 2020, 2021]"
      ]
     },
     "execution_count": 23,
     "metadata": {},
     "output_type": "execute_result"
    }
   ],
   "source": [
    "# Example\n",
    "a+a #now we have a single list, but containing all elements from list 'a' twice!"
   ]
  },
  {
   "cell_type": "code",
   "execution_count": 24,
   "id": "c3f17d46",
   "metadata": {},
   "outputs": [
    {
     "data": {
      "text/plain": [
       "[2017,\n",
       " 2018,\n",
       " 2019,\n",
       " 2020,\n",
       " 2021,\n",
       " 2017,\n",
       " 2018,\n",
       " 2019,\n",
       " 2020,\n",
       " 2021,\n",
       " 2017,\n",
       " 2018,\n",
       " 2019,\n",
       " 2020,\n",
       " 2021]"
      ]
     },
     "execution_count": 24,
     "metadata": {},
     "output_type": "execute_result"
    }
   ],
   "source": [
    "# Example\n",
    "a+a+a #now we have a single list, but containing all elements from list 'a' thrice!"
   ]
  },
  {
   "cell_type": "markdown",
   "id": "ad814f9d",
   "metadata": {},
   "source": [
    "Note how the individual elements *are not added*, but the two data structures are combined into a single list. \n",
    "\n",
    "This is called **concatenating** in computer science lingo. "
   ]
  },
  {
   "cell_type": "code",
   "execution_count": 25,
   "id": "72727712",
   "metadata": {},
   "outputs": [
    {
     "data": {
      "text/plain": [
       "[2017, 2018, 2019, 2020, 2021, 2021, 'GGS -', 'Semester', 'GMU', 4.0]"
      ]
     },
     "execution_count": 25,
     "metadata": {},
     "output_type": "execute_result"
    }
   ],
   "source": [
    "a + b"
   ]
  },
  {
   "cell_type": "markdown",
   "id": "01f68498",
   "metadata": {},
   "source": [
    "#### Slicing Lists "
   ]
  },
  {
   "cell_type": "markdown",
   "id": "a0c9f26f",
   "metadata": {},
   "source": [
    "Parts of lists can be accessed using the *slicing* feature. "
   ]
  },
  {
   "cell_type": "code",
   "execution_count": 26,
   "id": "840b63d2",
   "metadata": {},
   "outputs": [
    {
     "data": {
      "text/plain": [
       "[2021, 'GGS -', 'Semester', 'GMU', 4.0]"
      ]
     },
     "execution_count": 26,
     "metadata": {},
     "output_type": "execute_result"
    }
   ],
   "source": [
    "# So if we have our list b:\n",
    "b"
   ]
  },
  {
   "cell_type": "code",
   "execution_count": 27,
   "id": "d1a00353",
   "metadata": {},
   "outputs": [
    {
     "data": {
      "text/plain": [
       "[2021, 'GGS -', 'Semester']"
      ]
     },
     "execution_count": 27,
     "metadata": {},
     "output_type": "execute_result"
    }
   ],
   "source": [
    "# We can slice it for just the first three elements by specifying b[0:3]\n",
    "b[0:3]\n",
    "\n",
    "# So this literally means for our list 'b', I want to index into the list \n",
    "# (thus the square brackets '[]'), and then extract from position 0-3. "
   ]
  },
  {
   "cell_type": "markdown",
   "id": "5eef15ce",
   "metadata": {},
   "source": [
    "Alternatively, we can cut from the third position onwards, as follows:"
   ]
  },
  {
   "cell_type": "code",
   "execution_count": 28,
   "id": "9318290f",
   "metadata": {},
   "outputs": [
    {
     "data": {
      "text/plain": [
       "['GMU', 4.0]"
      ]
     },
     "execution_count": 28,
     "metadata": {},
     "output_type": "execute_result"
    }
   ],
   "source": [
    "b[3:]"
   ]
  },
  {
   "cell_type": "markdown",
   "id": "d900f439",
   "metadata": {},
   "source": [
    "Or from the start of the list until the third position:"
   ]
  },
  {
   "cell_type": "code",
   "execution_count": 29,
   "id": "a2622ee1",
   "metadata": {},
   "outputs": [
    {
     "data": {
      "text/plain": [
       "[2021, 'GGS -', 'Semester']"
      ]
     },
     "execution_count": 29,
     "metadata": {},
     "output_type": "execute_result"
    }
   ],
   "source": [
    "b[:3]"
   ]
  },
  {
   "cell_type": "markdown",
   "id": "3f0c5296",
   "metadata": {},
   "source": [
    "A length of a list can be accessed using the *len* function.\n",
    "\n",
    "This is a really useful function which is used all the time, so remember it!"
   ]
  },
  {
   "cell_type": "code",
   "execution_count": 30,
   "id": "1966a03a",
   "metadata": {},
   "outputs": [
    {
     "data": {
      "text/plain": [
       "5"
      ]
     },
     "execution_count": 30,
     "metadata": {},
     "output_type": "execute_result"
    }
   ],
   "source": [
    "len(b)"
   ]
  },
  {
   "cell_type": "markdown",
   "id": "a3c54e49",
   "metadata": {},
   "source": [
    "#### Appending to a List"
   ]
  },
  {
   "cell_type": "markdown",
   "id": "344c8b57",
   "metadata": {},
   "source": [
    "An element can be added at the end of a given list using the **append** function. "
   ]
  },
  {
   "cell_type": "code",
   "execution_count": 42,
   "id": "9776ef52",
   "metadata": {},
   "outputs": [
    {
     "data": {
      "text/plain": [
       "['New York', 'Virginia', 'Washington', 'Delaware', 'Maryland']"
      ]
     },
     "execution_count": 42,
     "metadata": {},
     "output_type": "execute_result"
    }
   ],
   "source": [
    "states = ['New York', 'Virginia', 'Washington', 'Delaware', 'Maryland']\n",
    "states"
   ]
  },
  {
   "cell_type": "code",
   "execution_count": 43,
   "id": "8c92451c",
   "metadata": {},
   "outputs": [
    {
     "data": {
      "text/plain": [
       "['New York',\n",
       " 'Virginia',\n",
       " 'Washington',\n",
       " 'Delaware',\n",
       " 'Maryland',\n",
       " 'North Carolina']"
      ]
     },
     "execution_count": 43,
     "metadata": {},
     "output_type": "execute_result"
    }
   ],
   "source": [
    "states.append('North Carolina')\n",
    "states"
   ]
  },
  {
   "cell_type": "markdown",
   "id": "976d4003",
   "metadata": {},
   "source": [
    "<div class=\"alert alert-block alert-info\">\n",
    "    \n",
    "<b>Note:</b> *append* works by adding the element after the last one in the existing list. \n",
    "</div>"
   ]
  },
  {
   "cell_type": "markdown",
   "id": "34800693",
   "metadata": {},
   "source": [
    "Sometimes it might be necessary to add an element at a specific position in a list. This can be achieved using the **insert** function. The position is specified followed by the element. Example;"
   ]
  },
  {
   "cell_type": "code",
   "execution_count": 44,
   "id": "5dac395c",
   "metadata": {},
   "outputs": [
    {
     "data": {
      "text/plain": [
       "['New York',\n",
       " 'Virginia',\n",
       " 'Washington',\n",
       " 'West Virginia',\n",
       " 'Delaware',\n",
       " 'Maryland',\n",
       " 'North Carolina']"
      ]
     },
     "execution_count": 44,
     "metadata": {},
     "output_type": "execute_result"
    }
   ],
   "source": [
    "states.insert(3,'West Virginia')\n",
    "states"
   ]
  },
  {
   "cell_type": "markdown",
   "id": "df61fb1e",
   "metadata": {},
   "source": [
    "An element of a list can be removed using the **remove** function. This is done by specifying the element."
   ]
  },
  {
   "cell_type": "code",
   "execution_count": 45,
   "id": "a267b94b",
   "metadata": {},
   "outputs": [
    {
     "name": "stdout",
     "output_type": "stream",
     "text": [
      "['New York', 'Virginia', 'West Virginia', 'Delaware', 'Maryland', 'North Carolina']\n"
     ]
    }
   ],
   "source": [
    "states.remove('Washington')\n",
    "print(states)"
   ]
  },
  {
   "cell_type": "markdown",
   "id": "cc9e269f",
   "metadata": {},
   "source": [
    "Python **del** function can also be used in place of remove. The advantage is that it only accepts the index of the element and not necessary the element which might always return an error due to spelling or case sensitivity. Example, to remove Las Vegas from the list;"
   ]
  },
  {
   "cell_type": "code",
   "execution_count": 46,
   "id": "77b6f32d",
   "metadata": {},
   "outputs": [
    {
     "data": {
      "text/plain": [
       "['New York', 'Virginia', 'West Virginia', 'Maryland', 'North Carolina']"
      ]
     },
     "execution_count": 46,
     "metadata": {},
     "output_type": "execute_result"
    }
   ],
   "source": [
    "del states[3]\n",
    "states"
   ]
  },
  {
   "cell_type": "markdown",
   "id": "1faa6894",
   "metadata": {},
   "source": [
    "## Exercise\n",
    "\n",
    "We covered a lot of information on lists, but this is because they are a really useful data structure, and we will use them all the time on this class. \n"
   ]
  },
  {
   "cell_type": "markdown",
   "id": "0fd214ff",
   "metadata": {},
   "source": [
    "Create a list called `my_list` and add your height, hair color, and favourite band/musical artist. "
   ]
  },
  {
   "cell_type": "code",
   "execution_count": null,
   "id": "ed0ccc4a",
   "metadata": {},
   "outputs": [],
   "source": [
    "# Enter your attempt here\n"
   ]
  },
  {
   "cell_type": "markdown",
   "id": "1f1b1136",
   "metadata": {},
   "source": [
    "Create another list called `my_list2` and place your degree name (e.g., 'GGS') and the number 12."
   ]
  },
  {
   "cell_type": "code",
   "execution_count": null,
   "id": "17481624",
   "metadata": {},
   "outputs": [],
   "source": [
    "# Enter your attempt here\n"
   ]
  },
  {
   "cell_type": "markdown",
   "id": "f8217d25",
   "metadata": {},
   "source": [
    "Concatenate these data structures into a list called `meta_list`:"
   ]
  },
  {
   "cell_type": "code",
   "execution_count": null,
   "id": "ff5b92ec",
   "metadata": {},
   "outputs": [],
   "source": [
    "# Enter your attempt here\n"
   ]
  },
  {
   "cell_type": "markdown",
   "id": "bbe6999c",
   "metadata": {},
   "source": [
    "Reverse the `meta_list`:"
   ]
  },
  {
   "cell_type": "code",
   "execution_count": null,
   "id": "69cf78a4",
   "metadata": {},
   "outputs": [],
   "source": [
    "# Enter your attempt here\n"
   ]
  },
  {
   "cell_type": "markdown",
   "id": "8691137a",
   "metadata": {},
   "source": [
    "Append your birth year to your list:"
   ]
  },
  {
   "cell_type": "code",
   "execution_count": null,
   "id": "41cf5783",
   "metadata": {},
   "outputs": [],
   "source": [
    "# Enter your attempt here\n"
   ]
  },
  {
   "cell_type": "markdown",
   "id": "9b960d42",
   "metadata": {},
   "source": [
    "For this list, separate out the second and forth values: `['a', 'b', 'c', 'd', 'e']`:\n",
    "        "
   ]
  },
  {
   "cell_type": "code",
   "execution_count": null,
   "id": "7c5a9972",
   "metadata": {},
   "outputs": [],
   "source": [
    "# Enter your attempt here\n"
   ]
  }
 ],
 "metadata": {
  "kernelspec": {
   "display_name": "Python 3",
   "language": "python",
   "name": "python3"
  },
  "language_info": {
   "codemirror_mode": {
    "name": "ipython",
    "version": 3
   },
   "file_extension": ".py",
   "mimetype": "text/x-python",
   "name": "python",
   "nbconvert_exporter": "python",
   "pygments_lexer": "ipython3",
   "version": "3.9.12"
  }
 },
 "nbformat": 4,
 "nbformat_minor": 5
}
