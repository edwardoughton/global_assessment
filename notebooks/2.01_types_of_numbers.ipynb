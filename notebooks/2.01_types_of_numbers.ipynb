{
 "cells": [
  {
   "cell_type": "markdown",
   "id": "92bbfa7d",
   "metadata": {},
   "source": [
    "# Types of Numbers"
   ]
  },
  {
   "cell_type": "markdown",
   "id": "5a522de4",
   "metadata": {},
   "source": [
    "### a. Plain Integers "
   ]
  },
  {
   "cell_type": "markdown",
   "id": "fcb5ff78",
   "metadata": {},
   "source": [
    "Whole numbers are know as integers or `ints` (in math/computer science) and consist of 32 binary digits extending from -2^31 (-2147483648) to 2^31 (2147483647).\n",
    "\n",
    "Python automatically treats a number as an integer if it is written without a decimal point and is within the bounds stated above. \n",
    "\n",
    "If the number is beyond the given bounds, it is known as a **long integer** and designaed as such by an L symbol. \n",
    "\n",
    "When operating on existing integers, which produce other whole numbers, the answer should also be an integer. "
   ]
  },
  {
   "cell_type": "code",
   "execution_count": null,
   "id": "7fa4856f",
   "metadata": {},
   "outputs": [],
   "source": [
    "# Example\n",
    "14*3"
   ]
  },
  {
   "cell_type": "code",
   "execution_count": null,
   "id": "c16e6a49",
   "metadata": {},
   "outputs": [],
   "source": [
    "# Example\n",
    "5+6*4-(12*2)"
   ]
  },
  {
   "cell_type": "markdown",
   "id": "a4add5db",
   "metadata": {},
   "source": [
    "We are also able to convert numbers to integers, so for example we can use the `int()` function.\n",
    "\n",
    "Try to convert 2.000 into an integer using the `int()` function.\n",
    "\n",
    "Have a go below:"
   ]
  },
  {
   "cell_type": "code",
   "execution_count": null,
   "id": "2696269e",
   "metadata": {},
   "outputs": [],
   "source": [
    "# Example\n",
    "# Enter your attempt below:\n"
   ]
  },
  {
   "cell_type": "markdown",
   "id": "21364ee1",
   "metadata": {},
   "source": [
    "### b. Floating Points"
   ]
  },
  {
   "cell_type": "markdown",
   "id": "e31ee564",
   "metadata": {},
   "source": [
    "Floats (as they are known) rational numbers and may have fractional part.\n",
    "\n",
    "They range between ±2*10^-308 to ±2*10^308.\n",
    "\n",
    "They are written in python by introducing a period punctuation mark at the end of the integer to indicate a decimal.\n",
    "\n",
    "So, the value of pi when written in full notation (e.g., 3.14) should produce a float when printed to the console.  \n",
    "\n",
    "Have a go below:"
   ]
  },
  {
   "cell_type": "code",
   "execution_count": null,
   "id": "2265cd23",
   "metadata": {},
   "outputs": [],
   "source": [
    "# Example\n",
    "# Enter your attempt below:\n"
   ]
  },
  {
   "cell_type": "markdown",
   "id": "4ff41d12",
   "metadata": {},
   "source": [
    "We can also transform an integer to a float using the `float()` function.\n",
    "\n",
    "So try enter the number 9 as an integer into the `float()` function, and then observe the output."
   ]
  },
  {
   "cell_type": "code",
   "execution_count": null,
   "id": "4b2411c6",
   "metadata": {},
   "outputs": [],
   "source": [
    "# Example\n",
    "# Enter your attempt below:\n"
   ]
  },
  {
   "cell_type": "markdown",
   "id": "9ee04cf1",
   "metadata": {},
   "source": [
    "And, you can also change it back again using the `int()` function again. "
   ]
  },
  {
   "cell_type": "code",
   "execution_count": null,
   "id": "83dc276f",
   "metadata": {},
   "outputs": [],
   "source": [
    "# Example\n",
    "# Enter your attempt below:\n"
   ]
  },
  {
   "cell_type": "markdown",
   "id": "dcf11f9a",
   "metadata": {},
   "source": [
    "We can actually find out the type of a number using python's inbuilt function, **type**.\n",
    "\n",
    "As this is a function, e.g., `type()`, you need to place the number or variable you want to query in the function brackets/parentheses. \n",
    "\n",
    "Have a go below for the value of pi (so, 3.14), as well as for the integer 80:"
   ]
  },
  {
   "cell_type": "code",
   "execution_count": null,
   "id": "cc475ea7",
   "metadata": {},
   "outputs": [],
   "source": [
    "# Example\n",
    "# Enter your attempt below:\n"
   ]
  },
  {
   "cell_type": "markdown",
   "id": "d5b26751",
   "metadata": {},
   "source": [
    "## Exercise 1\n",
    "\n",
    "Work through the following two examples. Have a go at obtaining and explaining the answers. "
   ]
  },
  {
   "cell_type": "markdown",
   "id": "dfe4e23f",
   "metadata": {},
   "source": [
    "Convert 2.0 into an integer and multiply the result by 3.0. What do you get and why?"
   ]
  },
  {
   "cell_type": "code",
   "execution_count": null,
   "id": "400b8775",
   "metadata": {},
   "outputs": [],
   "source": [
    "# Example\n",
    "# Enter your attempt below:\n"
   ]
  },
  {
   "cell_type": "markdown",
   "id": "ddcf3e79",
   "metadata": {},
   "source": [
    "Now convert both 2.0 and 3.0 to integers and multiply. What do you get and why?"
   ]
  },
  {
   "cell_type": "code",
   "execution_count": null,
   "id": "105c5067",
   "metadata": {},
   "outputs": [],
   "source": [
    "# Example\n",
    "# Enter your attempt below:\n"
   ]
  }
 ],
 "metadata": {
  "kernelspec": {
   "display_name": "Python 3",
   "language": "python",
   "name": "python3"
  },
  "language_info": {
   "codemirror_mode": {
    "name": "ipython",
    "version": 3
   },
   "file_extension": ".py",
   "mimetype": "text/x-python",
   "name": "python",
   "nbconvert_exporter": "python",
   "pygments_lexer": "ipython3",
   "version": "3.9.12"
  }
 },
 "nbformat": 4,
 "nbformat_minor": 5
}
