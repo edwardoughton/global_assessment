{
 "cells": [
  {
   "cell_type": "markdown",
   "id": "d19b0189",
   "metadata": {},
   "source": [
    "# Working with coastal flooding data\n",
    "\n",
    "In this tutorial we are going to get started working with coastal flooding data. \n",
    "\n",
    "You will remember we used the Aqueduct product previously for riverine flooding from the World Resources Institute. We will also utilize this same resource for the analysis presented here. \n",
    "\n",
    "See here: https://www.wri.org/\n",
    "\n",
    "We have a similar set of scenario variables we will cover here, including:\n",
    "\n",
    "- Climate scenarios\n",
    "- Confidence intervals\n",
    "- Projection years\n",
    "- Return periods\n",
    "\n",
    "For coastal flooding, the projections refer to simulations of sea level change derived from the RISES-AM project. Three different probabilities for sea level change are available: 5%, 50% and 95%.\n"
   ]
  },
  {
   "cell_type": "code",
   "execution_count": 1,
   "id": "24aa9245",
   "metadata": {},
   "outputs": [
    {
     "data": {
      "text/html": [
       "<iframe width=\"560\" height=\"315\" src=\"https://www.youtube.com/embed/6tesHVSZJOg\" title=\"YouTube video player\" frameborder=\"0\" allow=\"accelerometer; autoplay; clipboard-write; encrypted-media; gyroscope; picture-in-picture; web-share\" allowfullscreen></iframe>\n"
      ],
      "text/plain": [
       "<IPython.core.display.HTML object>"
      ]
     },
     "metadata": {},
     "output_type": "display_data"
    }
   ],
   "source": [
    "%%HTML\n",
    "<iframe width=\"560\" height=\"315\" src=\"https://www.youtube.com/embed/6tesHVSZJOg\" title=\"YouTube video player\" frameborder=\"0\" allow=\"accelerometer; autoplay; clipboard-write; encrypted-media; gyroscope; picture-in-picture; web-share\" allowfullscreen></iframe>"
   ]
  },
  {
   "cell_type": "markdown",
   "id": "15e1eefe",
   "metadata": {},
   "source": [
    "## Exercise 1.1\n",
    "\n",
    "Navigate to the WRI Aqueduct flood tool and familiarize yourself with the layers provided.\n",
    "\n",
    "See here: https://www.wri.org/aqueduct/tools\n",
    "\n",
    "Explore the impacts of flooding in New York City and the Tampa Bay area of Florida."
   ]
  },
  {
   "cell_type": "markdown",
   "id": "680ecd18",
   "metadata": {},
   "source": [
    "# Downloading raw WRI Aqueduct data layers\n",
    "\n",
    "We want to download the global data for us to explore on our own machine. \n",
    "\n",
    "Visit the WRI Aqueduct download page:\n",
    "\n",
    "http://wri-projects.s3.amazonaws.com/AqueductFloodTool/download/v2/index.html\n",
    "    \n",
    "Download a .tif coastal flood layer from the RISES-AM model, for the RCP8.5 scenario with subsidence ('wtsub') projected to 2080, and a return period of 1-in-1000 years (thus, an annual probability of occurrence of 0.01%). \n",
    "\n",
    "Place the layer in `global_assessment/data/raw/flood_hazard`."
   ]
  },
  {
   "cell_type": "markdown",
   "id": "992b79ec",
   "metadata": {},
   "source": [
    "## Exercise 1.2\n",
    "\n",
    "\n",
    "For the Netherlands, use the code you recently developed to:\n",
    "\n",
    "    1) Process the national outline shapefile.\n",
    "    2) Process the regional boundaries.\n",
    "    3) Clip the coastal .tif file to the national boundary.\n",
    "    4) Convert the .tif flooded areas to a shapefile.\n",
    "    5) Visualize the flooded coastal areas by creating a map.\n",
    "\n",
    "This task builds on the content you used to produce assignments 2, 3 and 4.\n",
    "\n",
    "It might be helpful to split up the tasks into multiple notebooks:\n",
    "\n",
    "    - Notebook 1: Preprocessing of shapefiles.\n",
    "    - Notebook 2: Preprocessing of flooding layers.\n",
    "    - Notebook 3: Visualization of extracted data. \n",
    "\n",
    "\n"
   ]
  }
 ],
 "metadata": {
  "kernelspec": {
   "display_name": "Python 3",
   "language": "python",
   "name": "python3"
  },
  "language_info": {
   "codemirror_mode": {
    "name": "ipython",
    "version": 3
   },
   "file_extension": ".py",
   "mimetype": "text/x-python",
   "name": "python",
   "nbconvert_exporter": "python",
   "pygments_lexer": "ipython3",
   "version": "3.9.12"
  }
 },
 "nbformat": 4,
 "nbformat_minor": 5
}
