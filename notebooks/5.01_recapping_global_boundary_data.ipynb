{
 "cells": [
  {
   "cell_type": "markdown",
   "id": "77ebd09f",
   "metadata": {},
   "source": [
    "# Recapping global boundary data\n",
    "\n",
    "At the end of the last class, we covered how to filter and export country boundary information. \n",
    "\n",
    "Today we are going to cover some of the more complicated aspects of this code, by recapping on each step, and having you do some exercises on each part, before we put it all together. \n",
    "\n",
    "Generally, the key steps include:\n",
    "\n",
    "- Loading in the `countries.csv` metadata file using pandas.\n",
    "- Looping over each country (row) in our `countries.csv` metadata file.\n",
    "- Constraining the analysis to a single countries (for now).\n",
    "- Separating out variables of interest. \n",
    "- Specifying a country folder path. \n",
    "- Checking to see if the country folder path exists, and if not, creating it.\n",
    "- Specifying a country regions folder path. \n",
    "- Checking to see if the country regions folder path exists, and if not, creating it.\n",
    "- Specifying a global bounaries path for us to read in bespoke layer data. \n",
    "- Reading in existing global boundaries data.\n",
    "- Subsetting desired boundaries.\n",
    "- Specifying a global boundaries output path.\n",
    "- Writing out the global boundaries subset for a country of interest. \n"
   ]
  },
  {
   "cell_type": "markdown",
   "id": "8b49bb8f",
   "metadata": {},
   "source": [
    "And the code was specified as follows for Rwanda. Granted, this is *a lot*, therefore we will spend today going over individual vignettes, and then piece the whole lot together. "
   ]
  },
  {
   "cell_type": "code",
   "execution_count": null,
   "id": "697152bb",
   "metadata": {},
   "outputs": [],
   "source": [
    "# Example\n",
    "import os           # for basic operating system functions\n",
    "import pandas       # to load .csv data as a dataframe\n",
    "import geopandas    # to load shapefiles to a geodataframe\n",
    "\n",
    "path = os.path.join('..', 'data', 'countries.csv')\n",
    "countries = pandas.read_csv(path, encoding='latin-1')\n",
    "\n",
    "for idx, country in countries.iterrows():\n",
    "    \n",
    "    if not country['iso3'] == 'RWA': # if the current country iso3 does not match RWA...\n",
    "        continue                     # continue in the loop to the next country \n",
    "    \n",
    "    # subset variables of interest\n",
    "    iso3 = country['iso3']             \n",
    "    gid_region = country['gid_region']\n",
    "    \n",
    "    # specify folder out path\n",
    "    country_folder_path = os.path.join('..', 'data', 'processed', iso3)\n",
    "    if not os.path.exists(country_folder_path): # check if path exists or not\n",
    "        os.makedirs(country_folder_path)        # if not, create the path \n",
    "    \n",
    "    # specify folder out path for regions\n",
    "    regions_folder_path = os.path.join('..', 'data', 'processed', iso3, 'regions')\n",
    "    if not os.path.exists(regions_folder_path): # check if path exists or not\n",
    "        os.makedirs(regions_folder_path)        # if not, create the path \n",
    "    \n",
    "    # specify filename for desired layer, based on desired gid_region level (e.g., 1, 2 etc.)\n",
    "    filename = 'gadm36_{}.shp'.format(gid_region)\n",
    "    global_boundaries_path = os.path.join('..', 'data', 'raw', 'gadm36_levels_shp', filename) \n",
    "    \n",
    "    # load global boundaries data usin geopandas\n",
    "    global_boundaries = geopandas.read_file(global_boundaries_path)\n",
    "    \n",
    "    # subset boundaries which match the iso3 code of our desired the country - RWA\n",
    "    country_boundaries = global_boundaries[global_boundaries['GID_0'] == iso3]\n",
    "    \n",
    "    # specify the path out for the subset of boundaries \n",
    "    path_out = os.path.join('..', 'data', 'processed', iso3, 'regions', filename)\n",
    "    country_boundaries.to_file(path_out) # export bounaries to .shp file\n",
    "    \n",
    "    print(iso3, gid_region)"
   ]
  },
  {
   "cell_type": "markdown",
   "id": "eac961b8",
   "metadata": {},
   "source": [
    "## Selecting which countries to process\n",
    "\n",
    "Firstly, we can reexamine how we use **if logic** to decide which country(s) we want to analyze.\n",
    "\n",
    "For this analysis, the point is to confine the code to a small manageable area, where we can interrogate/validate what our codebase is doing. \n",
    "\n",
    "This is always how you should begin working on a problem. Get it right for a small defined area, you can easily check. And then you can scale up the analysis to a whole country or the whole world. \n",
    "\n",
    "It is assumed that you understand how to load the `countries.csv` metadata file, and then iterate over each country (thus, each row), one by one. \n"
   ]
  },
  {
   "cell_type": "code",
   "execution_count": null,
   "id": "9ae5f8fa",
   "metadata": {},
   "outputs": [],
   "source": [
    "# Example\n",
    "path = os.path.join('..', 'data', 'countries.csv')\n",
    "countries = pandas.read_csv(path, encoding='latin-1')\n",
    "\n",
    "for idx, country in countries.iterrows():\n",
    "    \n",
    "    if not country['iso3'] == 'RWA': # if the current country iso3 does not match RWA...\n",
    "        continue                     # continue in the loop to the next country \n",
    "        \n",
    "    print(iso3, gid_region)"
   ]
  },
  {
   "cell_type": "markdown",
   "id": "ff26a8f7",
   "metadata": {},
   "source": [
    "If this is complicated for you to understand, think of it like this (without the `not` first):\n",
    "\n",
    "(Remember an if function evaluates to `True` or `False`)"
   ]
  },
  {
   "cell_type": "code",
   "execution_count": null,
   "id": "d181bd83",
   "metadata": {
    "scrolled": true
   },
   "outputs": [],
   "source": [
    "# Example\n",
    "\n",
    "iso3 = 'RWA'\n",
    "\n",
    "if iso3 == 'RWA': \n",
    "    print('if iso3 == RWA is true') # if the current country iso3 does match RWA...\n",
    "else:\n",
    "    print('if iso3 == RWA is not true') # if the current country iso3 does not match RWA...\n",
    "\n",
    "if iso3 == 'USA': \n",
    "    print('if iso3 == USA is not')  # if the current country iso3 does match USA...\n",
    "else:\n",
    "    print('if iso3 == USA is not true') # if the current country iso3 does not match USA...\n",
    "    "
   ]
  },
  {
   "cell_type": "markdown",
   "id": "449bd0fc",
   "metadata": {},
   "source": [
    "Then we can add the `not` in."
   ]
  },
  {
   "cell_type": "code",
   "execution_count": null,
   "id": "88ba80b6",
   "metadata": {},
   "outputs": [],
   "source": [
    "# Example\n",
    "iso3 = 'RWA'\n",
    "\n",
    "if not iso3 == 'RWA': \n",
    "    print('if not iso3 == RWA is true') # if the current country iso3 does not match RWA...\n",
    "else:\n",
    "    print('if not iso3 == RWA is not true') # if the current country iso3 does match RWA...\n",
    "\n",
    "if not iso3 == 'USA': \n",
    "    print('if not iso3 == USA is true')  # if the current country iso3 does not match USA...\n",
    "else:\n",
    "    print('if not iso3 == USA is not true') # if the current country iso3 does match USA..."
   ]
  },
  {
   "cell_type": "markdown",
   "id": "73d3beaa",
   "metadata": {},
   "source": [
    "# Exercise\n",
    "\n",
    "Given this **if logic** ensures only Rwanda is processed, how would you change the loop to ensure every country is processed except Rwanda? Print the iso3 codes and gid_region levels to demonstrate. "
   ]
  },
  {
   "cell_type": "code",
   "execution_count": null,
   "id": "639466aa",
   "metadata": {},
   "outputs": [],
   "source": [
    "# Enter your attempt below:\n"
   ]
  },
  {
   "cell_type": "markdown",
   "id": "1184345d",
   "metadata": {},
   "source": [
    "And how would you change the code to ensure all countries are processed? Print the iso3 codes and gid_region levels to demonstrate. "
   ]
  },
  {
   "cell_type": "code",
   "execution_count": null,
   "id": "8da56277",
   "metadata": {},
   "outputs": [],
   "source": [
    "# Enter your attempt below:\n"
   ]
  },
  {
   "cell_type": "markdown",
   "id": "5883be69",
   "metadata": {},
   "source": [
    "The current code only matches for a single country iso3, for example: `if not country['iso3'] == 'RWA':`\n",
    "\n",
    "To process for a combination of countries you could replace the equals with `in`, and then check if the country iso3 is in a user-defined list of iso3 codes. Have a go for Azerbaijan and Kenya. \n"
   ]
  },
  {
   "cell_type": "code",
   "execution_count": null,
   "id": "78b89493",
   "metadata": {},
   "outputs": [],
   "source": [
    "# Enter your attempt below:\n"
   ]
  },
  {
   "cell_type": "markdown",
   "id": "cbe21396",
   "metadata": {},
   "source": [
    "## Country folder structure\n",
    "\n",
    "When we run our loop for all countries, we need to automate the creation of a sensible folder structure to store all our data. Generally, a sensible way is:\n",
    "\n",
    "    /data\n",
    "        /raw\n",
    "        /processed\n",
    "            /RWA\n",
    "                /regions\n",
    "            \n",
    "\n",
    "We are going to aim to create this folder structure. \n",
    "\n",
    "First, we can specify our path. Remember we are going to need to move from our current directory `/global_assessment/notebooks`, up into the parent folder, and then down into `data/processed/`."
   ]
  },
  {
   "cell_type": "code",
   "execution_count": null,
   "id": "e3bf1999",
   "metadata": {},
   "outputs": [],
   "source": [
    "# Example\n",
    "# specify folder path\n",
    "# remember '..' means to go up one folder\n",
    "country_folder_path = os.path.join('..', 'data', 'processed', iso3)\n",
    "country_folder_path"
   ]
  },
  {
   "cell_type": "markdown",
   "id": "17802dfb",
   "metadata": {},
   "source": [
    "Now we do not want to create this each time if we have already done so. \n",
    "\n",
    "Therefore, we need to be able to check if a path already exists.\n",
    "\n",
    "Let's use the `os.path.exists()` function to check if a path exists. "
   ]
  },
  {
   "cell_type": "code",
   "execution_count": null,
   "id": "aa07ac3e",
   "metadata": {},
   "outputs": [],
   "source": [
    "# Example\n",
    "\n",
    "country_folder_path = os.path.join('..', 'data', 'processed', iso3)\n",
    "\n",
    "if os.path.exists(country_folder_path): # check if path exists or not\n",
    "    print('path exists!')\n",
    "else:\n",
    "    print('path does not exist!')"
   ]
  },
  {
   "cell_type": "markdown",
   "id": "c87b6275",
   "metadata": {},
   "source": [
    "Now we can add in logic to our **if function**, for example, as we only want to create the folder if it does not already exist. Therefore, we need to use `if not os.path.exists()`."
   ]
  },
  {
   "cell_type": "code",
   "execution_count": null,
   "id": "0c7c0808",
   "metadata": {},
   "outputs": [],
   "source": [
    "# Example\n",
    "country_folder_path = os.path.join('..', 'data', 'processed', iso3)\n",
    "\n",
    "if not os.path.exists(country_folder_path): # check if path exists or not\n",
    "    print('then make the folder!')\n",
    "else:\n",
    "    print('do nothing if the path already exists!')"
   ]
  },
  {
   "cell_type": "markdown",
   "id": "46c8507b",
   "metadata": {},
   "source": [
    "Finally, we can throw in the function to create the path. \n",
    "\n",
    "We have multiple options:\n",
    "\n",
    "    - `os.mkdir()` <- can only create one folder at a time.\n",
    "    - `os.makedirs()` <- can create multiple new folders at a time.\n",
    "   \n",
    "For example, the following will cause an error, as 'test_directory1' does not exist.    "
   ]
  },
  {
   "cell_type": "code",
   "execution_count": null,
   "id": "38924897",
   "metadata": {},
   "outputs": [],
   "source": [
    "# Example\n",
    "\n",
    "example_path = os.path.join('..', 'data', 'processed', iso3, 'test_directory1', 'test_directory2')\n",
    "os.mkdir(example_path)"
   ]
  },
  {
   "cell_type": "markdown",
   "id": "0cbccd27",
   "metadata": {},
   "source": [
    "You would need to use `os.makedirs()`, so you could create multiple new directories at once. \n",
    "\n",
    "Let us now put all of that together: "
   ]
  },
  {
   "cell_type": "code",
   "execution_count": null,
   "id": "8a0d0d1a",
   "metadata": {},
   "outputs": [],
   "source": [
    "country_folder_path = os.path.join('..', 'data', 'processed', iso3, 'demo')\n",
    "\n",
    "if not os.path.exists(country_folder_path): # check if path exists or not\n",
    "    os.makedirs(country_folder_path)        # if not make the path directories"
   ]
  },
  {
   "cell_type": "markdown",
   "id": "950c95cd",
   "metadata": {},
   "source": [
    "# Exercise\n",
    "\n",
    "Create a set of new folder paths, for Rwanda, Azerbaijan and Kenya. \n",
    "\n",
    "- Create a loop which selects just these three countries. \n",
    "- Create a folder for each country within `global_assessment/processed/`\n",
    "- Create a `regions` folder for each country within each country's respective directory.\n",
    "- Also create a `hazards` folder within each country's respective directory. \n",
    "- The hazards folder will require a `flooding` folder within it (so `global_assessment/processed/RWA/hazards/flooding`.\n",
    "- The `flooding` folder will require a `regional` folder within it (so `global_assessment/processed/RWA/hazards/flooding/regional`.\n"
   ]
  },
  {
   "cell_type": "markdown",
   "id": "bf1f9e6c",
   "metadata": {},
   "source": [
    "## Specifying filenames in loops\n",
    "\n",
    "We know we have multiple GADM boundry layers, e.g. gid_0 for national boundaries, and gid_1 for level 1 boundaries. \n",
    "\n",
    "As each country requires different boundary layer files, we want to specify these in our loop, using the `countries.csv` metadata. \n",
    "\n",
    "Indeed, anytime you need to do something bespoke for each country, add in an additional column to the `countries.csv` metadata file. \n",
    "\n",
    "So we can start back with our loop where we extract the `gid_region` indicators we have already defined. Rwanda uses level 1, as follows:\n"
   ]
  },
  {
   "cell_type": "code",
   "execution_count": null,
   "id": "0b9aa4c0",
   "metadata": {},
   "outputs": [],
   "source": [
    "# Example\n",
    "path = os.path.join('..', 'data', 'countries.csv')\n",
    "countries = pandas.read_csv(path, encoding='latin-1')\n",
    "\n",
    "for idx, country in countries.iterrows():\n",
    "    \n",
    "    if not country['iso3'] == 'RWA': # if the current country iso3 does not match RWA...\n",
    "        continue                     # continue in the loop to the next country \n",
    "    \n",
    "    # subset variables of interest\n",
    "    iso3 = country['iso3']             \n",
    "    gid_region = country['gid_region']\n",
    "    \n",
    "    print(iso3, gid_region)"
   ]
  },
  {
   "cell_type": "markdown",
   "id": "6b75546d",
   "metadata": {},
   "source": [
    "We have already covered that we can edit a string using a variable by using curly brackets. \n",
    "\n",
    "This is a good example: `'gadm36_{}.shp'.format(gid_region)`"
   ]
  },
  {
   "cell_type": "code",
   "execution_count": null,
   "id": "6af57022",
   "metadata": {},
   "outputs": [],
   "source": [
    "# Example\n",
    "\n",
    "path = os.path.join('..', 'data', 'countries.csv')\n",
    "countries = pandas.read_csv(path, encoding='latin-1')\n",
    "\n",
    "for idx, country in countries.iterrows():\n",
    "    \n",
    "    if not country['iso3'] == 'RWA': # if the current country iso3 does not match RWA...\n",
    "        continue                     # continue in the loop to the next country \n",
    "    \n",
    "    # subset variables of interest\n",
    "    iso3 = country['iso3']             \n",
    "    gid_region = country['gid_region']\n",
    "        \n",
    "    # specify filename for desired layer, based on desired gid_region level (e.g., 1, 2 etc.)\n",
    "    filename = 'gadm36_{}.shp'.format(gid_region)\n",
    "    print(filename)\n",
    "    "
   ]
  },
  {
   "cell_type": "markdown",
   "id": "6dbed4e8",
   "metadata": {},
   "source": [
    "So hopefully you can see how this filename is changed based on the `gid_level` specified for each country in the `countries.csv` metadata.\n",
    "\n",
    "Now we can use geopandas to load in the file:"
   ]
  },
  {
   "cell_type": "code",
   "execution_count": null,
   "id": "865aca0c",
   "metadata": {},
   "outputs": [],
   "source": [
    "# Example\n",
    "\n",
    "path = os.path.join('..', 'data', 'countries.csv')\n",
    "countries = pandas.read_csv(path, encoding='latin-1')\n",
    "\n",
    "for idx, country in countries.iterrows():\n",
    "    \n",
    "    if not country['iso3'] == 'RWA': # if the current country iso3 does not match RWA...\n",
    "        continue                     # continue in the loop to the next country \n",
    "    \n",
    "    # subset variables of interest\n",
    "    iso3 = country['iso3']             \n",
    "    gid_region = country['gid_region']\n",
    "        \n",
    "    # specify filename for desired layer, based on desired gid_region level (e.g., 1, 2 etc.)\n",
    "    filename = 'gadm36_{}.shp'.format(gid_region)\n",
    "    global_boundaries_path = os.path.join('..', 'data', 'raw', 'gadm36_levels_shp', filename) \n",
    "    \n",
    "    # load global boundaries data usin geopandas\n",
    "    global_boundaries = geopandas.read_file(global_boundaries_path)\n",
    "    print(len(global_boundaries))\n",
    "    "
   ]
  },
  {
   "cell_type": "markdown",
   "id": "e63e6a48",
   "metadata": {},
   "source": [
    "Subsetting data should be something you are already familiar with. We covered subsetting in the pandas tutorials. \n",
    "\n",
    "For example, `global_boundaries[global_boundaries['GID_0'] == iso3]` will subset the global boundaries where the `GID_0` column value matches our iso3 code. \n",
    "\n",
    "Finally, we specify out output path, and write out the shapes using the geopandas function `to_file()`."
   ]
  },
  {
   "cell_type": "markdown",
   "id": "3e66f0ae",
   "metadata": {},
   "source": [
    "## Exercise\n",
    "\n",
    "Set up a coding example where you put what we have learnt today together for Rwanda, Azerbaijan and Kenya.\n",
    "\n",
    "This should include:\n",
    "\n",
    "    - The appropriate file structure.\n",
    "    - A subset of region shapefiles in the correct folder. \n"
   ]
  },
  {
   "cell_type": "markdown",
   "id": "29d8b4bb",
   "metadata": {},
   "source": [
    "Once complete, write and export the national boundary for each country, placing it in the main country folder (named `national_outline.shp`). \n",
    "\n",
    "Remember, start small for a single country, and once you have got the code working, then scale to other countries. \n",
    "\n",
    "Good luck!"
   ]
  }
 ],
 "metadata": {
  "kernelspec": {
   "display_name": "Python 3",
   "language": "python",
   "name": "python3"
  },
  "language_info": {
   "codemirror_mode": {
    "name": "ipython",
    "version": 3
   },
   "file_extension": ".py",
   "mimetype": "text/x-python",
   "name": "python",
   "nbconvert_exporter": "python",
   "pygments_lexer": "ipython3",
   "version": "3.9.12"
  }
 },
 "nbformat": 4,
 "nbformat_minor": 5
}
