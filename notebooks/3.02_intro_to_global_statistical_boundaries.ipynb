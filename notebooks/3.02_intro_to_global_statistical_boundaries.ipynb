{
 "cells": [
  {
   "cell_type": "markdown",
   "id": "f3849592",
   "metadata": {},
   "source": [
    "# Intro to global statistical boundaries\n",
    "\n",
    "Welcome to this session where we will cover a global statistical boundary dataset.\n",
    "\n",
    "\"GADM provides maps and spatial data for all countries and their sub-divisions. You can browse our maps or download the data to make your own maps.\"\n",
    "\n",
    "See the website here for further information and download information: https://gadm.org\n",
    "\n",
    "GADM provides the ability to map the administrative areas of all countries, at all levels of sub-division. \n",
    "\n",
    "GADM provides data at high spatial resolutions that includes an extensive set of attributes. "
   ]
  },
  {
   "cell_type": "markdown",
   "id": "b726ec7f",
   "metadata": {},
   "source": [
    "## What is a country?\n",
    "\n",
    "In GADM, a \"country\" is any entity with an ISO country code. Frequently these are not sovereign states. \n",
    "\n",
    "For example Greenland is an \"ISO-country\", and so are the Faroe Islands, and so is Denmark. Together these three ISO-countries form the Kingdom of Denmark, a single state (or country --- but not for GADM). \n",
    "\n",
    "As there are many disputes about the sovereignty over different areas, it is advisable to not express any opinion about such matters. Therefore, be aware of this when mapping various disputed areas. "
   ]
  },
  {
   "cell_type": "markdown",
   "id": "71bfb486",
   "metadata": {},
   "source": [
    "## Country-level map data\n",
    "\n",
    "There is a large amount of country-level map data for you to explore, including:\n",
    "\n",
    "- Elevation (m)\n",
    "- Temperature (C)\n",
    "- Precipitation (mm)\n",
    "- Nightlight (DU)\n",
    "\n",
    "\n",
    "https://gadm.org/maps.html"
   ]
  },
  {
   "cell_type": "markdown",
   "id": "6aecd1dc",
   "metadata": {},
   "source": [
    "## Data\n",
    "\n",
    "The current GADM version is 4.1 consisting of 400,276 administrative areas globally. \n",
    "\n",
    "You have the option to download the spatial data by country, or globally. \n",
    "\n",
    "Version 4.1 was released on 16 July 2022. New released are expected every three months. \n",
    "Older versions can be downloaded here. A change log is under development. \n",
    "\n",
    "The data are freely available for academic use and other non-commercial use. Redistribution, or commercial use is not allowed without prior permission. See the license for more details. \n",
    "\n",
    "Country download examples here:\n",
    "\n",
    "https://gadm.org/download_country.html\n",
    "\n"
   ]
  },
  {
   "cell_type": "markdown",
   "id": "64a6015b",
   "metadata": {},
   "source": [
    "## Global data\n",
    "\n",
    "It is very useful to download GADM data for the entire world. These are large files that may take a long time to download, but they are necessary to familiarize yourself with the boundaries required for this course. \n",
    "\n",
    "You can download the GADM data as a single database in the GeoPackage format (which is now the standard format) or as a geodatabase. \n",
    "\n",
    "You can also download this version as six separate layers (one for each level of subdivision/aggregation), as a geopackage database. \n",
    "\n",
    "See here:\n",
    "\n",
    "https://gadm.org/download_world.html\n"
   ]
  },
  {
   "cell_type": "markdown",
   "id": "41543162",
   "metadata": {},
   "source": [
    "# Exercise\n",
    "\n",
    "Download data for a single country and explore the different `gid` layers provided. "
   ]
  }
 ],
 "metadata": {
  "kernelspec": {
   "display_name": "Python 3",
   "language": "python",
   "name": "python3"
  },
  "language_info": {
   "codemirror_mode": {
    "name": "ipython",
    "version": 3
   },
   "file_extension": ".py",
   "mimetype": "text/x-python",
   "name": "python",
   "nbconvert_exporter": "python",
   "pygments_lexer": "ipython3",
   "version": "3.9.12"
  }
 },
 "nbformat": 4,
 "nbformat_minor": 5
}
