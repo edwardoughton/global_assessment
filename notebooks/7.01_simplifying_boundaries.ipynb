{
 "cells": [
  {
   "cell_type": "markdown",
   "id": "a7f4d151",
   "metadata": {},
   "source": [
    "# Processing boundary data for efficiency\n",
    "\n",
    "Boundary data can be highly detailed, which is very useful when carrying out very precise assessments of small local areas. \n",
    "\n",
    "However, such resolution can often be too much detail when attempting to assess the whole world. \n",
    "\n",
    "Therefore, there are multiple options available to help us reduce the size and quantity of data in use. Here we will cover two main approaches.  \n",
    "\n",
    "These include simplifying polygons and removing small shapes.\n",
    "\n",
    "You will remember that we previously used Rwanda as an example to process regional boundaries, via the code below (week 4).\n",
    "\n",
    "Today we can do the same for Grenada. Let us first process the level 1 regions, as follows:\n"
   ]
  },
  {
   "cell_type": "code",
   "execution_count": 2,
   "id": "5e435c8d",
   "metadata": {},
   "outputs": [
    {
     "name": "stderr",
     "output_type": "stream",
     "text": [
      "D:\\Anaconda\\envs\\ga\\lib\\site-packages\\geopandas\\io\\file.py:299: FutureWarning: pandas.Int64Index is deprecated and will be removed from pandas in a future version. Use pandas.Index with the appropriate dtype instead.\n",
      "  pd.Int64Index,\n"
     ]
    },
    {
     "name": "stdout",
     "output_type": "stream",
     "text": [
      "GRD 1\n"
     ]
    }
   ],
   "source": [
    "# Example\n",
    "import os\n",
    "import pandas\n",
    "import geopandas\n",
    "\n",
    "path = os.path.join('..', 'data', 'countries.csv')\n",
    "countries = pandas.read_csv(path, encoding='latin-1')\n",
    "\n",
    "for idx, country in countries.iterrows():\n",
    "    \n",
    "    if not country['iso3'] == 'GRD': # if the current country iso3 does not match RWA...\n",
    "        continue                     # continue in the loop to the next country \n",
    "    \n",
    "    iso3 = country['iso3']\n",
    "    gid_region = country['gid_region']\n",
    "    \n",
    "    country_folder_path = os.path.join('..', 'data', 'processed', iso3)\n",
    "    if not os.path.exists(country_folder_path):\n",
    "        os.makedirs(country_folder_path)\n",
    "    \n",
    "    regions_folder_path = os.path.join('..', 'data', 'processed', iso3, 'regions')\n",
    "    if not os.path.exists(regions_folder_path):\n",
    "        os.makedirs(regions_folder_path)\n",
    "        \n",
    "    filename = 'gadm36_{}.shp'.format(gid_region)\n",
    "    global_boundaries_path = os.path.join('..', 'data', 'raw', 'gadm36_levels_shp', filename) \n",
    "    global_boundaries = geopandas.read_file(global_boundaries_path)\n",
    "    \n",
    "    country_boundaries = global_boundaries[global_boundaries['GID_0'] == iso3]\n",
    "    \n",
    "    path_out = os.path.join('..', 'data', 'processed', iso3, 'regions', filename)\n",
    "    country_boundaries.to_file(path_out)\n",
    "    \n",
    "    print(\"Processing complete for {}\".format(country['iso3']))"
   ]
  },
  {
   "cell_type": "markdown",
   "id": "c40457f4",
   "metadata": {},
   "source": [
    "# Simplifying boundaries\n",
    "\n",
    "Now that we have our country and other data folders setup, we can begin processing our boundaries. \n",
    "\n",
    "For example, the `geometry.simplify()` function allows us to make boundaries less detailed (and thus smaller in filesize). \n",
    "\n",
    "See the `geopandas` documentation for detailed information: https://geopandas.org/en/stable/docs/reference/api/geopandas.GeoSeries.simplify.html\n",
    "\n",
    "*The algorithm (Douglas-Peucker) recursively splits the original line into smaller parts and connects these parts’ endpoints by a straight line. Then, it removes all points whose distance to the straight line is smaller than tolerance. It does not move any points and it always preserves endpoints of the original line or polygon*\n",
    "\n",
    "The key parameter is the tolerance which affects the degree of simplifcation undertaken:\n",
    "\n",
    "*All parts of a simplified geometry will be no more than tolerance distance from the original. It has the same units as the coordinate reference system of the GeoSeries. For example, using tolerance=100 in a projected CRS with meters as units means a distance of 100 meters in reality.*\n",
    "\n",
    "Below is a demo example of how we would use this function. "
   ]
  },
  {
   "cell_type": "code",
   "execution_count": 4,
   "id": "385b40f6",
   "metadata": {},
   "outputs": [
    {
     "name": "stderr",
     "output_type": "stream",
     "text": [
      "D:\\Anaconda\\envs\\ga\\lib\\site-packages\\geopandas\\io\\file.py:299: FutureWarning: pandas.Int64Index is deprecated and will be removed from pandas in a future version. Use pandas.Index with the appropriate dtype instead.\n",
      "  pd.Int64Index,\n"
     ]
    }
   ],
   "source": [
    "for idx, country in countries.iterrows():\n",
    "    \n",
    "    if not country['iso3'] == 'GRD': # if the current country iso3 does not match RWA...\n",
    "        continue                     # continue in the loop to the next country \n",
    "    \n",
    "    iso3 = country['iso3']\n",
    "    gid_region = country['gid_region']\n",
    "    \n",
    "    regions_folder_path = os.path.join('..', 'data', 'processed', iso3, 'regions')\n",
    "    if not os.path.exists(regions_folder_path):\n",
    "        os.makedirs(regions_folder_path)\n",
    "        \n",
    "    filename = 'gadm36_{}.shp'.format(gid_region)\n",
    "    path_in = os.path.join('..', 'data', 'processed', iso3, 'regions', filename) \n",
    "    boundaries = geopandas.read_file(path_in)\n",
    "    \n",
    "    #this is how we simplify the geometries\n",
    "    boundaries[\"geometry\"] = boundaries.geometry.simplify(\n",
    "        tolerance=0.01, preserve_topology=True)\n",
    "    \n",
    "    filename = 'gadm36_{}_simplified.shp'.format(gid_region)\n",
    "    path_out = os.path.join('..', 'data', 'processed', iso3, 'regions', filename) \n",
    "    boundaries.to_file(path_out, crs='epsg:4326')"
   ]
  },
  {
   "cell_type": "markdown",
   "id": "eda36785",
   "metadata": {},
   "source": [
    "# Exercise 1.1\n",
    "\n",
    "Explore multiple different tolerance levels, and try to select one that best balances resolution vs simplification.\n"
   ]
  },
  {
   "cell_type": "code",
   "execution_count": null,
   "id": "89eda681",
   "metadata": {},
   "outputs": [],
   "source": [
    "# Example code here\n"
   ]
  },
  {
   "cell_type": "markdown",
   "id": "2c9116be",
   "metadata": {},
   "source": [
    "# Exercise 1.2\n",
    "\n",
    "How does the `preserve_topology` parameter affect the output? Write an explanation for both this and the tolerance parameters."
   ]
  },
  {
   "cell_type": "code",
   "execution_count": null,
   "id": "d0c81dff",
   "metadata": {},
   "outputs": [],
   "source": [
    "# Example code here\n"
   ]
  },
  {
   "cell_type": "markdown",
   "id": "c2bec850",
   "metadata": {},
   "source": [
    "# Removing small shapes\n",
    "\n",
    "Often there may be many small shapes which are unnecessary when we want to visualize results for a very large area. \n",
    "\n",
    "For example, small coastal islands will not be visible on a global map, so it is best to remove them for efficiency. \n",
    "\n",
    "The following function accepts a geopandas dataframe and removes any small geometries present (based on your size preference).\n",
    "\n",
    "The function works by: \n",
    "\n",
    "- Firstly, finding out if the `Shapely` geometry is a polygon or multipolygon object. \n",
    "- Secondly, allocating an area threshold value to any multipolygon  (depending on the country size). \n",
    "- Finally, dropping shapes below the area threshold and returning a multipolygon.\n"
   ]
  },
  {
   "cell_type": "code",
   "execution_count": 37,
   "id": "44a9eb0c",
   "metadata": {},
   "outputs": [],
   "source": [
    "# Example\n",
    "from shapely.geometry import MultiPolygon\n",
    "\n",
    "def remove_small_shapes(x):\n",
    "    \"\"\"\n",
    "    Remove small multipolygon shapes.\n",
    "\n",
    "    Parameters\n",
    "    ---------\n",
    "    x : polygon\n",
    "        Feature to simplify.\n",
    "\n",
    "    Returns\n",
    "    -------\n",
    "    MultiPolygon : MultiPolygon\n",
    "        Shapely MultiPolygon geometry without tiny shapes.\n",
    "\n",
    "    \"\"\"\n",
    "    if x.geometry.type == 'Polygon':\n",
    "        return x.geometry\n",
    "\n",
    "    elif x.geometry.type == 'MultiPolygon':\n",
    "\n",
    "        area1 = 0.003\n",
    "        area2 = 50\n",
    "\n",
    "        if x.geometry.area < area1: \n",
    "            return x.geometry\n",
    "\n",
    "        if x['GID_0'] in ['CHL','IDN', 'RUS', 'GRL','CAN','USA']:\n",
    "            threshold = 0.01\n",
    "        elif x.geometry.area > area2:\n",
    "            threshold = 0.1\n",
    "        else:\n",
    "            threshold = 0.001\n",
    "\n",
    "        new_geom = []\n",
    "        for y in list(x['geometry'].geoms):\n",
    "            if y.area > threshold:\n",
    "                new_geom.append(y)\n",
    "\n",
    "        return MultiPolygon(new_geom)"
   ]
  },
  {
   "cell_type": "markdown",
   "id": "1f069b51",
   "metadata": {},
   "source": [
    "Now we can have a go excluding small shapes as follows:"
   ]
  },
  {
   "cell_type": "code",
   "execution_count": 38,
   "id": "93014f37",
   "metadata": {
    "scrolled": true
   },
   "outputs": [
    {
     "name": "stderr",
     "output_type": "stream",
     "text": [
      "D:\\Anaconda\\envs\\ga\\lib\\site-packages\\geopandas\\io\\file.py:299: FutureWarning: pandas.Int64Index is deprecated and will be removed from pandas in a future version. Use pandas.Index with the appropriate dtype instead.\n",
      "  pd.Int64Index,\n"
     ]
    }
   ],
   "source": [
    "for idx, country in countries.iterrows():\n",
    "    \n",
    "    if not country['iso3'] == 'GRD': # if the current country iso3 does not match RWA...\n",
    "        continue                     # continue in the loop to the next country \n",
    "    \n",
    "    iso3 = country['iso3']\n",
    "    gid_region = country['gid_region']\n",
    "    \n",
    "    regions_folder_path = os.path.join('..', 'data', 'processed', iso3, 'regions')\n",
    "    if not os.path.exists(regions_folder_path):\n",
    "        os.makedirs(regions_folder_path)\n",
    "        \n",
    "    filename = 'gadm36_{}.shp'.format(gid_region)\n",
    "    path_in = os.path.join('..', 'data', 'processed', iso3, 'regions', filename) \n",
    "    boundaries = geopandas.read_file(path_in)\n",
    "    \n",
    "    #this is how we drop small geometries using the remove_small_shapes function\n",
    "    boundaries['geometry'] = boundaries.apply(\n",
    "        remove_small_shapes, axis=1)\n",
    "        \n",
    "    filename = 'gadm36_{}_removed_small_shapes.shp'.format(gid_region)\n",
    "    path_out = os.path.join('..', 'data', 'processed', iso3, 'regions', filename) \n",
    "    boundaries.to_file(path_out, crs='epsg:4326')"
   ]
  },
  {
   "cell_type": "markdown",
   "id": "f86a0bc9",
   "metadata": {},
   "source": [
    "Take a moment to rerun the function and processing code, after changing the `area1` threshold value. \n",
    "\n",
    "How does it affect the boundary processing?"
   ]
  },
  {
   "cell_type": "markdown",
   "id": "2a0a05bc",
   "metadata": {},
   "source": [
    "# Exercise 1.3\n",
    "\n",
    "Can you see any problems with the current function? How would you rewrite the code and function to accept a projected CRS? \n",
    "\n",
    "Hint: Recall from week 4 how you convert your geopandas dataframe geometries to a projected CRS.\n"
   ]
  },
  {
   "cell_type": "code",
   "execution_count": 23,
   "id": "0223ade5",
   "metadata": {},
   "outputs": [],
   "source": [
    "# Example code here\n"
   ]
  },
  {
   "cell_type": "markdown",
   "id": "356daebd",
   "metadata": {},
   "source": [
    "# Exercise 1.4\n",
    "\n",
    "How would you combine both processing steps to simplify geometries and remove small shapes? \n",
    "\n",
    "Write out your shapes to your regions folder.\n"
   ]
  },
  {
   "cell_type": "code",
   "execution_count": null,
   "id": "ac6bd8b7",
   "metadata": {},
   "outputs": [],
   "source": [
    "# Example code here\n"
   ]
  },
  {
   "cell_type": "markdown",
   "id": "10ad381d",
   "metadata": {},
   "source": [
    "# Exercise 1.5\n",
    "\n",
    "Scale your processing code for all countries in North America.\n",
    "\n",
    "Hint: Within your `countries.csv` file you have a continent column."
   ]
  },
  {
   "cell_type": "code",
   "execution_count": 24,
   "id": "adf28faf",
   "metadata": {},
   "outputs": [],
   "source": [
    "# Exercise 1.3\n"
   ]
  }
 ],
 "metadata": {
  "kernelspec": {
   "display_name": "Python 3",
   "language": "python",
   "name": "python3"
  },
  "language_info": {
   "codemirror_mode": {
    "name": "ipython",
    "version": 3
   },
   "file_extension": ".py",
   "mimetype": "text/x-python",
   "name": "python",
   "nbconvert_exporter": "python",
   "pygments_lexer": "ipython3",
   "version": "3.9.12"
  }
 },
 "nbformat": 4,
 "nbformat_minor": 5
}
