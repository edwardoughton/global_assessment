{
 "cells": [
  {
   "cell_type": "markdown",
   "id": "f2daa079",
   "metadata": {},
   "source": [
    "# Introduction to Git\n",
    "\n",
    "In this tutorial, you will learn how to use the version control system `Git`.\n",
    "\n",
    "\"`Git` is software for tracking changes in any set of files, usually used for coordinating work among programmers collaboratively developing source code during software development. Its goals include speed, data integrity, and support for distributed, non-linear workflows (thousands of parallel branches running on different systems)\" (Wiki definition: https://en.wikipedia.org/wiki/Git).\n",
    "\n",
    "You can see here for further information for installation (although the main points are summarized here): https://github.com/git-guides/install-git\n",
    "\n",
    "This tutorial presents a very simplified view of how to use `Git`. This will be sufficient for this class, which mainly focuses on you cloning and pulling any updates from the main `GitHub` repository to your local machine. \n",
    "\n",
    "Should you want to become more advanced in the future (e.g., pushing newly developed code back to a remote repository), you should examine the full `Git` documentation: https://docs.github.com/en/get-started/using-git/about-git"
   ]
  },
  {
   "cell_type": "markdown",
   "id": "c871d6d8",
   "metadata": {},
   "source": [
    "## Do you already have Git installed?\n",
    "\n",
    "First, it's worth checking if you already have a version of `Git` installed. \n",
    "\n",
    "- Windows users, hit the Windows button and either open the command prompt (`cmd`) or type `git bash`.\n",
    "- Mac users, open the `Terminal` by hitting the option button + spacebar and typing `terminal`.\n",
    "\n",
    "Now you can type `git version` and press enter. \n",
    "\n",
    "You will either see a version returned to you if you have `Git` already installed, or you will receive an unknown command error. \n",
    "\n",
    "If you received the latter response, that's fine, it just means we need to install `Git`. \n",
    "\n",
    "Follow the instructions below:"
   ]
  },
  {
   "cell_type": "markdown",
   "id": "cc7121dd",
   "metadata": {},
   "source": [
    "## Install git on Windows\n",
    "\n",
    "- Visit the `Git` website: https://gitforwindows.org/\n",
    "- Click the download button.\n",
    "- Once the installer has started, follow the instructions as provided in the `Git` setup wizard screen until the installation is complete.\n",
    "- Open the windows command prompt (or `Git Bash` if you selected not to use the standard `Git` Windows Command Prompt during the `Git` installation).\n",
    "- Type `git version` to verify `Git` was installed.\n",
    "\n",
    "Note: `git-scm` is a popular and recommended resource for downloading `Git` for Windows. The advantage of downloading `Git` from `git-scm` is that your download automatically starts with the latest version of `Git` included with the recommended command prompt, `Git Bash`. The download source is the same `Git` for Windows installer as referenced in the steps above."
   ]
  },
  {
   "cell_type": "markdown",
   "id": "31923da2",
   "metadata": {},
   "source": [
    "## Install Git on Mac\n",
    "\n",
    "Most versions of MacOS will already have `Git` installed, and you can activate it through the terminal with `git version`. However, if you don't have `Git` installed for whatever reason, you can install the latest version of `Git` using one of several popular methods as listed below:\n",
    "\n",
    "- Follow the instructions here: https://git-scm.com/download/mac\n",
    "- First, install `Homebrew`.\n",
    "- Then use `brew install git`.\n",
    "- Alternatively, use an installer to install `Git`: https://sourceforge.net/projects/git-osx-installer/files/git-2.23.0-intel-universal-mavericks.dmg/download?use_mirror=autoselect\n",
    "- Navigate to the latest macOS `Git` installer and download the latest version.\n",
    "- Once the installer has started, follow the instructions as provided until the installation is complete.\n",
    "- Open the command prompt \"terminal\" and type git version to verify `Git` was installed.\n",
    "\n",
    "Note: `git-scm` is a popular and recommended resource for downloading `Git` on a Mac. The advantage of downloading `Git` from git-scm is that your download automatically starts with the latest version of `Git`. The download source is the same macOS `Git` installer as referenced in the steps above."
   ]
  },
  {
   "cell_type": "markdown",
   "id": "660bc0a2",
   "metadata": {},
   "source": [
    "## Install git in a conda environment\n",
    "\n",
    "The easiest way to install git in your existing virtual environment is as follows:\n",
    "\n",
    "- `conda install git`\n",
    "\n",
    "Simple!"
   ]
  },
  {
   "cell_type": "markdown",
   "id": "9c01726f",
   "metadata": {},
   "source": [
    "## Sign up to GitHub\n",
    "\n",
    "You will already be familiar with GitHub as the Global Assessment materials are hosted there. \n",
    "\n",
    "Now you should navigate to GitHub (https://github.com/) and:\n",
    "\n",
    "- Sign up for an account. You will need to create a user name. \n",
    "- Add a profile image (it doesn't have to be a picture of you).\n",
    "- Navigate to the global assessment repository: https://github.com/edwardoughton/global_assessment\n",
    "- In the top right hand corner, 'star' the repository by clicking on the star (see image below). \n",
    "- Also in the top right hand corner, click the 'watch' button (see image below).  \n",
    "\n",
    "Now you should receive notifcations for any changes made to the repository over the coming weeks. "
   ]
  },
  {
   "cell_type": "markdown",
   "id": "509e4142",
   "metadata": {},
   "source": [
    "## Clone the repository\n",
    "\n",
    "When you create a repository on GitHub.com, it exists as a remote repository on GitHub's server. \n",
    "\n",
    "You can clone your repository to create a local copy on your computer and sync between the two locations. This is the key basis of using `git` and a `GitHub` repository.\n",
    "\n",
    "To clone the global assessment repository to your local machine (e.g., download all the files in one single go), follow these instructions: \n",
    "\n",
    "- Go to the desired repository: https://github.com/edwardoughton/global_assessment.\n",
    "- Navigate to the green `Code` button and click it (see the image below).\n",
    "- Copy the HTTPS address (https://github.com/edwardoughton/global_assessment).\n",
    "- Navigate in your command prompt/terminal to the folder where you would like the new folder to clone to. \n",
    "- Type `git clone https://github.com/edwardoughton/global_assessment.git`.\n",
    "\n",
    "This will clone the repository from the `GitHub` server, onto your own local machine, to the directory where you were navigated.\n"
   ]
  },
  {
   "cell_type": "markdown",
   "id": "e24579e5",
   "metadata": {},
   "source": [
    "## Pulling changes from the remote repository\n",
    "\n",
    "Now you should have the whole repository stored locally on your machine - this should be much easier than manually copying over each notebook. \n",
    "\n",
    "From time to time, you will need to `pull` any new changes from the repo as updates are made. \n",
    "\n",
    "Therefore, if you want to edit this content it is best if you copy any desired notebooks from this clone to a new folder (although this isn't best practise for `git`, it will suffice for this tutorial as you're not going to be pushing changes back to the main GitHub server version). \n",
    "\n",
    "To fetch and merge any updates from the main remote repository, you can merely use the command `git pull` to update the repository. \n",
    "\n",
    "Just be aware that if you've made any changes to the local repository and produce any merge conflicts you can't resolve, you can use `git merge --abort` to cease the merge.\n"
   ]
  },
  {
   "cell_type": "code",
   "execution_count": 2,
   "id": "de3b9321",
   "metadata": {},
   "outputs": [
    {
     "data": {
      "text/html": [
       "\n",
       "<iframe width=\"560\" height=\"315\" src=\"https://www.youtube.com/embed/w3jLJU7DT5E\" title=\"YouTube video player\" frameborder=\"0\" allow=\"accelerometer; autoplay; clipboard-write; encrypted-media; gyroscope; picture-in-picture\" allowfullscreen></iframe>\n"
      ],
      "text/plain": [
       "<IPython.core.display.HTML object>"
      ]
     },
     "metadata": {},
     "output_type": "display_data"
    }
   ],
   "source": [
    "%%HTML\n",
    "\n",
    "<iframe width=\"560\" height=\"315\" src=\"https://www.youtube.com/embed/w3jLJU7DT5E\" title=\"YouTube video player\" frameborder=\"0\" allow=\"accelerometer; autoplay; clipboard-write; encrypted-media; gyroscope; picture-in-picture\" allowfullscreen></iframe>"
   ]
  }
 ],
 "metadata": {
  "kernelspec": {
   "display_name": "Python 3",
   "language": "python",
   "name": "python3"
  },
  "language_info": {
   "codemirror_mode": {
    "name": "ipython",
    "version": 3
   },
   "file_extension": ".py",
   "mimetype": "text/x-python",
   "name": "python",
   "nbconvert_exporter": "python",
   "pygments_lexer": "ipython3",
   "version": "3.9.12"
  }
 },
 "nbformat": 4,
 "nbformat_minor": 5
}
