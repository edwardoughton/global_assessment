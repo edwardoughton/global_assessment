{
 "cells": [
  {
   "cell_type": "markdown",
   "id": "dc6afba9",
   "metadata": {},
   "source": [
    "# Plotting flooding data"
   ]
  },
  {
   "cell_type": "markdown",
   "id": "5304b284",
   "metadata": {},
   "source": [
    "Now we have our .tif file written out for a single country. We want to transform this data first to a shapefile. \n",
    "\n",
    "In the following example, you can use this code \"out of the box\" in order to convert your file into a shapefile. "
   ]
  },
  {
   "cell_type": "code",
   "execution_count": null,
   "id": "c0aa40b2",
   "metadata": {},
   "outputs": [],
   "source": [
    "for idx, country in countries.iterrows():\n",
    "    \n",
    "    if not country['iso3'] == 'RWA': # if the current country iso3 does not match RWA...\n",
    "        continue                     # continue in the loop to the next country \n",
    "        \n",
    "    folder = os.path.join('..', 'data', 'processed', iso3, 'hazards', 'inunriver')\n",
    "    if not os.path.exists(folder):\n",
    "        os.mkdir(folder)\n",
    "    filename = 'inunriver_rcp8p5_MIROC-ESM-CHEM_2080_rp01000.shp'\n",
    "    path_out = os.path.join(folder, filename)\n",
    "\n",
    "    folder = os.path.join('..', 'data', 'processed', iso3, 'hazards', 'inunriver')\n",
    "    if not os.path.exists(folder):\n",
    "        os.mkdir(folder)\n",
    "    filename = 'inunriver_rcp8p5_MIROC-ESM-CHEM_2080_rp01000.tif'\n",
    "    path_in = os.path.join(folder, filename)\n",
    "\n",
    "    with rasterio.open(path_in) as src:\n",
    "\n",
    "        affine = src.transform\n",
    "        array = src.read(1)\n",
    "\n",
    "        output = []\n",
    "\n",
    "        for vec in rasterio.features.shapes(array):\n",
    "\n",
    "            if vec[1] > 0 and not vec[1] == 255:\n",
    "\n",
    "                coordinates = [i for i in vec[0]['coordinates'][0]]\n",
    "\n",
    "                coords = []\n",
    "\n",
    "                for i in coordinates:\n",
    "\n",
    "                    x = i[0]\n",
    "                    y = i[1]\n",
    "\n",
    "                    x2, y2 = src.transform * (x, y)\n",
    "\n",
    "                    coords.append((x2, y2))\n",
    "\n",
    "                output.append({\n",
    "                    'type': vec[0]['type'],\n",
    "                    'geometry': {\n",
    "                        'type': 'Polygon',\n",
    "                        'coordinates': [coords],\n",
    "                    },\n",
    "                    'properties': {\n",
    "                        'value': vec[1],\n",
    "                    }\n",
    "                })\n",
    "\n",
    "    output = geopandas.GeoDataFrame.from_features(output, crs='epsg:4326')\n",
    "    output.to_file(path_out, driver='ESRI Shapefile')\n"
   ]
  },
  {
   "cell_type": "markdown",
   "id": "74c4beeb",
   "metadata": {},
   "source": [
    "Now you have your shapefile data layer in place, we can begin to plot that code.  \n",
    "\n",
    "We will need our plotting packages."
   ]
  },
  {
   "cell_type": "code",
   "execution_count": null,
   "id": "8eab76ba",
   "metadata": {
    "scrolled": true
   },
   "outputs": [],
   "source": [
    "# Example\n",
    "import matplotlib.pyplot as plt\n",
    "import seaborn as sns\n",
    "import contextily as cx"
   ]
  },
  {
   "cell_type": "markdown",
   "id": "a3b61873",
   "metadata": {},
   "source": [
    "First, let's set up our plotting interface."
   ]
  },
  {
   "cell_type": "code",
   "execution_count": null,
   "id": "479676e4",
   "metadata": {},
   "outputs": [],
   "source": [
    "# Example\n",
    "fig, ax = plt.subplots(1, 1, figsize=(10, 10))"
   ]
  },
  {
   "cell_type": "markdown",
   "id": "74b289d6",
   "metadata": {},
   "source": [
    "Set the path for our shapefile data."
   ]
  },
  {
   "cell_type": "code",
   "execution_count": null,
   "id": "3dae61bf",
   "metadata": {},
   "outputs": [],
   "source": [
    "# Example\n",
    "folder = os.path.join('..', 'data', 'processed', 'RWA', 'hazards', 'inunriver')\n",
    "filename = 'inunriver_rcp8p5_MIROC-ESM-CHEM_2080_rp01000.shp'\n",
    "path_in = os.path.join(folder, filename)\n",
    "path_in"
   ]
  },
  {
   "cell_type": "markdown",
   "id": "b90f4c79",
   "metadata": {},
   "source": [
    "Load in our shapefile data."
   ]
  },
  {
   "cell_type": "code",
   "execution_count": null,
   "id": "c63fe6a0",
   "metadata": {},
   "outputs": [],
   "source": [
    "# Example\n",
    "hazard = geopandas.read_file(path_in, crs='epsg:3857')\n",
    "hazard = hazard.to_crs(4326)\n",
    "hazard.plot(color='blue', linewidth=1.5, alpha=.7, legend=True, edgecolor=None, ax=ax)"
   ]
  },
  {
   "cell_type": "markdown",
   "id": "45eee141",
   "metadata": {},
   "source": [
    "We will want to add a `contextily` basemap."
   ]
  },
  {
   "cell_type": "code",
   "execution_count": null,
   "id": "37e2a667",
   "metadata": {},
   "outputs": [],
   "source": [
    "# Example\n",
    "cx.add_basemap(ax, crs='epsg:4326')"
   ]
  },
  {
   "cell_type": "markdown",
   "id": "fa129280",
   "metadata": {},
   "source": [
    "And create a title for our plot."
   ]
  },
  {
   "cell_type": "code",
   "execution_count": null,
   "id": "8d498979",
   "metadata": {},
   "outputs": [],
   "source": [
    "# Example\n",
    "hazard_type = filename.split('_')[0]\n",
    "scenario = filename.split('_')[1]\n",
    "model = filename.split('_')[2]\n",
    "year = filename.split('_')[3]\n",
    "return_period = filename.split('_')[4]\n",
    "\n",
    "return_period = return_period.replace('.shp', '')\n",
    "\n",
    "main_title = 'Projected River Flooding: {}, {}, {}, {}, {}, {}'.format('RWA', hazard_type, scenario, model, year, return_period)\n",
    "plt.suptitle(main_title, fontsize=14, wrap=True)"
   ]
  },
  {
   "cell_type": "code",
   "execution_count": null,
   "id": "23d0dc74",
   "metadata": {},
   "outputs": [],
   "source": [
    "Finally, we can write out our figure:"
   ]
  },
  {
   "cell_type": "code",
   "execution_count": null,
   "id": "6b139933",
   "metadata": {},
   "outputs": [],
   "source": [
    "# Example\n",
    "path_out = os.path.join('..', 'data', 'processed', 'RWA', 'inunriver_rcp8p5_MIROC-ESM-CHEM_2080_rp01000.png')\n",
    "\n",
    "plt.savefig(path_out)\n",
    "plt.close()\n",
    "\n",
    "print('Figure processing complete')"
   ]
  },
  {
   "cell_type": "markdown",
   "id": "dc306910",
   "metadata": {},
   "source": [
    "# Exercise 1.4\n",
    "\n",
    "Try generate a map for Grenada.\n",
    "\n",
    "Convert the flood layer color to black. "
   ]
  }
 ],
 "metadata": {
  "kernelspec": {
   "display_name": "Python 3",
   "language": "python",
   "name": "python3"
  },
  "language_info": {
   "codemirror_mode": {
    "name": "ipython",
    "version": 3
   },
   "file_extension": ".py",
   "mimetype": "text/x-python",
   "name": "python",
   "nbconvert_exporter": "python",
   "pygments_lexer": "ipython3",
   "version": "3.9.12"
  }
 },
 "nbformat": 4,
 "nbformat_minor": 5
}
