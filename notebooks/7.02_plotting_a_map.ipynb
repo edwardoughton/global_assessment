{
 "cells": [
  {
   "cell_type": "markdown",
   "id": "efd0c236",
   "metadata": {},
   "source": [
    "# Creating a map\n",
    "\n",
    "There are lots of ways to create a map.\n",
    "\n",
    "Today we will cover the basics using `matplotlib` and `seaborn`. \n",
    "\n",
    "First, we will extract the data just for Grenada."
   ]
  },
  {
   "cell_type": "code",
   "execution_count": 2,
   "id": "fca44ad4",
   "metadata": {},
   "outputs": [
    {
     "name": "stdout",
     "output_type": "stream",
     "text": [
      "Working on GRD.1_1\n",
      "Working on GRD.2_1\n",
      "Working on GRD.3_1\n",
      "Working on GRD.4_1\n",
      "Working on GRD.5_1\n",
      "Working on GRD.6_1\n",
      "Working on GRD.7_1\n"
     ]
    }
   ],
   "source": [
    "# Example\n",
    "import os\n",
    "import pandas as pd\n",
    "import geopandas as gpd\n",
    "import rasterio\n",
    "from rasterstats import zonal_stats\n",
    "\n",
    "filename = \"ppp_2020_1km_Aggregated.tif\"\n",
    "folder = os.path.join('..', 'data', 'raw', 'worldpop')\n",
    "path_population = os.path.join(folder, filename)\n",
    "\n",
    "filename = 'gadm36_{}.shp'.format(1)\n",
    "path_in = os.path.join('..', 'data', 'processed', 'GRD', 'regions', filename) \n",
    "boundaries = gpd.read_file(path_in)\n",
    "\n",
    "output = []\n",
    "for idx, boundary in boundaries.iterrows():\n",
    "        \n",
    "    print(\"Working on {}\".format(boundary['GID_1']))\n",
    "    \n",
    "    with rasterio.open(path_population) as src:\n",
    "\n",
    "        affine = src.transform                       #here we load the affine function \n",
    "        array = src.read(1)                          #here we load our actual data from layer 1\n",
    "        array[array <= 0] = 0                        #here we get rid of negative number \n",
    "\n",
    "        population = [i['sum'] for i in zonal_stats( #now we sum all cells within our zonal boundary \n",
    "            boundary['geometry'],   #<- providing our boundary\n",
    "            array,                  #<- providing our .tif raster data \n",
    "            nodata=255,             #<- stating the value that cells with no data will have\n",
    "            stats=['sum'],          #<- stating what statistics we want\n",
    "            affine=affine)][0]      #<- providing the affine function to convert between coordinate systems\n",
    "\n",
    "        output.append({\n",
    "            'GID_1': boundary['GID_1'],\n",
    "            'population': population\n",
    "        })\n",
    "        \n",
    "output = pd.DataFrame(output)\n",
    "path_out = os.path.join('..', 'data', 'processed', 'GRD', 'population.csv')  \n",
    "output.to_csv(path_out)"
   ]
  },
  {
   "cell_type": "markdown",
   "id": "5dba28e9",
   "metadata": {},
   "source": [
    "Now we can load in our `population.csv` file and begin plotting. "
   ]
  },
  {
   "cell_type": "code",
   "execution_count": 28,
   "id": "62fd1f29",
   "metadata": {},
   "outputs": [],
   "source": [
    "# Example\n",
    "import matplotlib.pyplot as plt\n",
    "import seaborn as sns\n",
    "\n",
    "#import our boundaries data\n",
    "filename = 'gadm36_{}.shp'.format(1)\n",
    "path_in = os.path.join('..', 'data', 'processed', 'GRD', 'regions', filename) \n",
    "boundaries = geopandas.read_file(path_in)\n",
    "\n",
    "#import our population data\n",
    "filename = 'population.csv'\n",
    "path_in = os.path.join('..', 'data', 'processed', 'GRD', filename) \n",
    "data = pd.read_csv(path_in)\n",
    "\n",
    "#merge our population data onto our boundaries \n",
    "boundaries = boundaries.merge(data, left_on='GID_1', right_on='GID_1')\n",
    "\n",
    "#define value bins and then labels for each one\n",
    "bins = [-1e6, 2000, 4000, 6000, 8000, 1e12]\n",
    "labels = ['<2k','2-4k','4-6k','6-8k','>8k']\n",
    "\n",
    "#create a new variable with our bin labels\n",
    "boundaries['bin'] = pd.cut(\n",
    "    boundaries['population'],\n",
    "    bins=bins,\n",
    "    labels=labels\n",
    ")\n",
    "\n",
    "#open a new seaborn figure\n",
    "sns.set(font_scale=0.9)\n",
    "fig, ax = plt.subplots(1, 1, figsize=(4.5, 4.5))\n",
    "\n",
    "#now plot our data using pandas plot\n",
    "base = boundaries.plot(column='bin', ax=ax, cmap='viridis', linewidth=0, #inferno_r\n",
    "    legend=True, antialiased=False)\n",
    "\n",
    "#allocate a plot title \n",
    "n = len(boundaries)\n",
    "name = 'Population by Sub-Region for Grenada (n={})'.format(n)\n",
    "fig.suptitle(name)\n",
    "\n",
    "#specify where to write our .png file to\n",
    "path = os.path.join('..', 'data', 'processed', 'GRD', 'fig.png')\n",
    "fig.savefig(path)\n",
    "plt.close(fig)\n"
   ]
  },
  {
   "cell_type": "markdown",
   "id": "f8e7b85d",
   "metadata": {},
   "source": [
    "# Exercise 1.1\n",
    "\n",
    "Can you better specify the bins and labels to really demonstrate the spatial differences in population?"
   ]
  },
  {
   "cell_type": "code",
   "execution_count": 30,
   "id": "f29e3b90",
   "metadata": {},
   "outputs": [],
   "source": [
    "# Example code here\n"
   ]
  },
  {
   "cell_type": "markdown",
   "id": "0042fd38",
   "metadata": {},
   "source": [
    "# Exercise 1.2\n",
    "\n",
    "Can you create a plot for Barbados?\n"
   ]
  },
  {
   "cell_type": "code",
   "execution_count": 29,
   "id": "bb5049e6",
   "metadata": {},
   "outputs": [],
   "source": [
    "# Example code here\n"
   ]
  }
 ],
 "metadata": {
  "kernelspec": {
   "display_name": "Python 3",
   "language": "python",
   "name": "python3"
  },
  "language_info": {
   "codemirror_mode": {
    "name": "ipython",
    "version": 3
   },
   "file_extension": ".py",
   "mimetype": "text/x-python",
   "name": "python",
   "nbconvert_exporter": "python",
   "pygments_lexer": "ipython3",
   "version": "3.9.12"
  }
 },
 "nbformat": 4,
 "nbformat_minor": 5
}
