{
 "cells": [
  {
   "cell_type": "markdown",
   "id": "ae41383f",
   "metadata": {},
   "source": [
    "# Working with riverine flooding data\n",
    "\n",
    "In this tutorial an introduction to working with the World Resources Institute (WRI) Aqueduct flooding layers will be provided.\n",
    "\n",
    "Why do water risks matter?\n",
    "\n",
    "- An urgent global challenge. \n",
    "- Many public health crises are driven by water, including floods, droughts and water-borne diseases. \n",
    "- Climate change is worsening the problem by intensifying floods and drought, shifting precipitation patterns, altering water supplies and accelerating glacial melt and sea level rise. \n",
    "- Clean water supplies are vital for human health, industry, agriculture and energy production, making water risks a major humanitarian threat. \n",
    "- Identifying, understanding and responding to these risks requires transparent, publicly available data.\n",
    "\n",
    "\n",
    "https://www.wri.org/\n",
    "\n",
    "There are a number of dimensions we will explore with this data:\n",
    "\n",
    "- Hazard types\n",
    "- Climate scenarios\n",
    "- Models\n",
    "- Projection years\n",
    "- Return periods\n",
    "\n",
    "\n"
   ]
  },
  {
   "cell_type": "markdown",
   "id": "b78fb6ee",
   "metadata": {},
   "source": [
    "## Exercise 1.1\n",
    "\n",
    "Navigate to the WRI Water Risk Atlas and familiarize yourself with the layers provided. \n",
    "\n",
    "Explore the key dimensions to water risk. \n"
   ]
  },
  {
   "cell_type": "markdown",
   "id": "dbf056e1",
   "metadata": {},
   "source": [
    "# Downloading raw WRI Aqueduct data layers\n",
    "\n",
    "We want to download the global data for us to explore on our own machine. \n",
    "\n",
    "Visit the WRI Aqueduct download page:\n",
    "\n",
    "http://wri-projects.s3.amazonaws.com/AqueductFloodTool/download/v2/index.html\n",
    "    \n",
    "Download a .tif riverine flood layer for the MIROC model, for the RCP8.5 scenario projected to 2080, and a return period of 1-in-1000 years (thus, an annual probability of occurrence of 0.01%). \n",
    "\n",
    "Place the layer in `global_assessment/data/raw/flood_hazard`.\n",
    "\n",
    "    "
   ]
  },
  {
   "cell_type": "markdown",
   "id": "1bec184c",
   "metadata": {},
   "source": [
    "# Processing flood layers for each country\n",
    "\n",
    "Now we are going to begin by processing one flooding layer for an example country.  \n",
    "\n",
    "To do this, we are going to utilize `rasterio` and the `mask` function. \n",
    "\n",
    "Whereas in previous classes we loaded in raster data and exported our desired data from the global layer, today we will clip the raster layer for each country.\n",
    "\n",
    "For example, the `mask` function is a bit like a \"cookie cutter\". For example, areas outside of a polygon boundary (e.g., country boundary) are excluded, enabling the internal areas to be exported.  \n",
    "\n",
    "See more details here:\n",
    "\n",
    "https://rasterio.readthedocs.io/en/stable/api/rasterio.mask.html\n",
    "\n",
    "*Creates a masked or filled array using input shapes. Pixels are masked or set to nodata outside the input shapes, unless invert is True.*\n",
    "\n",
    "Let us begin by loading in our desired packages, and getting our country lookup table data. We will focus only on Rwanda."
   ]
  },
  {
   "cell_type": "code",
   "execution_count": null,
   "id": "4f92c288",
   "metadata": {},
   "outputs": [],
   "source": [
    "# Example\n",
    "import os\n",
    "import json\n",
    "import rasterio\n",
    "from rasterio.mask import mask\n",
    "import pandas\n",
    "import geopandas \n",
    "\n",
    "path = os.path.join('..', 'data', 'countries.csv')\n",
    "countries = pandas.read_csv(path, encoding='latin-1')\n",
    "\n",
    "for idx, country in countries.iterrows():\n",
    "\n",
    "    if not country['iso3'] == 'RWA': \n",
    "        continue   \n",
    "\n",
    "    print(country)   "
   ]
  },
  {
   "cell_type": "markdown",
   "id": "92bd1f7f",
   "metadata": {},
   "source": [
    "This should be fairly familiar ground for you now. \n",
    "\n",
    "In which case, let us specify the file we just downloaded, which should be `inunriver_rcp8p5_MIROC-ESM-CHEM_2080_rp01000.tif`.\n",
    "\n",
    "We can load the raster layer, specify the no data value and define the crs. \n"
   ]
  },
  {
   "cell_type": "code",
   "execution_count": null,
   "id": "6de89c84",
   "metadata": {},
   "outputs": [],
   "source": [
    "# Example\n",
    "for idx, country in countries.iterrows():\n",
    "    \n",
    "    if not country['iso3'] == 'RWA': \n",
    "        continue   \n",
    "        \n",
    "    filename = 'inunriver_rcp8p5_MIROC-ESM-CHEM_2080_rp01000.tif'\n",
    "    path_hazard = os.path.join('..', 'data','raw','flood_hazard', filename)\n",
    "    hazard = rasterio.open(path_hazard, 'r+')\n",
    "    hazard.nodata = 255                       #set the no data value\n",
    "    hazard.crs.from_epsg(4326)                #set the crs\n",
    "    \n",
    "    print(hazard)"
   ]
  },
  {
   "cell_type": "markdown",
   "id": "6a3014ad",
   "metadata": {},
   "source": [
    "Now we can load in country boundary for Rwanda, as follows.\n",
    "\n",
    "Think of this boundary as the \"cookie cutter\" which we will apply to the global data layer. \n"
   ]
  },
  {
   "cell_type": "code",
   "execution_count": null,
   "id": "bb939e3f",
   "metadata": {},
   "outputs": [],
   "source": [
    "# Example\n",
    "path_country = os.path.join('..', 'data', 'processed', 'RWA', 'national_outline.shp')\n",
    "country = geopandas.read_file(path_country)\n",
    "country"
   ]
  },
  {
   "cell_type": "markdown",
   "id": "e10ca89a",
   "metadata": {},
   "source": [
    "Now we need to convert out country geometry into a json, which we weill feed to the mask function. \n",
    "\n"
   ]
  },
  {
   "cell_type": "code",
   "execution_count": null,
   "id": "b9ef2dc8",
   "metadata": {},
   "outputs": [],
   "source": [
    "# Example\n",
    "geo = geopandas.GeoDataFrame({'geometry': country.geometry})\n",
    "coords = [json.loads(geo.to_json())['features'][0]['geometry']]\n",
    "\n",
    "out_img, out_transform = mask(hazard, coords, crop=True)\n",
    "out_img, out_transform\n"
   ]
  },
  {
   "cell_type": "markdown",
   "id": "3460bd78",
   "metadata": {},
   "source": [
    "So the `out_img` is our data in numpy array form. And the `out_transform` is our affine transformation. \n",
    "\n",
    "Finally, we need to update the meta data for the new file we are about to write. "
   ]
  },
  {
   "cell_type": "code",
   "execution_count": null,
   "id": "fae3502f",
   "metadata": {},
   "outputs": [],
   "source": [
    "# Example\n",
    "out_meta = hazard.meta.copy()\n",
    "out_meta.update({\"driver\": \"GTiff\",\n",
    "                \"height\": out_img.shape[1],\n",
    "                \"width\": out_img.shape[2],\n",
    "                \"transform\": out_transform,\n",
    "                \"crs\": 'epsg:4326'})\n"
   ]
  },
  {
   "cell_type": "markdown",
   "id": "69999c0c",
   "metadata": {},
   "source": [
    "So now we can specify where we want to export the data to."
   ]
  },
  {
   "cell_type": "code",
   "execution_count": null,
   "id": "c30ce69c",
   "metadata": {},
   "outputs": [],
   "source": [
    "# Example\n",
    "folder = os.path.join('..', 'data', 'processed', 'RWA', 'hazards', 'inunriver')\n",
    "if not os.path.exists(folder):\n",
    "    os.makedirs(folder)\n",
    "path_out = os.path.join(folder, filename)"
   ]
  },
  {
   "cell_type": "markdown",
   "id": "6840bb92",
   "metadata": {},
   "source": [
    "And finally write our file. So we pass to the `rasterio` write function the `out_img` data, along with the file path and the updated meta data. "
   ]
  },
  {
   "cell_type": "code",
   "execution_count": null,
   "id": "312bc6b2",
   "metadata": {
    "scrolled": true
   },
   "outputs": [],
   "source": [
    "# Example\n",
    "with rasterio.open(path_out, \"w\", **out_meta) as dest:\n",
    "        dest.write(out_img)\n",
    "\n",
    "print('Processing complete.')"
   ]
  },
  {
   "cell_type": "code",
   "execution_count": null,
   "id": "8f4da2e0",
   "metadata": {},
   "outputs": [],
   "source": []
  },
  {
   "cell_type": "markdown",
   "id": "93accdb6",
   "metadata": {},
   "source": [
    "# Exercise 1.2\n",
    "\n",
    "Can you assemble the full loop, to process the data for Rwanda? "
   ]
  },
  {
   "cell_type": "markdown",
   "id": "f9956cdb",
   "metadata": {},
   "source": [
    "# Exercise 1.3\n",
    "\n",
    "And now can you process the data for Granda?"
   ]
  },
  {
   "cell_type": "markdown",
   "id": "5304b284",
   "metadata": {},
   "source": [
    "Now we have our .tif file written out for a single country. We want to transform this data first to a shapefile. \n",
    "\n",
    "In the following example, you can use this code \"out of the box\" in order to convert your file into a shapefile. "
   ]
  },
  {
   "cell_type": "code",
   "execution_count": null,
   "id": "c0aa40b2",
   "metadata": {},
   "outputs": [],
   "source": [
    "for idx, country in countries.iterrows():\n",
    "    \n",
    "    if not country['iso3'] == 'RWA': # if the current country iso3 does not match RWA...\n",
    "        continue                     # continue in the loop to the next country \n",
    "        \n",
    "    folder = os.path.join('..', 'data', 'processed', iso3, 'hazards', 'inunriver')\n",
    "    if not os.path.exists(folder):\n",
    "        os.mkdir(folder)\n",
    "    filename = 'inunriver_rcp8p5_MIROC-ESM-CHEM_2080_rp01000.shp'\n",
    "    path_out = os.path.join(folder, filename)\n",
    "\n",
    "    folder = os.path.join('..', 'data', 'processed', iso3, 'hazards', 'inunriver')\n",
    "    if not os.path.exists(folder):\n",
    "        os.mkdir(folder)\n",
    "    filename = 'inunriver_rcp8p5_MIROC-ESM-CHEM_2080_rp01000.tif'\n",
    "    path_in = os.path.join(folder, filename)\n",
    "\n",
    "    with rasterio.open(path_in) as src:\n",
    "\n",
    "        affine = src.transform\n",
    "        array = src.read(1)\n",
    "\n",
    "        output = []\n",
    "\n",
    "        for vec in rasterio.features.shapes(array):\n",
    "\n",
    "            if vec[1] > 0 and not vec[1] == 255:\n",
    "\n",
    "                coordinates = [i for i in vec[0]['coordinates'][0]]\n",
    "\n",
    "                coords = []\n",
    "\n",
    "                for i in coordinates:\n",
    "\n",
    "                    x = i[0]\n",
    "                    y = i[1]\n",
    "\n",
    "                    x2, y2 = src.transform * (x, y)\n",
    "\n",
    "                    coords.append((x2, y2))\n",
    "\n",
    "                output.append({\n",
    "                    'type': vec[0]['type'],\n",
    "                    'geometry': {\n",
    "                        'type': 'Polygon',\n",
    "                        'coordinates': [coords],\n",
    "                    },\n",
    "                    'properties': {\n",
    "                        'value': vec[1],\n",
    "                    }\n",
    "                })\n",
    "\n",
    "    output = geopandas.GeoDataFrame.from_features(output, crs='epsg:4326')\n",
    "    output.to_file(path_out, driver='ESRI Shapefile')\n"
   ]
  },
  {
   "cell_type": "markdown",
   "id": "74c4beeb",
   "metadata": {},
   "source": [
    "Now you have your shapefile data layer in place, we can begin to plot that code.  \n",
    "\n",
    "We will need our plotting packages."
   ]
  },
  {
   "cell_type": "code",
   "execution_count": null,
   "id": "8eab76ba",
   "metadata": {
    "scrolled": true
   },
   "outputs": [],
   "source": [
    "# Example\n",
    "import matplotlib.pyplot as plt\n",
    "import seaborn as sns\n",
    "import contextily as cx"
   ]
  },
  {
   "cell_type": "markdown",
   "id": "a3b61873",
   "metadata": {},
   "source": [
    "First, let's set up our plotting interface."
   ]
  },
  {
   "cell_type": "code",
   "execution_count": null,
   "id": "479676e4",
   "metadata": {},
   "outputs": [],
   "source": [
    "# Example\n",
    "fig, ax = plt.subplots(1, 1, figsize=(10, 10))"
   ]
  },
  {
   "cell_type": "markdown",
   "id": "74b289d6",
   "metadata": {},
   "source": [
    "Set the path for our shapefile data."
   ]
  },
  {
   "cell_type": "code",
   "execution_count": null,
   "id": "3dae61bf",
   "metadata": {},
   "outputs": [],
   "source": [
    "# Example\n",
    "folder = os.path.join('..', 'data', 'processed', 'RWA', 'hazards', 'inunriver')\n",
    "filename = 'inunriver_rcp8p5_MIROC-ESM-CHEM_2080_rp01000.shp'\n",
    "path_in = os.path.join(folder, filename)\n",
    "path_in"
   ]
  },
  {
   "cell_type": "markdown",
   "id": "b90f4c79",
   "metadata": {},
   "source": [
    "Load in our shapefile data."
   ]
  },
  {
   "cell_type": "code",
   "execution_count": null,
   "id": "c63fe6a0",
   "metadata": {},
   "outputs": [],
   "source": [
    "# Example\n",
    "hazard = geopandas.read_file(path_in, crs='epsg:3857')\n",
    "hazard = hazard.to_crs(4326)\n",
    "hazard.plot(color='blue', linewidth=1.5, alpha=.7, legend=True, edgecolor=None, ax=ax)"
   ]
  },
  {
   "cell_type": "markdown",
   "id": "45eee141",
   "metadata": {},
   "source": [
    "We will want to add a `contextily` basemap."
   ]
  },
  {
   "cell_type": "code",
   "execution_count": null,
   "id": "37e2a667",
   "metadata": {},
   "outputs": [],
   "source": [
    "# Example\n",
    "cx.add_basemap(ax, crs='epsg:4326')"
   ]
  },
  {
   "cell_type": "markdown",
   "id": "fa129280",
   "metadata": {},
   "source": [
    "And create a title for our plot."
   ]
  },
  {
   "cell_type": "code",
   "execution_count": null,
   "id": "8d498979",
   "metadata": {},
   "outputs": [],
   "source": [
    "# Example\n",
    "hazard_type = filename.split('_')[0]\n",
    "scenario = filename.split('_')[1]\n",
    "model = filename.split('_')[2]\n",
    "year = filename.split('_')[3]\n",
    "return_period = filename.split('_')[4]\n",
    "\n",
    "return_period = return_period.replace('.shp', '')\n",
    "\n",
    "main_title = 'Projected River Flooding: {}, {}, {}, {}, {}, {}'.format('RWA', hazard_type, scenario, model, year, return_period)\n",
    "plt.suptitle(main_title, fontsize=14, wrap=True)"
   ]
  },
  {
   "cell_type": "code",
   "execution_count": null,
   "id": "23d0dc74",
   "metadata": {},
   "outputs": [],
   "source": [
    "Finally, we can write out our figure:"
   ]
  },
  {
   "cell_type": "code",
   "execution_count": null,
   "id": "6b139933",
   "metadata": {},
   "outputs": [],
   "source": [
    "# Example\n",
    "path_out = os.path.join('..', 'data', 'processed', 'RWA', 'inunriver_rcp8p5_MIROC-ESM-CHEM_2080_rp01000.png')\n",
    "\n",
    "plt.savefig(path_out)\n",
    "plt.close()\n",
    "\n",
    "print('Figure processing complete')"
   ]
  },
  {
   "cell_type": "markdown",
   "id": "dc306910",
   "metadata": {},
   "source": [
    "# Exercise 1.4\n",
    "\n",
    "Try generate a map for Grenada.\n",
    "\n",
    "Convert the flood layer color to black. "
   ]
  }
 ],
 "metadata": {
  "kernelspec": {
   "display_name": "Python 3",
   "language": "python",
   "name": "python3"
  },
  "language_info": {
   "codemirror_mode": {
    "name": "ipython",
    "version": 3
   },
   "file_extension": ".py",
   "mimetype": "text/x-python",
   "name": "python",
   "nbconvert_exporter": "python",
   "pygments_lexer": "ipython3",
   "version": "3.9.12"
  }
 },
 "nbformat": 4,
 "nbformat_minor": 5
}
