{
 "cells": [
  {
   "cell_type": "markdown",
   "id": "b6d0799a",
   "metadata": {},
   "source": [
    "## Dictionaries"
   ]
  },
  {
   "cell_type": "markdown",
   "id": "38514ef1",
   "metadata": {},
   "source": [
    "Unlike lists where square brackets are used (e.g., `[]`), or tuples where round brackets are used (e.g., `()`), dictionaries use curly brackets e.g., `{ }`. \n",
    "\n",
    "Whereas lists have an inherent order, dictionaries have no order. In fact, python guarantees no repeatable order. This is because the data structure is indexed using keys, not numbers. \n",
    "\n",
    "*A Python list is a collection of Python objects indexed by an ordered sequence of integers\n",
    "starting from zero. A dictionary is also a collection of Python objects, just like a list,\n",
    "but one that is indexed by strings or numbers (not necessarily integers and not in any\n",
    "particular order) or even tuples!*, (Pine, 2013).\n",
    "\n",
    "Dicts have a very specific structure inside the curly brackets, based on key-value pairs. They have this name as each pair has a key and a value separated by a colon. See the `my_dict` example below: "
   ]
  },
  {
   "cell_type": "code",
   "execution_count": 1,
   "id": "91c2f19c",
   "metadata": {},
   "outputs": [
    {
     "data": {
      "text/plain": [
       "{'my_key': 'my_value'}"
      ]
     },
     "execution_count": 1,
     "metadata": {},
     "output_type": "execute_result"
    }
   ],
   "source": [
    "# Example\n",
    "my_dict = {\n",
    "# 'key' : 'value',\n",
    "'my_key': 'my_value',\n",
    "}\n",
    "my_dict"
   ]
  },
  {
   "cell_type": "markdown",
   "id": "d583ee2f",
   "metadata": {},
   "source": [
    "Dicts can actually hold any data types, even other lists or dicts. "
   ]
  },
  {
   "cell_type": "code",
   "execution_count": null,
   "id": "1447a114",
   "metadata": {},
   "outputs": [],
   "source": [
    "# Example\n",
    "my_dict = {\n",
    "'my_key': 6,\n",
    "'my_second_key': (0, 1, 2, 3),\n",
    "}\n",
    "my_dict"
   ]
  },
  {
   "cell_type": "markdown",
   "id": "1ad14cbb",
   "metadata": {},
   "source": [
    "Example: Let us create a dictionary containing Remote Sensing satellite mission information with year of launch, ownership and orbital inclination.\n",
    "\n",
    "We first need to create our empty dictionary:"
   ]
  },
  {
   "cell_type": "code",
   "execution_count": 10,
   "id": "2294d563",
   "metadata": {},
   "outputs": [
    {
     "data": {
      "text/plain": [
       "{}"
      ]
     },
     "execution_count": 10,
     "metadata": {},
     "output_type": "execute_result"
    }
   ],
   "source": [
    "# Example\n",
    "my_dict = {} # This is our empty dict!\n",
    "my_dict # As demonstrated when printed!"
   ]
  },
  {
   "cell_type": "code",
   "execution_count": 11,
   "id": "d1823cdc",
   "metadata": {},
   "outputs": [
    {
     "data": {
      "text/plain": [
       "{'country': 'United States of America', 'iso3': 'USA', 'iso2': 'US'}"
      ]
     },
     "execution_count": 11,
     "metadata": {},
     "output_type": "execute_result"
    }
   ],
   "source": [
    "# Example\n",
    "# Let's populate our dictionary.\n",
    "my_dict['country'] = 'United States of America' \n",
    "my_dict['iso3'] = 'USA'\n",
    "my_dict['iso2'] = 'US'\n",
    "my_dict"
   ]
  },
  {
   "cell_type": "markdown",
   "id": "43c07b6c",
   "metadata": {},
   "source": [
    "The real strength of dicts comes when you want to index into them to grab information from the key-value pairs. \n",
    "\n",
    "For example, we can access the mission name from the dict as follows:"
   ]
  },
  {
   "cell_type": "code",
   "execution_count": 12,
   "id": "edb9370c",
   "metadata": {},
   "outputs": [
    {
     "data": {
      "text/plain": [
       "'USA'"
      ]
     },
     "execution_count": 12,
     "metadata": {},
     "output_type": "execute_result"
    }
   ],
   "source": [
    "# Example\n",
    "# So we can index into the dict using the key name, \n",
    "# and it returns the value from that pair!\n",
    "my_dict['iso3'] "
   ]
  },
  {
   "cell_type": "markdown",
   "id": "962b26dd",
   "metadata": {},
   "source": [
    "We can also access the keys and values separately using either the `.keys()` or `.values()` functions."
   ]
  },
  {
   "cell_type": "code",
   "execution_count": 13,
   "id": "59c0306d",
   "metadata": {},
   "outputs": [
    {
     "data": {
      "text/plain": [
       "dict_keys(['country', 'iso3', 'iso2'])"
      ]
     },
     "execution_count": 13,
     "metadata": {},
     "output_type": "execute_result"
    }
   ],
   "source": [
    "my_dict.keys()"
   ]
  },
  {
   "cell_type": "code",
   "execution_count": 14,
   "id": "f1fa9213",
   "metadata": {},
   "outputs": [
    {
     "data": {
      "text/plain": [
       "dict_values(['United States of America', 'USA', 'US'])"
      ]
     },
     "execution_count": 14,
     "metadata": {},
     "output_type": "execute_result"
    }
   ],
   "source": [
    "my_dict.values()"
   ]
  },
  {
   "cell_type": "markdown",
   "id": "ac14fdbd",
   "metadata": {},
   "source": [
    "We can also iterate over the keys using a loop:"
   ]
  },
  {
   "cell_type": "code",
   "execution_count": 15,
   "id": "5eabd79f",
   "metadata": {},
   "outputs": [
    {
     "name": "stdout",
     "output_type": "stream",
     "text": [
      "country\n",
      "iso3\n",
      "iso2\n"
     ]
    }
   ],
   "source": [
    "for key in my_dict.keys():\n",
    "    print(key)"
   ]
  },
  {
   "cell_type": "markdown",
   "id": "078d0f00",
   "metadata": {},
   "source": [
    "And we can do the same only for the values:"
   ]
  },
  {
   "cell_type": "code",
   "execution_count": 16,
   "id": "ec89e165",
   "metadata": {},
   "outputs": [
    {
     "name": "stdout",
     "output_type": "stream",
     "text": [
      "United States of America\n",
      "USA\n",
      "US\n"
     ]
    }
   ],
   "source": [
    "for value in my_dict.values():\n",
    "    print(value)"
   ]
  },
  {
   "cell_type": "markdown",
   "id": "5c2427e6",
   "metadata": {},
   "source": [
    "We can also iterate over the keys and values in tandem using `.items()`:"
   ]
  },
  {
   "cell_type": "code",
   "execution_count": 17,
   "id": "62212112",
   "metadata": {
    "scrolled": true
   },
   "outputs": [
    {
     "name": "stdout",
     "output_type": "stream",
     "text": [
      "country United States of America\n",
      "iso3 USA\n",
      "iso2 US\n"
     ]
    }
   ],
   "source": [
    "for key, value in my_dict.items():\n",
    "    print(key, value)"
   ]
  },
  {
   "cell_type": "markdown",
   "id": "a675b648",
   "metadata": {},
   "source": [
    "## Exercise\n",
    "\n",
    "Let's recap on dictionaries.\n",
    "\n",
    "Create a dictionary called `my_dict` and add a key called `my_first_key` and a value called `my_first_value`."
   ]
  },
  {
   "cell_type": "code",
   "execution_count": null,
   "id": "b669b528",
   "metadata": {},
   "outputs": [],
   "source": [
    "# Enter your attempt here\n"
   ]
  },
  {
   "cell_type": "markdown",
   "id": "d2f33f33",
   "metadata": {},
   "source": [
    "Add a new key called `my_key2` and allocate it the value `my_value2`."
   ]
  },
  {
   "cell_type": "code",
   "execution_count": null,
   "id": "3e51a9aa",
   "metadata": {},
   "outputs": [],
   "source": [
    "# Enter your attempt here\n"
   ]
  },
  {
   "cell_type": "markdown",
   "id": "0fcae298",
   "metadata": {},
   "source": [
    "Now index `my_value2` and allocate it to a variable called `my_new_variable`: "
   ]
  },
  {
   "cell_type": "code",
   "execution_count": null,
   "id": "a7ffcd13",
   "metadata": {},
   "outputs": [],
   "source": [
    "# Enter your attempt here\n"
   ]
  },
  {
   "cell_type": "markdown",
   "id": "f40c1f27",
   "metadata": {},
   "source": [
    "Now print the keys of your dictionary."
   ]
  },
  {
   "cell_type": "code",
   "execution_count": null,
   "id": "e6275657",
   "metadata": {},
   "outputs": [],
   "source": [
    "# Enter your attempt here\n"
   ]
  },
  {
   "cell_type": "markdown",
   "id": "b9e1368e",
   "metadata": {},
   "source": [
    "And print the values of your dictionary."
   ]
  },
  {
   "cell_type": "code",
   "execution_count": null,
   "id": "68d5477f",
   "metadata": {},
   "outputs": [],
   "source": [
    "# Enter your attempt here\n"
   ]
  },
  {
   "cell_type": "markdown",
   "id": "ecf36641",
   "metadata": {},
   "source": [
    "Finally, print both the keys and the values using a loop:"
   ]
  },
  {
   "cell_type": "code",
   "execution_count": null,
   "id": "55a51766",
   "metadata": {},
   "outputs": [],
   "source": [
    "# Enter your attempt here\n"
   ]
  }
 ],
 "metadata": {
  "kernelspec": {
   "display_name": "Python 3",
   "language": "python",
   "name": "python3"
  },
  "language_info": {
   "codemirror_mode": {
    "name": "ipython",
    "version": 3
   },
   "file_extension": ".py",
   "mimetype": "text/x-python",
   "name": "python",
   "nbconvert_exporter": "python",
   "pygments_lexer": "ipython3",
   "version": "3.9.12"
  }
 },
 "nbformat": 4,
 "nbformat_minor": 5
}
