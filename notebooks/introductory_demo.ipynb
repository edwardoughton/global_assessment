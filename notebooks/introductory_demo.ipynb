{
 "cells": [
  {
   "cell_type": "markdown",
   "id": "998ba2d9",
   "metadata": {},
   "source": [
    "# Introductory demo to global assessment methods\n",
    "\n",
    "This demo provides a basic overview of the key techniques we will use in this class to extract information from raster layers, for specific boundary areas. \n",
    "\n",
    "The packages utilized include the following:\n",
    "\n",
    "- `os` which stands for 'operating system' and contains generic portable functions for using operating system dependent functionality.\n",
    "- `rasterio` which broadly stands for 'raster input-output' providing reading and writing functionality for raster formats. Once a `rasterio` object has been created this object provides a Python API based on Numpy N-dimensional arrays and GeoJSON.\n",
    "- `geopandas` which stands for 'geographic panel data' and is an open source project to make working with geospatial data in python easier. `geopandas` extends the datatypes used by pandas to allow spatial operations on geometric types. Geometric operations are performed by `shapely`, depends on `fiona` for file access and `matplotlib` for plotting.\n",
    "- `rasterstats` is a Python module for summarizing geospatial raster datasets based on vector geometries. It includes functions for zonal statistics and interpolated point queries. The command-line interface allows for easy interoperability with other GeoJSON tools.\n",
    "\n",
    "This might seem like a lot, but it pretty much covers the full gambit of packages we will use in this `Global Assessment` class. \n",
    "\n",
    "If you can master these packages in the relatively basic ways presented here, you will be in a very strong position to excel in this class, and subsequently get a good, well-paid job. \n",
    "\n",
    "Let's begin by importing these packages:\n"
   ]
  },
  {
   "cell_type": "code",
   "execution_count": 1,
   "id": "65d46add",
   "metadata": {},
   "outputs": [],
   "source": [
    "# Example\n",
    "import os\n",
    "import rasterio \n",
    "import geopandas as gpd\n",
    "from rasterstats import zonal_stats"
   ]
  },
  {
   "cell_type": "markdown",
   "id": "ce0bbec4",
   "metadata": {},
   "source": [
    "Next, we want to set the path to the data layers we have. \n",
    "\n",
    "Two different types of data exist here:\n",
    "\n",
    "- a GADM shapefile for a boundary area in Rwanda\n",
    "- a `World Pop` population density map for Rwanda\n",
    "\n",
    "You can view these in the `github.com/edwardoughton/global_assessment/data` folder. We can use the `os` model to state the path to these files. For example, the function `os.path.join()` will help us stitch together a directory structure. \n",
    "\n",
    "We actually need to go up one folder using the double period indicator (`..`), and then into the `data` folder. The file we want is called `rwa_pd_2020_1km.tif`. This can be completed like so:"
   ]
  },
  {
   "cell_type": "code",
   "execution_count": 2,
   "id": "9a4f54bf",
   "metadata": {},
   "outputs": [
    {
     "name": "stdout",
     "output_type": "stream",
     "text": [
      "../data/rwa_pd_2020_1km.tif\n"
     ]
    }
   ],
   "source": [
    "# Example\n",
    "path_population = os.path.join('..','data','rwa_pd_2020_1km.tif')\n",
    "print(path_population)"
   ]
  },
  {
   "cell_type": "markdown",
   "id": "d43387ff",
   "metadata": {},
   "source": [
    "We are now ready to try load this layer in using `rasterio`. We can do this by first using the `rasterio.open()` function, which then creates our `rasterio` object. "
   ]
  },
  {
   "cell_type": "code",
   "execution_count": 3,
   "id": "476d52ef",
   "metadata": {},
   "outputs": [
    {
     "name": "stdout",
     "output_type": "stream",
     "text": [
      "<open DatasetReader name='../data/rwa_pd_2020_1km.tif' mode='r'>\n"
     ]
    }
   ],
   "source": [
    "# Example\n",
    "data = rasterio.open(path_population)\n",
    "print(data)"
   ]
  },
  {
   "cell_type": "markdown",
   "id": "d4761d54",
   "metadata": {},
   "source": [
    "We can now see that we have our rasterio object created, and therefore we have access to the Python API interface for this .tif file based on Numpy N-dimensional arrays. "
   ]
  },
  {
   "cell_type": "code",
   "execution_count": 4,
   "id": "3da48572",
   "metadata": {},
   "outputs": [
    {
     "name": "stdout",
     "output_type": "stream",
     "text": [
      "[[-99999. -99999. -99999. ... -99999. -99999. -99999.]\n",
      " [-99999. -99999. -99999. ... -99999. -99999. -99999.]\n",
      " [-99999. -99999. -99999. ... -99999. -99999. -99999.]\n",
      " ...\n",
      " [-99999. -99999. -99999. ... -99999. -99999. -99999.]\n",
      " [-99999. -99999. -99999. ... -99999. -99999. -99999.]\n",
      " [-99999. -99999. -99999. ... -99999. -99999. -99999.]]\n"
     ]
    }
   ],
   "source": [
    "# Example\n",
    "data = data.read(1)\n",
    "print(data)"
   ]
  },
  {
   "cell_type": "markdown",
   "id": "4e758e42",
   "metadata": {},
   "source": [
    "We are now ready to begin extracting data from the population density layer, as desired. \n",
    "\n",
    "However, in this demo today, we will utilize a spatial boundary to extract data for a specific region. \n",
    "\n",
    "This means we need to create/obtain/load this boundary. Rather than create a boundary from scratch (e.g., a grid), let's load in our existing regional boundary for Rwanda. First, we need to specify our path to the file:"
   ]
  },
  {
   "cell_type": "code",
   "execution_count": 5,
   "id": "4999c270",
   "metadata": {},
   "outputs": [
    {
     "name": "stdout",
     "output_type": "stream",
     "text": [
      "../data/gadm41_RWA_0.shp\n"
     ]
    }
   ],
   "source": [
    "# Example\n",
    "path_boundary = os.path.join('..','data','gadm41_RWA_0.shp')\n",
    "print(path_boundary)"
   ]
  },
  {
   "cell_type": "markdown",
   "id": "16952923",
   "metadata": {},
   "source": [
    "And now we have the path, we can load the boundary in using the `geopandas` function `read_file()` as follows. \n",
    "\n",
    "Let us also specify the coordinate reference system (crs) which is WGS84 (also known as epsg:4326)."
   ]
  },
  {
   "cell_type": "code",
   "execution_count": 6,
   "id": "08197b1c",
   "metadata": {},
   "outputs": [
    {
     "name": "stdout",
     "output_type": "stream",
     "text": [
      "  GID_0 COUNTRY                                           geometry\n",
      "0   RWA  Rwanda  POLYGON ((29.71332 -2.81759, 29.71295 -2.81774...\n"
     ]
    }
   ],
   "source": [
    "# Example\n",
    "boundary = gpd.read_file(path_boundary, crs='epsg:4326')\n",
    "print(boundary)"
   ]
  },
  {
   "cell_type": "markdown",
   "id": "38551c62",
   "metadata": {},
   "source": [
    "Now we know both our data layers are working properly as we have loaded them and checked their contents. \n",
    "\n",
    "Let us specify the full code for querying this .tif population density layer for our chosen boundary. We're going to use `with`, rather than the generic `open()` as it provides us with cleaner functionalityt, ensuring resources are closed right after using/processing."
   ]
  },
  {
   "cell_type": "code",
   "execution_count": 7,
   "id": "d766dce0",
   "metadata": {},
   "outputs": [
    {
     "name": "stdout",
     "output_type": "stream",
     "text": [
      "15658804\n"
     ]
    }
   ],
   "source": [
    "# Example\n",
    "with rasterio.open(path_population) as src:\n",
    "\n",
    "    affine = src.transform                       #here we load the affine function \n",
    "    array = src.read(1)                          #here we load our actual data from layer 1\n",
    "    array[array <= 0] = 0                        #here we get rid of negative number \n",
    "\n",
    "    population = [i['sum'] for i in zonal_stats( #now we sum all cells within our zonal boundary \n",
    "        boundary['geometry'],   #<- providing our boundary\n",
    "        array,                  #<- providing our .tif raster data \n",
    "        nodata=255,             #<- stating the value that cells with no data will have\n",
    "        stats=['sum'],          #<- stating what statistics we want\n",
    "        affine=affine)][0]      #<- providing the affine function to convert between coordinate systems\n",
    "    \n",
    "    #now let's print the sum of the population in our area!\n",
    "    print(round(population))"
   ]
  }
 ],
 "metadata": {
  "kernelspec": {
   "display_name": "Python 3 (ipykernel)",
   "language": "python",
   "name": "python3"
  },
  "language_info": {
   "codemirror_mode": {
    "name": "ipython",
    "version": 3
   },
   "file_extension": ".py",
   "mimetype": "text/x-python",
   "name": "python",
   "nbconvert_exporter": "python",
   "pygments_lexer": "ipython3",
   "version": "3.7.16"
  }
 },
 "nbformat": 4,
 "nbformat_minor": 5
}
