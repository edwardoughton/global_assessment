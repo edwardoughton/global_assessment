{
 "cells": [
  {
   "cell_type": "markdown",
   "id": "ff53e4d4",
   "metadata": {},
   "source": [
    "# Intro to `geopandas`"
   ]
  },
  {
   "cell_type": "markdown",
   "id": "3f88cf25",
   "metadata": {},
   "source": [
    "The beauty of `geopandas` is that it enables us to manage spatial info using the Python Data Analysis Library: https://pandas.pydata.org\n",
    "\n",
    "Let's start by installing the package:"
   ]
  },
  {
   "cell_type": "code",
   "execution_count": null,
   "id": "29b48717",
   "metadata": {},
   "outputs": [],
   "source": [
    "# Example\n",
    "# import sys\n",
    "# !conda install --yes --prefix {sys.prefix} numpy=1.22\n",
    "# !conda install --yes --prefix {sys.prefix} geopandas\n",
    "import geopandas as gpd"
   ]
  },
  {
   "cell_type": "markdown",
   "id": "2ce06148",
   "metadata": {},
   "source": [
    "## A quick recap on `pandas`\n",
    "\n",
    "Pandas is a Python package \"providing fast, flexible, and expressive data structures designed to make working with “relational” or “labeled” data both easy and intuitive\". \n",
    "\n",
    "It provides us with a range of capabilities:\n",
    "\n",
    "- DataFrame object for data manipulation with integrated indexing.\n",
    "- Tools for reading and writing data between in-memory data structures and different file formats.\n",
    "- Data alignment and integrated handling of missing data.\n",
    "- Reshaping and pivoting of data sets.\n",
    "- Label-based slicing, fancy indexing, and subsetting of large data sets.\n",
    "- Data structure column insertion and deletion.\n",
    "- Group by engine allowing split-apply-combine operations on data sets.\n",
    "- Data set merging and joining.\n",
    "- Hierarchical axis indexing to work with high-dimensional data in a lower-dimensional data structure.\n",
    "- Time series-functionality: Date range generation[6] and frequency conversions, moving window statistics, moving window linear regressions, date shifting and lagging.\n",
    "- Provides data filtration.\n",
    "\n",
    "\n"
   ]
  },
  {
   "cell_type": "markdown",
   "id": "be6e20d7",
   "metadata": {},
   "source": [
    "## So what is special about `geopandas`?\n",
    "\n",
    "\"GeoPandas is a project to add support for geographic data to pandas objects. It currently implements GeoSeries and GeoDataFrame types which are subclasses of pandas.Series and pandas.DataFrame respectively. GeoPandas objects can act on shapely geometry objects and perform geometric operations.\"\n",
    "\n",
    "See the Git repo for more information: https://github.com/geopandas/geopandas\n",
    "\n",
    "The GeoPandas dataframe holds a geometry column which enables cartesian geometry operations (meaning it can interpret pairs of numerical coordinates in space). \n",
    "\n",
    "The coordinate reference system (crs) can be stored as an attribute on an object, and is automatically set when loading from a file. Objects may be transformed to new coordinate systems with the `to_crs()` method. \n",
    "\n",
    "Here we will cover the following basic operations:\n",
    "\n",
    "- Reading data to a geopandas dataframe\n",
    "- Manipulating column data \n",
    "- Creating a new column\n",
    "- Changing coordinate reference systems\n",
    "- Writing data to a geopandas dataframe\n"
   ]
  },
  {
   "cell_type": "markdown",
   "id": "a020a2ae",
   "metadata": {},
   "source": [
    "### Reading vector shapefile data to a `geopandas` dataframe\n",
    "\n",
    "Let's read in the shapefile for GMU. \n",
    "\n",
    "To load this in, we can find the current folder using the `os` package which we previously used, as follows, via the `getcwd` function:"
   ]
  },
  {
   "cell_type": "code",
   "execution_count": null,
   "id": "6f4fd12c",
   "metadata": {},
   "outputs": [],
   "source": [
    "import os\n",
    "\n",
    "## getcwd stands for 'get current working directory'\n",
    "current_dir = os.getcwd()\n",
    "\n",
    "print(current_dir)    "
   ]
  },
  {
   "cell_type": "markdown",
   "id": "1442e6b2",
   "metadata": {},
   "source": [
    "The `current_dir` variable is merely a string of the directory path which we can manipulate."
   ]
  },
  {
   "cell_type": "code",
   "execution_count": null,
   "id": "7e0d96b0",
   "metadata": {},
   "outputs": [],
   "source": [
    "## getcwd stands for 'get current working directory'\n",
    "current_dir = os.getcwd()\n",
    "\n",
    "path = current_dir + '/../'+  'data'+ '/gmu.shp'\n",
    "\n",
    "print(path)    "
   ]
  },
  {
   "cell_type": "markdown",
   "id": "8e9a50ce",
   "metadata": {},
   "source": [
    "Now we're ready to read in the data using the path we've specified.\n",
    "\n",
    "Let's first load `geopandas` which should already be installed in your environment. \n",
    "\n",
    "Then we can use the GeoPandas function `read_file` and provide the following arguments:\n",
    "- `path` which contains the path to the shapefile we want to load, and\n",
    "- `crs` which states the coordinate reference system\n"
   ]
  },
  {
   "cell_type": "code",
   "execution_count": null,
   "id": "d62e4fff",
   "metadata": {
    "scrolled": true
   },
   "outputs": [],
   "source": [
    "#load the file as the variable named data\n",
    "data = gpd.read_file(path, crs='epsg:4326') \n",
    "print(data)"
   ]
  },
  {
   "cell_type": "markdown",
   "id": "c8e43828",
   "metadata": {},
   "source": [
    "## Basic `geopandas` functions\n",
    "\n",
    "`geopandas` provide us with some great functionality, for example, we can change the crs as follows:"
   ]
  },
  {
   "cell_type": "code",
   "execution_count": null,
   "id": "679d72a1",
   "metadata": {},
   "outputs": [],
   "source": [
    "# The previous crs was in decimel degrees (epsg:4326), so let's change to meters ('epsg:3857')\n",
    "data = data.to_crs('epsg:3857')\n",
    "print(data)"
   ]
  },
  {
   "cell_type": "markdown",
   "id": "4fb717fa",
   "metadata": {},
   "source": [
    "Now we are working with a crs which is in meters, we can take the area of this shape as follows:"
   ]
  },
  {
   "cell_type": "code",
   "execution_count": null,
   "id": "bb375c82",
   "metadata": {},
   "outputs": [],
   "source": [
    "# Due to our current CRS, the area will be in square meters\n",
    "data['area'] = data['geometry'].area \n",
    "print(data)"
   ]
  },
  {
   "cell_type": "markdown",
   "id": "e4ac4a09",
   "metadata": {},
   "source": [
    "The beauty is we can manipulate this as a normal pandas dataframe.\n",
    "\n",
    "So let's for example, convert our square meters into square kilometers (which requires us to divide by 1e6)\n",
    "\n",
    "Remember, we can select a variable by using the square parentheses to index (e.g. `data['area']` gets the area column), and then create a new column this way too (e.g. `data['area_km2']` is the new column we wish to make)."
   ]
  },
  {
   "cell_type": "code",
   "execution_count": null,
   "id": "b8b6a6bb",
   "metadata": {},
   "outputs": [],
   "source": [
    "data['area_km2'] = data['area'] / 1e6\n",
    "print(data['area_km2'])"
   ]
  },
  {
   "cell_type": "markdown",
   "id": "d39d2be7",
   "metadata": {},
   "source": [
    "We can see the whole dataframe structure with our new column, as follows:"
   ]
  },
  {
   "cell_type": "code",
   "execution_count": null,
   "id": "1667bcbd",
   "metadata": {},
   "outputs": [],
   "source": [
    "print(data)"
   ]
  },
  {
   "cell_type": "markdown",
   "id": "61d0d696",
   "metadata": {},
   "source": [
    "We are able to loop over any content in a GeoDataFrame the same way we would a normal DataFrame, by using the `iterrows()` function, as follows:"
   ]
  },
  {
   "cell_type": "code",
   "execution_count": null,
   "id": "5cf83c9f",
   "metadata": {},
   "outputs": [],
   "source": [
    "for row in data.iterrows():\n",
    "    print(row)"
   ]
  },
  {
   "cell_type": "markdown",
   "id": "cfe1f16d",
   "metadata": {},
   "source": [
    "This means we can access and print specific parts of each row. \n",
    "\n",
    "The important thing to remember is that you have the row index (here it's a zero) and then the actual row information.\n",
    "\n",
    "For example, we can break out the row index here using `[0]`, and the row information using `[1]`:"
   ]
  },
  {
   "cell_type": "code",
   "execution_count": null,
   "id": "a527e88a",
   "metadata": {},
   "outputs": [],
   "source": [
    "for row in data.iterrows():\n",
    "    \n",
    "    ##this will print our row index\n",
    "    print(row[0]) \n",
    "\n",
    "    ##this will print our row information\n",
    "    print(row[1])"
   ]
  },
  {
   "cell_type": "markdown",
   "id": "c1e48634",
   "metadata": {},
   "source": [
    "We can then access just the geometry as follows:"
   ]
  },
  {
   "cell_type": "code",
   "execution_count": null,
   "id": "577c1141",
   "metadata": {},
   "outputs": [],
   "source": [
    "for row in data.iterrows():\n",
    "    \n",
    "    ##this will print our row geometry\n",
    "    print(row[1]['geometry'])"
   ]
  },
  {
   "cell_type": "markdown",
   "id": "380ce0a7",
   "metadata": {},
   "source": [
    "And we can carry out any manipulations we want in this loop, such as taking the area (let's reuse this as it used it before, so you will be familiar):"
   ]
  },
  {
   "cell_type": "code",
   "execution_count": null,
   "id": "f2e36027",
   "metadata": {},
   "outputs": [],
   "source": [
    "for row in data.iterrows():\n",
    "    \n",
    "    ##this will print our row geometry\n",
    "    area_km2 = (row[1]['geometry'].area / 1e6)\n",
    "    \n",
    "    ##this will round our area to 1 decimal place\n",
    "    area_km2 = round(area_km2, 1)\n",
    "    \n",
    "    print(\"The area of GMU campus is {} square kilometers\".format(area_km2))"
   ]
  }
 ],
 "metadata": {
  "kernelspec": {
   "display_name": "Python 3",
   "language": "python",
   "name": "python3"
  },
  "language_info": {
   "codemirror_mode": {
    "name": "ipython",
    "version": 3
   },
   "file_extension": ".py",
   "mimetype": "text/x-python",
   "name": "python",
   "nbconvert_exporter": "python",
   "pygments_lexer": "ipython3",
   "version": "3.9.12"
  }
 },
 "nbformat": 4,
 "nbformat_minor": 5
}
