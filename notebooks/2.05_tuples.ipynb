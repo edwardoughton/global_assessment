{
 "cells": [
  {
   "cell_type": "markdown",
   "id": "35f602fd",
   "metadata": {},
   "source": [
    "## Tuples"
   ]
  },
  {
   "cell_type": "markdown",
   "id": "ee94b8e4",
   "metadata": {},
   "source": [
    "Tuples are lists which are immutable (their individual elements cannot be changed).\n",
    "\n",
    "They are defined by their parentheses e.g. `my_tuple = (0, 1, 2, 3)`\n",
    "\n",
    "This contrasts with lists which use square brackets, e.g. [], or dictionaries which use curly brackets e.g. {}.\n",
    "\n",
    "The individual elements can be accessed in similar manner as lists."
   ]
  },
  {
   "cell_type": "code",
   "execution_count": null,
   "id": "ab413d76",
   "metadata": {},
   "outputs": [],
   "source": [
    "# Example\n",
    "c = (10,20,30,40,50,60)\n",
    "c"
   ]
  },
  {
   "cell_type": "code",
   "execution_count": null,
   "id": "0cbc91df",
   "metadata": {},
   "outputs": [],
   "source": [
    "# Let's index the value at position 3 (remember zero indexing):\n",
    "# Example\n",
    "c[3]"
   ]
  },
  {
   "cell_type": "markdown",
   "id": "5a1dcddd",
   "metadata": {},
   "source": [
    "Let's try changing an element of a tuple. "
   ]
  },
  {
   "cell_type": "code",
   "execution_count": null,
   "id": "c731290e",
   "metadata": {},
   "outputs": [],
   "source": [
    "# Remember tuples are immutable though, so you can't change their contents like this!\n",
    "# Example\n",
    "c[4] = 100\n",
    "c"
   ]
  },
  {
   "cell_type": "markdown",
   "id": "e32a0267",
   "metadata": {},
   "source": [
    "A really useful characteristic of tuples is that you can unpack them to individual variables:"
   ]
  },
  {
   "cell_type": "code",
   "execution_count": null,
   "id": "11e7e9b5",
   "metadata": {},
   "outputs": [],
   "source": [
    "# So for our tuple c, we can unpack the elements individually to x, y, z:\n",
    "# Example\n",
    "c = (10,20,30)\n",
    "x, y, z = c\n",
    "x"
   ]
  },
  {
   "cell_type": "markdown",
   "id": "73cb2964",
   "metadata": {},
   "source": [
    "## Exercise\n",
    "\n",
    "Let us now recap on tuples.\n",
    "\n",
    "Create a tuple with the numbers 6, 7, 8 called `my_tuple`.\n"
   ]
  },
  {
   "cell_type": "code",
   "execution_count": null,
   "id": "9e06b8a9",
   "metadata": {},
   "outputs": [],
   "source": [
    "# Enter your attempt here\n"
   ]
  },
  {
   "cell_type": "markdown",
   "id": "234490d1",
   "metadata": {},
   "source": [
    "Index the number `7` and allocate it to a variable `my_item1`. Remember zero indexing ;]"
   ]
  },
  {
   "cell_type": "code",
   "execution_count": null,
   "id": "9b62dc08",
   "metadata": {},
   "outputs": [],
   "source": [
    "# Enter your attempt here\n"
   ]
  },
  {
   "cell_type": "markdown",
   "id": "9fbc5f66",
   "metadata": {},
   "source": [
    "Index the number `6` and allocate it to a variable `my_item2`. "
   ]
  },
  {
   "cell_type": "code",
   "execution_count": null,
   "id": "cd8c6c98",
   "metadata": {},
   "outputs": [],
   "source": [
    "# Enter your attempt here\n"
   ]
  },
  {
   "cell_type": "markdown",
   "id": "355d760e",
   "metadata": {},
   "source": [
    "Create a new tuple called `my_new_tuple` using the items in index location 1 and 2 in `my_tuple`:"
   ]
  },
  {
   "cell_type": "code",
   "execution_count": null,
   "id": "706cdfd1",
   "metadata": {},
   "outputs": [],
   "source": [
    "# Enter your attempt here\n"
   ]
  },
  {
   "cell_type": "markdown",
   "id": "49db727d",
   "metadata": {},
   "source": [
    "Using a single line, unpack all items in our tuple to the variables `var1`, `var2`, `var3`:"
   ]
  },
  {
   "cell_type": "code",
   "execution_count": null,
   "id": "6393f2d4",
   "metadata": {},
   "outputs": [],
   "source": [
    "# Enter your attempt here\n"
   ]
  }
 ],
 "metadata": {
  "kernelspec": {
   "display_name": "Python 3",
   "language": "python",
   "name": "python3"
  },
  "language_info": {
   "codemirror_mode": {
    "name": "ipython",
    "version": 3
   },
   "file_extension": ".py",
   "mimetype": "text/x-python",
   "name": "python",
   "nbconvert_exporter": "python",
   "pygments_lexer": "ipython3",
   "version": "3.9.12"
  }
 },
 "nbformat": 4,
 "nbformat_minor": 5
}
