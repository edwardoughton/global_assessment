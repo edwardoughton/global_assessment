{
 "cells": [
  {
   "cell_type": "markdown",
   "id": "134e3387",
   "metadata": {},
   "source": [
    "# Variables"
   ]
  },
  {
   "cell_type": "markdown",
   "id": "b79c0016",
   "metadata": {},
   "source": [
    "A variable is a name used to store data \n",
    "\n",
    "This could be any type of data, dataframe etc. but here we will consider numerical  values. \n",
    "\n",
    "You can allocate a number to a variable name by using the equals sign.\n",
    "\n",
    "How would you allocate the value twelve to the letter a?"
   ]
  },
  {
   "cell_type": "code",
   "execution_count": null,
   "id": "6dd21b78",
   "metadata": {},
   "outputs": [],
   "source": [
    "# Example\n",
    "a = 12\n",
    "a"
   ]
  },
  {
   "cell_type": "markdown",
   "id": "b62ab19b",
   "metadata": {},
   "source": [
    "You can also allocate multiple values to multiple variables at once. \n",
    "\n",
    "So for example, you can use a comma to separate the variable names and the values. "
   ]
  },
  {
   "cell_type": "code",
   "execution_count": null,
   "id": "900de336",
   "metadata": {},
   "outputs": [],
   "source": [
    "# Example\n",
    "b, c = 2, 3\n",
    "print(b, c)\n",
    "print(b * c)\n",
    "print(c - b)"
   ]
  },
  {
   "cell_type": "markdown",
   "id": "3efdda89",
   "metadata": {},
   "source": [
    "So remember, the equals sign (\"=\") is the **assignment operator**. \n",
    "\n",
    "- In the first example, we assign *12* to the variable *a*. \n",
    "- In the second case, we assign a value of 2 to the variable *b*. \n",
    "- In the third case, we a value of 3 to the variable *c*.\n",
    "\n",
    "More specifically, the variable name (such as *a*) is associated with a memory location in your computer (that's what's happening under the hood!). "
   ]
  },
  {
   "cell_type": "markdown",
   "id": "a1e4b23b",
   "metadata": {},
   "source": [
    "<div class=\"alert alert-block alert-info\">\n",
    "    \n",
    "<b>Note:</b> Python stores the *numerical value* and not the expression used to generate it. Therefore, in the first cell, 12 is stored and not *a*. In fact, they are stored as binary numbers (0s and 1s) \n",
    "\n",
    "</div>"
   ]
  },
  {
   "cell_type": "markdown",
   "id": "eb6fda24",
   "metadata": {},
   "source": [
    "The following examples demonstrate the concept."
   ]
  },
  {
   "cell_type": "code",
   "execution_count": null,
   "id": "9db5a4cd",
   "metadata": {},
   "outputs": [],
   "source": [
    "a = 23 # let's assign 23 to a"
   ]
  },
  {
   "cell_type": "code",
   "execution_count": null,
   "id": "6ef6cd4c",
   "metadata": {},
   "outputs": [],
   "source": [
    "b = a # now let's assign a's value to b"
   ]
  },
  {
   "cell_type": "code",
   "execution_count": null,
   "id": "49da3ebd",
   "metadata": {},
   "outputs": [],
   "source": [
    "a # which must mean a = b "
   ]
  },
  {
   "cell_type": "code",
   "execution_count": null,
   "id": "eca9784d",
   "metadata": {},
   "outputs": [],
   "source": [
    "b"
   ]
  },
  {
   "cell_type": "code",
   "execution_count": null,
   "id": "363e3840",
   "metadata": {},
   "outputs": [],
   "source": [
    "a = 13 # now let's overwrite a with the value 13."
   ]
  },
  {
   "cell_type": "code",
   "execution_count": null,
   "id": "4fef108d",
   "metadata": {},
   "outputs": [],
   "source": [
    "a # which means a = 13"
   ]
  },
  {
   "cell_type": "code",
   "execution_count": null,
   "id": "18cbd036",
   "metadata": {},
   "outputs": [],
   "source": [
    "b # while b = 23"
   ]
  },
  {
   "cell_type": "markdown",
   "id": "2bb8e89c",
   "metadata": {},
   "source": [
    "<div class=\"alert alert-block alert-info\">\n",
    "    \n",
    "<b>Note:</b> The assignment variable works from right to left; i.e it assigns the value of the number on the right to the variable name on the left. \n",
    "Therefore, the statement \"6 = a\" does not make sense. \n",
    "\n",
    "The assignment operator is not equivalent to the equals sign in algebra. \n",
    "</div>"
   ]
  },
  {
   "cell_type": "markdown",
   "id": "baca31e0",
   "metadata": {},
   "source": [
    "The assigment operator can be used to increment, decrease or generally change the value of a variable."
   ]
  },
  {
   "cell_type": "code",
   "execution_count": null,
   "id": "cdce4e70",
   "metadata": {},
   "outputs": [],
   "source": [
    "a = 3"
   ]
  },
  {
   "cell_type": "code",
   "execution_count": null,
   "id": "07964df6",
   "metadata": {},
   "outputs": [],
   "source": [
    "a = a + 1"
   ]
  },
  {
   "cell_type": "code",
   "execution_count": null,
   "id": "c63c1a12",
   "metadata": {},
   "outputs": [],
   "source": [
    "a"
   ]
  },
  {
   "cell_type": "markdown",
   "id": "4ab3b868",
   "metadata": {},
   "source": [
    "In algebra, a = a + 1 is not logical. However, in python, it implies that we \"add 1\" to the current value of *a* and assign the results to *a*. \n",
    "\n",
    "This is a common operation in most programming languages using operations such as +=, -=, /= and *=. \n",
    "\n",
    "Remember, you can see more here: https://www.w3schools.com/python/python_operators.asp"
   ]
  },
  {
   "cell_type": "code",
   "execution_count": null,
   "id": "989fe57b",
   "metadata": {},
   "outputs": [],
   "source": [
    "e, f = 2, 3"
   ]
  },
  {
   "cell_type": "code",
   "execution_count": null,
   "id": "fa1c86b0",
   "metadata": {},
   "outputs": [],
   "source": [
    "e += 1  # we can add 1 and assign to an existing value simultaneously"
   ]
  },
  {
   "cell_type": "code",
   "execution_count": null,
   "id": "8f7fe56f",
   "metadata": {},
   "outputs": [],
   "source": [
    "e, f"
   ]
  },
  {
   "cell_type": "code",
   "execution_count": null,
   "id": "d5b5c158",
   "metadata": {},
   "outputs": [],
   "source": [
    "e *= 3 # just as we can multiply an existing value simultaneously"
   ]
  },
  {
   "cell_type": "code",
   "execution_count": null,
   "id": "0bac58f6",
   "metadata": {},
   "outputs": [],
   "source": [
    "e"
   ]
  },
  {
   "cell_type": "code",
   "execution_count": null,
   "id": "9040eab5",
   "metadata": {},
   "outputs": [],
   "source": [
    "f /= -2 # or divide an existing value simultaneously"
   ]
  },
  {
   "cell_type": "code",
   "execution_count": null,
   "id": "9ad0cea0",
   "metadata": {},
   "outputs": [],
   "source": [
    "f"
   ]
  },
  {
   "cell_type": "code",
   "execution_count": null,
   "id": "74ae72e3",
   "metadata": {},
   "outputs": [],
   "source": [
    "f -= 4 # or even subtract!"
   ]
  },
  {
   "cell_type": "code",
   "execution_count": null,
   "id": "0ce8b846",
   "metadata": {},
   "outputs": [],
   "source": [
    "f"
   ]
  },
  {
   "cell_type": "markdown",
   "id": "bfcad499",
   "metadata": {},
   "source": [
    "#### Legal and recommended variable names"
   ]
  },
  {
   "cell_type": "markdown",
   "id": "36039efe",
   "metadata": {},
   "source": [
    "Make sure you are aware that python has it's own style guide, known as the PEP 8 -- Style Guide for Python Code\n",
    "\n",
    "See here: https://www.python.org/dev/peps/pep-0008/\n",
    "\n",
    "Also be aware:\n",
    "\n",
    "1. Variable names must start with a letter but can then be followed by alphanumeric characters.\n",
    "2. Spaces are not allowed, instead you can use, for example, an underscore character \"_\".\n",
    "3. It is advisable to write variable names in small case since python is case sensitive.\n",
    "4. It is recommended that variable names should be descriptive as in following examples. "
   ]
  },
  {
   "cell_type": "code",
   "execution_count": null,
   "id": "8a378832",
   "metadata": {},
   "outputs": [],
   "source": [
    "# Examples:\n",
    "speed_of_light = 3.0*10**8 #variable to store speed of light\n",
    "frequency_of_GPS_satellite = 1575.42*10**6 #variable to store frequency\n",
    "wavelength = speed_of_light/frequency_of_GPS_satellite #calculate the wavelength from above variables\n",
    "speed_of_light, frequency_of_GPS_satellite, wavelength"
   ]
  },
  {
   "cell_type": "markdown",
   "id": "4bec21de",
   "metadata": {},
   "source": [
    "Remember: Anything written to the right of the pound sign ('#') in an active Python cell is commented out.\n",
    "\n",
    "And thus not run by the console! \n",
    "\n",
    "Adding comments to code is really important as it helps you remember why you did certain things. "
   ]
  },
  {
   "cell_type": "markdown",
   "id": "c7006516",
   "metadata": {},
   "source": [
    "#### Reserved words "
   ]
  },
  {
   "cell_type": "markdown",
   "id": "6d463be6",
   "metadata": {},
   "source": [
    "Some words and names are reserved by Python for special functions and purposes and must be avoided.\n",
    "\n",
    "In python, such words should automatically change color to green, purple or any other color depending on the editor one is using. \n",
    "\n",
    "Examples of such words include and, as, assert, break, class, continue, def, del, elif, else, except,exec, finally, for, from, global, if, import, in, is, lambda, not, or, pass, print, raise, return, try, while, with, yield*\n",
    "\n",
    "Examine the color of the reserved words below in this simple loop:"
   ]
  },
  {
   "cell_type": "code",
   "execution_count": null,
   "id": "83f182f0",
   "metadata": {
    "scrolled": true
   },
   "outputs": [],
   "source": [
    "for i in range(0,3):\n",
    "    print(i)"
   ]
  },
  {
   "cell_type": "markdown",
   "id": "4cb3b565",
   "metadata": {},
   "source": [
    "# Exercise\n"
   ]
  },
  {
   "cell_type": "markdown",
   "id": "e03de3f1",
   "metadata": {},
   "source": [
    "The distance to DC from GMU Fairfax campus is ~20 miles. \n",
    "\n",
    "Create a variable called `distance_miles` and allocate the value 20:"
   ]
  },
  {
   "cell_type": "code",
   "execution_count": null,
   "id": "f6affb57",
   "metadata": {},
   "outputs": [],
   "source": [
    "#Enter your attempt below:\n"
   ]
  },
  {
   "cell_type": "markdown",
   "id": "6e901b1a",
   "metadata": {},
   "source": [
    "One mile equates to approximately 1.6 kilometers.\n",
    "\n",
    "Create a variable called `miles_to_kilometers` and allocate the value 1.6."
   ]
  },
  {
   "cell_type": "code",
   "execution_count": null,
   "id": "d3066136",
   "metadata": {},
   "outputs": [],
   "source": [
    "#Enter your attempt below:\n"
   ]
  },
  {
   "cell_type": "markdown",
   "id": "2182b30e",
   "metadata": {},
   "source": [
    "Now multiply the `distance_miles` variable by the `miles_to_kilometers` variable, to get the estimated distance in metric kilometers. Make sure you use the variable names, not the values provided.\n",
    "\n",
    "Print the result to the console:"
   ]
  },
  {
   "cell_type": "code",
   "execution_count": null,
   "id": "b531db23",
   "metadata": {},
   "outputs": [],
   "source": [
    "#Enter your attempt below:\n"
   ]
  },
  {
   "cell_type": "markdown",
   "id": "71600caa",
   "metadata": {},
   "source": [
    "You decide to stop off at Chantilly, VA, on your way, which means your return trip to DC is now an extra ~10 miles longer.\n",
    "\n",
    "Add an extra 10 miles to the `distance_miles` variable, and print the result to the console. "
   ]
  },
  {
   "cell_type": "code",
   "execution_count": null,
   "id": "3cc7726c",
   "metadata": {},
   "outputs": [],
   "source": [
    "#Enter your attempt below:\n"
   ]
  },
  {
   "cell_type": "markdown",
   "id": "6d395bfb",
   "metadata": {},
   "source": [
    "Now convert this distance to metric kilometers, using the `miles_to_kilometers` variable.\n",
    "\n",
    "Print the result to the console:"
   ]
  },
  {
   "cell_type": "code",
   "execution_count": null,
   "id": "02e7f83c",
   "metadata": {},
   "outputs": [],
   "source": [
    "#Enter your attempt below:\n"
   ]
  }
 ],
 "metadata": {
  "kernelspec": {
   "display_name": "Python 3",
   "language": "python",
   "name": "python3"
  },
  "language_info": {
   "codemirror_mode": {
    "name": "ipython",
    "version": 3
   },
   "file_extension": ".py",
   "mimetype": "text/x-python",
   "name": "python",
   "nbconvert_exporter": "python",
   "pygments_lexer": "ipython3",
   "version": "3.9.12"
  }
 },
 "nbformat": 4,
 "nbformat_minor": 5
}
