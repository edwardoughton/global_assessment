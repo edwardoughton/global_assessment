{
 "cells": [
  {
   "cell_type": "markdown",
   "id": "cd1699c3",
   "metadata": {},
   "source": [
    "# Python as a Calculator"
   ]
  },
  {
   "cell_type": "markdown",
   "id": "d24de217",
   "metadata": {},
   "source": [
    "Python can be used to perfrom simple arithmetic functions, as we will cover here.\n",
    "\n",
    "However, you need to understand Python operators (don't worry, their easy!).\n",
    "\n",
    "Frequent operators include:\n",
    "    - Addition (+)\n",
    "    - Substraction (-)\n",
    "    - Multiplication (*)\n",
    "    - Divsion (/)\n",
    "    - Power (**)\n",
    "    \n",
    "See more here: https://www.w3schools.com/python/python_operators.asp"
   ]
  },
  {
   "cell_type": "code",
   "execution_count": null,
   "id": "c1601e9d",
   "metadata": {},
   "outputs": [],
   "source": [
    "# Addition\n",
    "\n",
    "1 + 1"
   ]
  },
  {
   "cell_type": "code",
   "execution_count": null,
   "id": "ed5a0160",
   "metadata": {},
   "outputs": [],
   "source": [
    "# Subtraction\n",
    "\n",
    "2 - 1 "
   ]
  },
  {
   "cell_type": "code",
   "execution_count": null,
   "id": "12beba06",
   "metadata": {},
   "outputs": [],
   "source": [
    "# Multiplication\n",
    "\n",
    "2 * 2"
   ]
  },
  {
   "cell_type": "code",
   "execution_count": null,
   "id": "dfc57468",
   "metadata": {},
   "outputs": [],
   "source": [
    "# Division\n",
    "\n",
    "4 / 2"
   ]
  },
  {
   "cell_type": "code",
   "execution_count": null,
   "id": "1d406055",
   "metadata": {},
   "outputs": [],
   "source": [
    "# Power\n",
    "\n",
    "3 ** 3"
   ]
  },
  {
   "cell_type": "code",
   "execution_count": null,
   "id": "6b344ac7",
   "metadata": {},
   "outputs": [],
   "source": [
    "# Remember parantheses can be used but need to be worked out in order \n",
    "# (e.g. BODMAS, BIDMAS and PEMDAS or whatever version you were taught)\n",
    "\n",
    "8 / (2 * 2)"
   ]
  },
  {
   "cell_type": "code",
   "execution_count": null,
   "id": "3539bfa6",
   "metadata": {},
   "outputs": [],
   "source": [
    "# If you fail to use the correct order, you can end up with the wrong result!\n",
    "\n",
    "8 / 2 * 2"
   ]
  },
  {
   "cell_type": "code",
   "execution_count": null,
   "id": "d1f1a281",
   "metadata": {},
   "outputs": [],
   "source": [
    "# Floor division estimates the number of times a whole number divides into another number\n",
    "\n",
    "21 // 5"
   ]
  },
  {
   "cell_type": "code",
   "execution_count": null,
   "id": "1b094c06",
   "metadata": {},
   "outputs": [],
   "source": [
    "# Modulo Operator returns the remaining quantity after a division\n",
    "\n",
    "21 % 5"
   ]
  },
  {
   "cell_type": "code",
   "execution_count": null,
   "id": "f9bd43b3",
   "metadata": {},
   "outputs": [],
   "source": [
    "# A handy shortcut which is usful in both Python and Excel is writing out long numbers using scientific notation.\n",
    "# For example, one thousand can be written out using the number one, followed by the letter 'e' to indicate this \n",
    "# is scientific notation, and then the number of following zeros. \n",
    "# Scientific notation = 1 thousand\n",
    "1e3"
   ]
  },
  {
   "cell_type": "code",
   "execution_count": null,
   "id": "bc3ff1e1",
   "metadata": {},
   "outputs": [],
   "source": [
    "# Scientific notation = 1 million\n",
    "1e6"
   ]
  },
  {
   "cell_type": "markdown",
   "id": "24b18135",
   "metadata": {},
   "source": [
    "## Exercise 1\n",
    "\n",
    "Work through the following tasks and have a go at obtaining the answers. "
   ]
  },
  {
   "cell_type": "markdown",
   "id": "1666cd86",
   "metadata": {},
   "source": [
    "How would you add five plus five in Python?"
   ]
  },
  {
   "cell_type": "code",
   "execution_count": null,
   "id": "74662240",
   "metadata": {},
   "outputs": [],
   "source": [
    "#Enter your attempt below:\n"
   ]
  },
  {
   "cell_type": "markdown",
   "id": "783178d5",
   "metadata": {},
   "source": [
    "How would you write three plus four minus two?"
   ]
  },
  {
   "cell_type": "code",
   "execution_count": null,
   "id": "7e457dc1",
   "metadata": {},
   "outputs": [],
   "source": [
    "#Enter your attempt below:\n"
   ]
  },
  {
   "cell_type": "markdown",
   "id": "702e0fcc",
   "metadata": {},
   "source": [
    "How would you multiply five by five?:"
   ]
  },
  {
   "cell_type": "code",
   "execution_count": null,
   "id": "c5ffc633",
   "metadata": {},
   "outputs": [],
   "source": [
    "#Enter your attempt below:\n"
   ]
  },
  {
   "cell_type": "markdown",
   "id": "ac50be21",
   "metadata": {},
   "source": [
    "There are multiple ways you could write five multiplied by five. \n",
    "\n",
    "How would you raise five to the power of 2! "
   ]
  },
  {
   "cell_type": "code",
   "execution_count": null,
   "id": "fb75a4bd",
   "metadata": {},
   "outputs": [],
   "source": [
    "#Enter your attempt below:\n"
   ]
  },
  {
   "cell_type": "markdown",
   "id": "8265ef71",
   "metadata": {},
   "source": [
    "How would you divide the number ten by two?"
   ]
  },
  {
   "cell_type": "code",
   "execution_count": null,
   "id": "777732fb",
   "metadata": {},
   "outputs": [],
   "source": [
    "#Enter your attempt below:\n"
   ]
  },
  {
   "cell_type": "markdown",
   "id": "c086d0be",
   "metadata": {},
   "source": [
    "How would you divide ten by three using floor division? "
   ]
  },
  {
   "cell_type": "code",
   "execution_count": null,
   "id": "f3103868",
   "metadata": {},
   "outputs": [],
   "source": [
    "#Enter your attempt below:\n"
   ]
  },
  {
   "cell_type": "markdown",
   "id": "c2f00e05",
   "metadata": {},
   "source": [
    "If we divide twelve by five using the modulo operation, what answer do you think you will get? And why?"
   ]
  },
  {
   "cell_type": "code",
   "execution_count": null,
   "id": "e50931f9",
   "metadata": {},
   "outputs": [],
   "source": [
    "#Enter your attempt below:\n"
   ]
  },
  {
   "cell_type": "markdown",
   "id": "01abc3ac",
   "metadata": {},
   "source": [
    "Using scientific notation how would you enter 1 billion?"
   ]
  },
  {
   "cell_type": "code",
   "execution_count": null,
   "id": "b531c472",
   "metadata": {},
   "outputs": [],
   "source": [
    "#Enter your attempt below:\n"
   ]
  },
  {
   "cell_type": "markdown",
   "id": "f807b1ca",
   "metadata": {},
   "source": [
    "Using scientific notation how would you enter 1 trillion?"
   ]
  },
  {
   "cell_type": "markdown",
   "id": "12aed3a1",
   "metadata": {},
   "source": [
    "<div class=\"alert alert-block alert-warning\">\n",
    "\n",
    "<b>!! Note !!</b> More complicated calculations can be done by combining these operations. Eg.\n",
    "\n",
    "</div>"
   ]
  },
  {
   "cell_type": "markdown",
   "id": "db207735",
   "metadata": {},
   "source": [
    "What number would you get if you summed six and twenty one, and the multiplied it by 2, and divided by three?\n",
    "\n",
    "Have a go below:"
   ]
  },
  {
   "cell_type": "code",
   "execution_count": null,
   "id": "09b6fdea",
   "metadata": {},
   "outputs": [],
   "source": [
    "#Enter your attempt below:\n"
   ]
  }
 ],
 "metadata": {
  "kernelspec": {
   "display_name": "Python 3",
   "language": "python",
   "name": "python3"
  },
  "language_info": {
   "codemirror_mode": {
    "name": "ipython",
    "version": 3
   },
   "file_extension": ".py",
   "mimetype": "text/x-python",
   "name": "python",
   "nbconvert_exporter": "python",
   "pygments_lexer": "ipython3",
   "version": "3.9.12"
  }
 },
 "nbformat": 4,
 "nbformat_minor": 5
}
