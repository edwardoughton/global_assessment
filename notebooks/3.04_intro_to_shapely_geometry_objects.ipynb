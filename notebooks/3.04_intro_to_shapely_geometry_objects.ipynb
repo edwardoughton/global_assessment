{
 "cells": [
  {
   "cell_type": "markdown",
   "id": "3823fe46",
   "metadata": {},
   "source": [
    "# Intro to `Shapely` geometry objects\n",
    "\n",
    "Prior to working with geopandas dataframes, we need to cover some basic spatial context on geometries (e.g. points, linestrings, polygons etc.).\n",
    "\n",
    "In Python, one of the main ways to handle geometry objects is via the package `Shapely`, which has a specific spatial model for handing different types of geometric objects. \n",
    "\n",
    "*The fundamental types of geometric objects implemented by Shapely are points, curves, and surfaces. Each is associated with three sets of (possibly infinite) points in the plane.* \n",
    "\n",
    "`Shapely` allows us to:\n",
    "\n",
    "- Assess relationships between different things (e.g. geometric objects)\n",
    "     - contains, intersection, touching, overlapping\n",
    "- Carry out operations between different things (e.g. geometric objects)  \n",
    "     - constructive (buffer, convex hull) and set-theoretic operations (intersection, union, etc.)\n",
    "     \n",
    "See here for more info: https://shapely.readthedocs.io/en/stable/manual.html\n",
    "\n"
   ]
  },
  {
   "cell_type": "markdown",
   "id": "082a2eee",
   "metadata": {},
   "source": [
    "## Points\n",
    "\n",
    "According to `Shapely`: *A Point has an interior set of exactly one point, a boundary set of exactly no points, and an exterior set of all other points. A Point has a topological dimension of 0.*\n",
    "\n",
    "An easier way to think of a point is as a mere set of coordinates:\n",
    "\n",
    "    - (1, 3)\n",
    "    - (4.34, 9.12)\n",
    "    - (0.10204, -1.09279)\n",
    "\n",
    "`Shapely` enables us to create these as a `Shapely` object\n"
   ]
  },
  {
   "cell_type": "markdown",
   "id": "1ff37904",
   "metadata": {},
   "source": [
    "First, let's install `Shapely` into our current environment. "
   ]
  },
  {
   "cell_type": "code",
   "execution_count": null,
   "id": "7fb17fbf",
   "metadata": {},
   "outputs": [],
   "source": [
    "# # Example\n",
    "# import sys\n",
    "# !conda install --yes --prefix {sys.prefix} shapely\n",
    "import shapely"
   ]
  },
  {
   "cell_type": "markdown",
   "id": "d7472f36",
   "metadata": {},
   "source": [
    "Next, let's load from `Shapely` the `Point` function, which enables us to create point geometry objects."
   ]
  },
  {
   "cell_type": "code",
   "execution_count": null,
   "id": "41284895",
   "metadata": {},
   "outputs": [],
   "source": [
    "# Example\n",
    "from shapely.geometry import Point  #import Point function\n",
    "\n",
    "my_point = Point(1.15, 2.43) #provide coordinates to point function\n",
    "\n",
    "print(my_point)"
   ]
  },
  {
   "cell_type": "markdown",
   "id": "b5459b71",
   "metadata": {},
   "source": [
    "In `Jupyter`, we can also view the point in geographic space, which might help you understand the differences between points, lines and polygons more easily."
   ]
  },
  {
   "cell_type": "code",
   "execution_count": null,
   "id": "3b0b1285",
   "metadata": {},
   "outputs": [],
   "source": [
    "# Example\n",
    "my_point = Point(1.15, 2.43)\n",
    "my_point"
   ]
  },
  {
   "cell_type": "markdown",
   "id": "adedd965",
   "metadata": {},
   "source": [
    "`Shapely` also allows us to check what type of geometry we have specified our object to be, using the `.geom_type` function (geom is short for geometry)."
   ]
  },
  {
   "cell_type": "code",
   "execution_count": null,
   "id": "1391df4c",
   "metadata": {},
   "outputs": [],
   "source": [
    "# Example\n",
    "my_point.geom_type"
   ]
  },
  {
   "cell_type": "markdown",
   "id": "cdbda1bf",
   "metadata": {},
   "source": [
    "We can use this function repeatedly, to make lots of different `Shapely` geometry objects (let's try create `my_point2` from the coordinate x=2 and y=3):"
   ]
  },
  {
   "cell_type": "code",
   "execution_count": null,
   "id": "16bfe6ad",
   "metadata": {},
   "outputs": [],
   "source": [
    "# Example\n",
    "my_point2 = Point(2, 3)\n",
    "print(my_point2)"
   ]
  },
  {
   "cell_type": "markdown",
   "id": "2f9ec563",
   "metadata": {},
   "source": [
    "Now we have two different points, we can used `Shapely` to do very usful things, like measure the distance between them using the `.distance()` function."
   ]
  },
  {
   "cell_type": "code",
   "execution_count": null,
   "id": "8cb6554d",
   "metadata": {},
   "outputs": [],
   "source": [
    "# Example\n",
    "dist = my_point.distance(my_point2)\n",
    "dist"
   ]
  },
  {
   "cell_type": "markdown",
   "id": "902d878c",
   "metadata": {},
   "source": [
    "Although `Shapely` does a lot, the thing to remember is that it treats all geometry objects as being in the same coordinate reference system. So you need to remember that, otherwise you may produce erroneous results (e.g., the distance between a point in epsg:4326 and a point in WGS epsg:3857, will be completely wrong, as you're mixing coordinates measured in decimel degrees and meters). "
   ]
  },
  {
   "cell_type": "markdown",
   "id": "ac97de31",
   "metadata": {},
   "source": [
    "Importantly, a `Point`, as just a single coordinate, will have zero area and zero length:"
   ]
  },
  {
   "cell_type": "code",
   "execution_count": null,
   "id": "ab521682",
   "metadata": {},
   "outputs": [],
   "source": [
    "# Example\n",
    "print(my_point.area, my_point.length)"
   ]
  },
  {
   "cell_type": "markdown",
   "id": "80b4d25f",
   "metadata": {},
   "source": [
    "Moreover, the x-y bounding box with be a tuple containing `minx`, `miny`, `maxx` and `maxy`. "
   ]
  },
  {
   "cell_type": "code",
   "execution_count": null,
   "id": "d18d26af",
   "metadata": {},
   "outputs": [],
   "source": [
    "# Example\n",
    "print(my_point.bounds)"
   ]
  },
  {
   "cell_type": "markdown",
   "id": "e8107f55",
   "metadata": {},
   "source": [
    "If we need to, we can still access the underlying coordinates from our `Shapley` geometry object."
   ]
  },
  {
   "cell_type": "code",
   "execution_count": null,
   "id": "1fcd4abe",
   "metadata": {},
   "outputs": [],
   "source": [
    "#Example \n",
    "print(my_point.coords) # Shaple geometry object\n",
    "print(list(my_point.coords)) # List of Shapely coordinates"
   ]
  },
  {
   "cell_type": "markdown",
   "id": "043b8a11",
   "metadata": {},
   "source": [
    "# Exercise\n",
    "\n",
    "Now let's put this knowledge to work. \n",
    "\n",
    "Create a new set of points with the following coordinates, and print the geometry objects:\n",
    "\n",
    "    - x = 4, y = 8 (p1)\n",
    "    - x = 2, y = 4 (p2)"
   ]
  },
  {
   "cell_type": "code",
   "execution_count": null,
   "id": "a0f07ab5",
   "metadata": {},
   "outputs": [],
   "source": [
    "#Enter your attempt below:\n"
   ]
  },
  {
   "cell_type": "markdown",
   "id": "a7bfb4ee",
   "metadata": {},
   "source": [
    "Check the geometry types of your object:"
   ]
  },
  {
   "cell_type": "code",
   "execution_count": null,
   "id": "83989a3c",
   "metadata": {},
   "outputs": [],
   "source": [
    "#Enter your attempt below:\n"
   ]
  },
  {
   "cell_type": "markdown",
   "id": "0d7f1662",
   "metadata": {},
   "source": [
    "Can you confirm the area and length of your points?"
   ]
  },
  {
   "cell_type": "code",
   "execution_count": null,
   "id": "1ad1df78",
   "metadata": {},
   "outputs": [],
   "source": [
    "#Enter your attempt below:\n"
   ]
  },
  {
   "cell_type": "markdown",
   "id": "717d407e",
   "metadata": {},
   "source": [
    "Now try measure the distance between your two points:"
   ]
  },
  {
   "cell_type": "code",
   "execution_count": null,
   "id": "a924d7ae",
   "metadata": {},
   "outputs": [],
   "source": [
    "#Enter your attempt below:\n"
   ]
  },
  {
   "cell_type": "markdown",
   "id": "956cd5a0",
   "metadata": {},
   "source": [
    "Print the bounds of the two point and inspect the results:"
   ]
  },
  {
   "cell_type": "code",
   "execution_count": null,
   "id": "4e3d7d2b",
   "metadata": {},
   "outputs": [],
   "source": [
    "#Enter your attempt below:\n"
   ]
  },
  {
   "cell_type": "markdown",
   "id": "0a482d1d",
   "metadata": {},
   "source": [
    "## Lines\n",
    "\n",
    "More precisely named 'linestrings', these objects contain at least two points.\n",
    "\n",
    "`Shapely` states: \n",
    "\n",
    "*The constructed LineString object represents one or more connected linear splines between the points. Repeated points in the ordered sequence are allowed, but may incur performance penalties and should be avoided. A LineString may cross itself (i.e. be complex and not simple).*\n",
    "\n",
    "Let's have a go at creating our first `linestring`:"
   ]
  },
  {
   "cell_type": "code",
   "execution_count": null,
   "id": "a15ff8f2",
   "metadata": {},
   "outputs": [],
   "source": [
    "# Example\n",
    "from shapely.geometry import LineString   #import linestring function\n",
    "\n",
    "my_line = LineString([(2,3), (3, 4)])   #provide list of coordinate points to function\n",
    "\n",
    "print(my_line)\n",
    "my_line"
   ]
  },
  {
   "cell_type": "markdown",
   "id": "4439be6b",
   "metadata": {},
   "source": [
    "Let's confirm that:"
   ]
  },
  {
   "cell_type": "code",
   "execution_count": null,
   "id": "a51a9f76",
   "metadata": {},
   "outputs": [],
   "source": [
    "# Example\n",
    "my_line.geom_type"
   ]
  },
  {
   "cell_type": "markdown",
   "id": "95f54354",
   "metadata": {},
   "source": [
    "We have similar functionality to the `Point` objects we played with previously. \n",
    "\n",
    "For example, a line with have a zero area:"
   ]
  },
  {
   "cell_type": "code",
   "execution_count": null,
   "id": "f38b25e6",
   "metadata": {},
   "outputs": [],
   "source": [
    "# Example\n",
    "my_line.area"
   ]
  },
  {
   "cell_type": "markdown",
   "id": "14fc2b4a",
   "metadata": {},
   "source": [
    "But in contrast, a line will have a clear length:"
   ]
  },
  {
   "cell_type": "code",
   "execution_count": null,
   "id": "3ffddcbd",
   "metadata": {},
   "outputs": [],
   "source": [
    "# Example\n",
    "my_line.length # Your units depend on the coordinate reference system!"
   ]
  },
  {
   "cell_type": "markdown",
   "id": "e19672fe",
   "metadata": {},
   "source": [
    "And a line has the following bounds:"
   ]
  },
  {
   "cell_type": "code",
   "execution_count": null,
   "id": "14665cd6",
   "metadata": {},
   "outputs": [],
   "source": [
    "# Example\n",
    "my_line.bounds"
   ]
  },
  {
   "cell_type": "markdown",
   "id": "c111dad7",
   "metadata": {},
   "source": [
    "Finally, we can access the coordinates within our `Shapely` object easily:"
   ]
  },
  {
   "cell_type": "code",
   "execution_count": null,
   "id": "dc93d097",
   "metadata": {},
   "outputs": [],
   "source": [
    "# Example\n",
    "print(list(my_line.coords))"
   ]
  },
  {
   "cell_type": "markdown",
   "id": "7fd2ea4e",
   "metadata": {},
   "source": [
    "## Exercise\n",
    "\n",
    "Now let's implement what we learned in this section on lines.\n",
    "\n",
    "Create lines using the following coordinates:\n",
    "\n",
    "    - x1=2, y1=2, x2=4, y2=4, x3=2.5, y3=3.5 (simple_line)\n",
    "    - x1=4, y1=4, x2=2, y2=2, x3=2.5, y3=3.5, x4=4, y4=2 (complex_line)\n"
   ]
  },
  {
   "cell_type": "code",
   "execution_count": null,
   "id": "16f0c56d",
   "metadata": {},
   "outputs": [],
   "source": [
    "#Enter your attempt below:\n"
   ]
  },
  {
   "cell_type": "markdown",
   "id": "b90ad7a7",
   "metadata": {},
   "source": [
    "Find the area and length of these two lines and print the results:\n",
    "    "
   ]
  },
  {
   "cell_type": "code",
   "execution_count": null,
   "id": "0f696011",
   "metadata": {},
   "outputs": [],
   "source": [
    "#Enter your attempt below:\n"
   ]
  },
  {
   "cell_type": "markdown",
   "id": "2f97e530",
   "metadata": {},
   "source": [
    "Find the bounds of these two lines and print the results:"
   ]
  },
  {
   "cell_type": "code",
   "execution_count": null,
   "id": "d7ede200",
   "metadata": {},
   "outputs": [],
   "source": [
    "#Enter your attempt below:\n"
   ]
  },
  {
   "cell_type": "markdown",
   "id": "9fd05575",
   "metadata": {},
   "source": [
    "## Polygons"
   ]
  },
  {
   "cell_type": "markdown",
   "id": "54e25c24",
   "metadata": {},
   "source": [
    "A polygon can be thought of practically as a collection of tuple points forming a closed shape. \n",
    "\n",
    "For example, in geometry:\n",
    "\n",
    "*...a polygon is a plane figure that is described by a finite number of straight line segments connected to form a closed polygonal chain*\n",
    "\n",
    "In `Shapely`, a `Polygon` function is:\n",
    "\n",
    "*A constructor taking two positional parameters. The first is an ordered sequence of (x, y[, z]) point tuples and is treated exactly as in the LinearRing case. The second is an optional unordered sequence of ring-like sequences specifying the interior boundaries or “holes” of the feature.*\n",
    "\n",
    "Let's explore what this means further using the `Polygon` `Shapely` function:\n"
   ]
  },
  {
   "cell_type": "code",
   "execution_count": null,
   "id": "adb6f022",
   "metadata": {},
   "outputs": [],
   "source": [
    "# Example\n",
    "from shapely.geometry import Polygon    #import polygon function\n",
    "\n",
    "my_polygon = Polygon([(2,2), (3, 3), (2, 3), (2,2)])   #provide function list of coordinate points\n",
    "\n",
    "print(my_polygon)"
   ]
  },
  {
   "cell_type": "markdown",
   "id": "5ca9393a",
   "metadata": {},
   "source": [
    "Let's confirm that:"
   ]
  },
  {
   "cell_type": "code",
   "execution_count": null,
   "id": "20bdba9f",
   "metadata": {},
   "outputs": [],
   "source": [
    "# Example\n",
    "my_polygon.geom_type"
   ]
  },
  {
   "cell_type": "markdown",
   "id": "f34fea0b",
   "metadata": {},
   "source": [
    "We can also view this shape within `jupyter` as follows:"
   ]
  },
  {
   "cell_type": "code",
   "execution_count": null,
   "id": "2d032cc8",
   "metadata": {},
   "outputs": [],
   "source": [
    "# Example\n",
    "my_polygon # See how 3 is the minimum number of lines provided"
   ]
  },
  {
   "cell_type": "markdown",
   "id": "a7c4a556",
   "metadata": {},
   "source": [
    "We can then explore the (non-zero) area of our polygon using `.area`:"
   ]
  },
  {
   "cell_type": "code",
   "execution_count": null,
   "id": "9b85c5c9",
   "metadata": {},
   "outputs": [],
   "source": [
    "# Example\n",
    "area = my_polygon.area\n",
    "print(area)"
   ]
  },
  {
   "cell_type": "markdown",
   "id": "c4460e0a",
   "metadata": {},
   "source": [
    "And the (non-zero) length too using `.length`:"
   ]
  },
  {
   "cell_type": "code",
   "execution_count": null,
   "id": "eed5c8f2",
   "metadata": {},
   "outputs": [],
   "source": [
    "# Example\n",
    "length = my_polygon.length\n",
    "print(length)"
   ]
  },
  {
   "cell_type": "markdown",
   "id": "312cfe24",
   "metadata": {},
   "source": [
    "It is also possible to obtain the outer bounds of our polygon using `.bounds`:"
   ]
  },
  {
   "cell_type": "code",
   "execution_count": null,
   "id": "08822032",
   "metadata": {},
   "outputs": [],
   "source": [
    "# Example\n",
    "bounds = my_polygon.bounds\n",
    "print(bounds)"
   ]
  },
  {
   "cell_type": "markdown",
   "id": "01bf969d",
   "metadata": {},
   "source": [
    "We can also make a polygon with internal polygons too.\n",
    "\n",
    "Note how this time when we use the `Polygon` function, we supply the exterior list, followed by the interior coordinates as a list of lists:"
   ]
  },
  {
   "cell_type": "code",
   "execution_count": null,
   "id": "15b9556e",
   "metadata": {},
   "outputs": [],
   "source": [
    "exterior = [(0, 0), (0, 2), (2, 2), (2, 0), (0, 0)]\n",
    "interior = [(1, 0), (0.5, 0.5), (1, 1), (1.5, 0.5), (1, 0)][::-1]\n",
    "my_polygon2 = Polygon(exterior, [interior])\n",
    "my_polygon2"
   ]
  },
  {
   "cell_type": "markdown",
   "id": "06808443",
   "metadata": {},
   "source": [
    "We can then access the interior coordinates as we please: "
   ]
  },
  {
   "cell_type": "code",
   "execution_count": null,
   "id": "9da715cf",
   "metadata": {},
   "outputs": [],
   "source": [
    "# Example\n",
    "list(my_polygon2.interiors) #this is a Shapely object in a list"
   ]
  },
  {
   "cell_type": "code",
   "execution_count": null,
   "id": "04fa2ca0",
   "metadata": {},
   "outputs": [],
   "source": [
    "# Example\n",
    "list(my_polygon2.interiors)[0] #this is our actual Shapely object"
   ]
  },
  {
   "cell_type": "code",
   "execution_count": null,
   "id": "a2a940ba",
   "metadata": {},
   "outputs": [],
   "source": [
    "# Example\n",
    "list(my_polygon2.interiors[0].coords) #a list of coordinate tuples"
   ]
  },
  {
   "cell_type": "markdown",
   "id": "4d340e79",
   "metadata": {},
   "source": [
    "Or we can access the exterior coordinates as we please: "
   ]
  },
  {
   "cell_type": "code",
   "execution_count": null,
   "id": "50cfc513",
   "metadata": {
    "scrolled": true
   },
   "outputs": [],
   "source": [
    "# Example\n",
    "list(my_polygon2.exterior.coords)"
   ]
  },
  {
   "cell_type": "markdown",
   "id": "27f7623f",
   "metadata": {},
   "source": [
    "## Exercise\n",
    "\n",
    "We now need to recap on the content introduced for our `Shapely` `Polygon` function.\n",
    "\n",
    "First, create a polygon (called `my_polygon`) with the following tuples:\n",
    "    \n",
    "    - x=1, y=1\n",
    "    - x=1, y=4\n",
    "    - x=4, y=4\n",
    "    - x=4, y=1\n",
    "    - x=1, y=1\n"
   ]
  },
  {
   "cell_type": "code",
   "execution_count": null,
   "id": "d9bd3a8e",
   "metadata": {},
   "outputs": [],
   "source": [
    "#Enter your attempt below:\n"
   ]
  },
  {
   "cell_type": "markdown",
   "id": "920f5925",
   "metadata": {},
   "source": [
    "Now get the area of your polygon:"
   ]
  },
  {
   "cell_type": "code",
   "execution_count": null,
   "id": "4d2f52e9",
   "metadata": {},
   "outputs": [],
   "source": [
    "#Enter your attempt below:\n"
   ]
  },
  {
   "cell_type": "markdown",
   "id": "e72d36b0",
   "metadata": {},
   "source": [
    "And the bounds of your polygon:"
   ]
  },
  {
   "cell_type": "code",
   "execution_count": null,
   "id": "302e365f",
   "metadata": {},
   "outputs": [],
   "source": [
    "#Enter your attempt below:\n"
   ]
  },
  {
   "cell_type": "markdown",
   "id": "8808cbec",
   "metadata": {},
   "source": [
    "Along with the exterior coordinates:"
   ]
  },
  {
   "cell_type": "code",
   "execution_count": null,
   "id": "a8a60955",
   "metadata": {},
   "outputs": [],
   "source": [
    "#Enter your attempt below:\n"
   ]
  },
  {
   "cell_type": "markdown",
   "id": "c8c13aad",
   "metadata": {},
   "source": [
    "Secondly, add an inner polygon and call the total object `my_polygon2`, with the following coordinates:\n",
    "    \n",
    "    - x=1.5, y=1.5\n",
    "    - x=1.5, y=3.5\n",
    "    - x=3.5, y=3.5\n",
    "    - x=3.5, y=1.5\n",
    "    - x=1.5, y=1.5"
   ]
  },
  {
   "cell_type": "code",
   "execution_count": null,
   "id": "8f2b52ad",
   "metadata": {},
   "outputs": [],
   "source": [
    "#Enter your attempt below:\n"
   ]
  },
  {
   "cell_type": "markdown",
   "id": "73711f92",
   "metadata": {},
   "source": [
    "And now extract the exterior coordinates from `my_polygon2` and take the area. \n",
    "\n",
    "Hint: You need to extract the exterior coordinates, make a new polygon, and then take the area. "
   ]
  },
  {
   "cell_type": "code",
   "execution_count": null,
   "id": "a15fa8ac",
   "metadata": {},
   "outputs": [],
   "source": [
    "#Enter your attempt below:\n"
   ]
  },
  {
   "cell_type": "markdown",
   "id": "46781210",
   "metadata": {},
   "source": [
    "Compare this with the area for the interior coordinates from `my_polygon2`.\n",
    "\n",
    "Hint: You need to extract the interior coordinates, make a new polygon, and then take the area. "
   ]
  },
  {
   "cell_type": "code",
   "execution_count": null,
   "id": "c2916c68",
   "metadata": {},
   "outputs": [],
   "source": [
    "#Enter your attempt below:\n"
   ]
  }
 ],
 "metadata": {
  "kernelspec": {
   "display_name": "Python 3",
   "language": "python",
   "name": "python3"
  },
  "language_info": {
   "codemirror_mode": {
    "name": "ipython",
    "version": 3
   },
   "file_extension": ".py",
   "mimetype": "text/x-python",
   "name": "python",
   "nbconvert_exporter": "python",
   "pygments_lexer": "ipython3",
   "version": "3.9.12"
  }
 },
 "nbformat": 4,
 "nbformat_minor": 5
}
