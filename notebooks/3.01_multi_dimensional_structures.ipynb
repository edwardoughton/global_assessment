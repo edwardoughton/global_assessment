{
 "cells": [
  {
   "cell_type": "markdown",
   "id": "39e5ce81",
   "metadata": {},
   "source": [
    "# Multidimensional structures"
   ]
  },
  {
   "cell_type": "markdown",
   "id": "6b6bd751",
   "metadata": {},
   "source": [
    "Multidimensional structure are common and provide the ability for us to hold large quantities of data. This data can then either be exported as desired, or accessed in a very flexible way.   \n",
    "\n",
    "For example, using:\n",
    "\n",
    "    - A list of lists\n",
    "    - A list of tuples\n",
    "    - A list of dicts"
   ]
  },
  {
   "cell_type": "code",
   "execution_count": null,
   "id": "7c2cf225",
   "metadata": {},
   "outputs": [],
   "source": [
    "# Example\n",
    "# A list of lists: (remember lists of square brackets)\n",
    "\n",
    "my_list = [\n",
    "    ['USA', 'gid_2'],\n",
    "    ['Italy', 'gid_2'],\n",
    "    ['Rwanda','gid_1']\n",
    "]\n",
    "my_list"
   ]
  },
  {
   "cell_type": "code",
   "execution_count": null,
   "id": "c2441eca",
   "metadata": {},
   "outputs": [],
   "source": [
    "# Example:\n",
    "# A list of tuples: (remember tuples use normal parantheses/brackets)\n",
    "\n",
    "my_list_tuples = [\n",
    "    ('USA', 'gid_2'),\n",
    "    ('Italy', 'gid_2'),\n",
    "    ('Rwanda','gid_1')\n",
    "]\n",
    "my_list_tuples"
   ]
  },
  {
   "cell_type": "code",
   "execution_count": null,
   "id": "02008615",
   "metadata": {},
   "outputs": [],
   "source": [
    "# Example:\n",
    "# You can index them like normal lists\n",
    "my_list[0]"
   ]
  },
  {
   "cell_type": "code",
   "execution_count": null,
   "id": "fb633719",
   "metadata": {},
   "outputs": [],
   "source": [
    "# You can also iterate over them like a normal list using a loop:\n",
    "# Example   \n",
    "for i in my_list:\n",
    "    print(i)"
   ]
  },
  {
   "cell_type": "markdown",
   "id": "54e0e577",
   "metadata": {},
   "source": [
    "It's the same for the tuple list:"
   ]
  },
  {
   "cell_type": "code",
   "execution_count": null,
   "id": "ebe71e72",
   "metadata": {},
   "outputs": [],
   "source": [
    "# Example\n",
    "my_list_tuples[0]"
   ]
  },
  {
   "cell_type": "code",
   "execution_count": null,
   "id": "05867c0b",
   "metadata": {},
   "outputs": [],
   "source": [
    "# You can also iterate over them like a normal list using a loop:\n",
    "# Example   \n",
    "for i in my_list_tuples:\n",
    "    print(i)"
   ]
  },
  {
   "cell_type": "markdown",
   "id": "bac6f2c1",
   "metadata": {},
   "source": [
    "You can even start to include some logic in the loop:"
   ]
  },
  {
   "cell_type": "code",
   "execution_count": null,
   "id": "6d61ffc0",
   "metadata": {},
   "outputs": [],
   "source": [
    "# Example\n",
    "for i in my_list_tuples:  # So we're iterating over our list of tuples using a for loop.\n",
    "    if i[0] == 'USA':     # And placing an if function to see if the first item in each tuple is equal to 'USA'.\n",
    "        print(i[1])       # If it is, we print the associated tuple value."
   ]
  },
  {
   "cell_type": "markdown",
   "id": "8fe3c5ad",
   "metadata": {},
   "source": [
    "We can also present a list of dicts like so:"
   ]
  },
  {
   "cell_type": "code",
   "execution_count": null,
   "id": "9d1119be",
   "metadata": {},
   "outputs": [],
   "source": [
    "# Example\n",
    "my_list_of_dicts = [\n",
    "    {'item1': 'key1'},\n",
    "    {'item1': 'key1'}\n",
    "    \n",
    "]\n",
    "my_list_of_dicts"
   ]
  },
  {
   "cell_type": "markdown",
   "id": "3989bc82",
   "metadata": {},
   "source": [
    "Then we can add a new dict, as follows. Here we are basically adding two lists of dicts together (as we can easily do list1 + list2)."
   ]
  },
  {
   "cell_type": "code",
   "execution_count": null,
   "id": "da00f514",
   "metadata": {},
   "outputs": [],
   "source": [
    "# Example\n",
    "my_list_of_dicts = my_list_of_dicts + [{'item1': 'key1'}]\n",
    "print(my_list_of_dicts)"
   ]
  },
  {
   "cell_type": "markdown",
   "id": "250ee54b",
   "metadata": {},
   "source": [
    "You could alternatively use the following, where we use `.append()` to add our dict:"
   ]
  },
  {
   "cell_type": "code",
   "execution_count": null,
   "id": "6773d684",
   "metadata": {},
   "outputs": [],
   "source": [
    "# Example\n",
    "my_list_of_dicts.append({'item2': 'key2'})\n",
    "my_list_of_dicts"
   ]
  },
  {
   "cell_type": "markdown",
   "id": "2f456438",
   "metadata": {},
   "source": [
    "Then we can print each dict one at a time, by looping over our list."
   ]
  },
  {
   "cell_type": "code",
   "execution_count": null,
   "id": "5f6edabe",
   "metadata": {},
   "outputs": [],
   "source": [
    "# Example\n",
    "for item in my_list_of_dicts:\n",
    "    print(item)"
   ]
  },
  {
   "cell_type": "markdown",
   "id": "886acbe7",
   "metadata": {},
   "source": [
    "On reflection, you can just think of a list in this instance as our holding structure, in which we then place other lower order data structures such as dicts, tuples or lists. "
   ]
  },
  {
   "cell_type": "markdown",
   "id": "022c0769",
   "metadata": {},
   "source": [
    "## Exercise"
   ]
  },
  {
   "cell_type": "markdown",
   "id": "5b4000e2",
   "metadata": {},
   "source": [
    "Create a list of lists containing the following two lists:\n",
    "\n",
    "    - [1,2]\n",
    "    - [2,3]"
   ]
  },
  {
   "cell_type": "code",
   "execution_count": null,
   "id": "e5b638c1",
   "metadata": {},
   "outputs": [],
   "source": [
    "# Enter your attempt here\n"
   ]
  },
  {
   "cell_type": "markdown",
   "id": "42ca847f",
   "metadata": {},
   "source": [
    "Append this list to your list of lists:\n",
    "\n",
    "    - [3,4]"
   ]
  },
  {
   "cell_type": "code",
   "execution_count": null,
   "id": "df5cc1c1",
   "metadata": {},
   "outputs": [],
   "source": [
    "# Enter your attempt here\n"
   ]
  },
  {
   "cell_type": "markdown",
   "id": "14dedf8f",
   "metadata": {},
   "source": [
    "Now use a loop to print the content of your list of lists."
   ]
  },
  {
   "cell_type": "code",
   "execution_count": null,
   "id": "fd6ea19c",
   "metadata": {},
   "outputs": [],
   "source": [
    "# Enter your attempt here\n"
   ]
  },
  {
   "cell_type": "markdown",
   "id": "8818f8c9",
   "metadata": {},
   "source": [
    "Create a list of tuples containing the following two tuples:\n",
    "\n",
    "    - (1,2)\n",
    "    - (2,3)"
   ]
  },
  {
   "cell_type": "code",
   "execution_count": null,
   "id": "c5cace76",
   "metadata": {},
   "outputs": [],
   "source": [
    "# Enter your attempt here\n"
   ]
  },
  {
   "cell_type": "markdown",
   "id": "83f42144",
   "metadata": {},
   "source": [
    "Append this tuple to your list of tuples:\n",
    "\n",
    "    - (3,4)"
   ]
  },
  {
   "cell_type": "code",
   "execution_count": null,
   "id": "983fb32d",
   "metadata": {},
   "outputs": [],
   "source": [
    "# Enter your attempt here\n"
   ]
  },
  {
   "cell_type": "markdown",
   "id": "2d8520e2",
   "metadata": {},
   "source": [
    "Now use a loop to print the content of your list of tuples."
   ]
  },
  {
   "cell_type": "code",
   "execution_count": null,
   "id": "61cfeed9",
   "metadata": {},
   "outputs": [],
   "source": [
    "# Enter your attempt here\n"
   ]
  },
  {
   "cell_type": "markdown",
   "id": "6356bde2",
   "metadata": {},
   "source": [
    "Create a list of dicts containing the following two dicts:\n",
    "\n",
    "- {4,5}\n",
    "- {5,6}"
   ]
  },
  {
   "cell_type": "code",
   "execution_count": null,
   "id": "e38af0b5",
   "metadata": {},
   "outputs": [],
   "source": [
    "# Enter your attempt here\n"
   ]
  },
  {
   "cell_type": "markdown",
   "id": "79a228ff",
   "metadata": {},
   "source": [
    "Append this dict to your list of dicts:\n",
    "\n",
    "- {9,9}"
   ]
  },
  {
   "cell_type": "code",
   "execution_count": null,
   "id": "92f03fee",
   "metadata": {},
   "outputs": [],
   "source": [
    "# Enter your attempt here\n"
   ]
  },
  {
   "cell_type": "markdown",
   "id": "98ce975c",
   "metadata": {},
   "source": [
    "Now use a loop to print the content of your list of dicts."
   ]
  },
  {
   "cell_type": "code",
   "execution_count": null,
   "id": "e20b8605",
   "metadata": {},
   "outputs": [],
   "source": [
    "# Enter your attempt here\n"
   ]
  }
 ],
 "metadata": {
  "kernelspec": {
   "display_name": "Python 3",
   "language": "python",
   "name": "python3"
  },
  "language_info": {
   "codemirror_mode": {
    "name": "ipython",
    "version": 3
   },
   "file_extension": ".py",
   "mimetype": "text/x-python",
   "name": "python",
   "nbconvert_exporter": "python",
   "pygments_lexer": "ipython3",
   "version": "3.9.12"
  }
 },
 "nbformat": 4,
 "nbformat_minor": 5
}
